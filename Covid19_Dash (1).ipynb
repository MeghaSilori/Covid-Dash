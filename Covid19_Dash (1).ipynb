{
  "nbformat": 4,
  "nbformat_minor": 0,
  "metadata": {
    "colab": {
      "name": "Covid19_Dash.ipynb",
      "provenance": [],
      "collapsed_sections": []
    },
    "kernelspec": {
      "name": "python3",
      "display_name": "Python 3"
    }
  },
  "cells": [
    {
      "cell_type": "markdown",
      "metadata": {
        "id": "1cFhqAmi-L-a"
      },
      "source": [
        "## COVID-19\n",
        "\n",
        "The **coronavirus (COVID-19)** pandemic is the greatest global humanitarian challenge the world has faced since World War II. The pandemic virus has spread widely, and the number of cases is rising daily. The government is working to slow down its spread.\n",
        "\n",
        "'Novel coronavirus' is a new, previously unidentified strain of coronavirus. The novel coronavirus involved in the current outbreak has been named SARS-CoV-2 by the World Health Organization (WHO). 3The disease it causes has been named “coronavirus disease 2019” (or “COVID-19”).`\n",
        "\n",
        "   ![Coronavirus particle Image](https://media.istockphoto.com/vectors/corona-virus-covid19-banner-illustration-protective-medical-mask-and-vector-id1224508827?k=6&m=1224508827&s=170667a&w=0&h=fytt2oRlwlpfjuo_n3Nq9HE5xvgYyWIoRBAetJCIjac=)"
      ]
    },
    {
      "cell_type": "markdown",
      "metadata": {
        "id": "hAkw1hxoU_aV"
      },
      "source": [
        "####Importing the libraries"
      ]
    },
    {
      "cell_type": "code",
      "metadata": {
        "id": "hBGJwn6JCO0X"
      },
      "source": [
        "import plotly.graph_objects as go\n",
        "from plotly.subplots import make_subplots\n",
        "import pandas as pd\n",
        "import requests\n",
        "from datetime import datetime\n",
        "\n",
        "raw= requests.get(\"https://services1.arcgis.com/0MSEUqKaxRlEPj5g/arcgis/rest/services/Coronavirus_2019_nCoV_Cases/FeatureServer/1/query?where=1%3D1&outFields=*&outSR=4326&f=json\")\n",
        "raw_json = raw.json()\n",
        "df = pd.DataFrame(raw_json[\"features\"])"
      ],
      "execution_count": 3,
      "outputs": []
    },
    {
      "cell_type": "code",
      "metadata": {
        "colab": {
          "base_uri": "https://localhost:8080/",
          "height": 204
        },
        "id": "dnUwxby8COJH",
        "outputId": "61c17b87-76e6-4c93-dd18-872a60588c47"
      },
      "source": [
        "df.head()"
      ],
      "execution_count": 4,
      "outputs": [
        {
          "output_type": "execute_result",
          "data": {
            "text/html": [
              "<div>\n",
              "<style scoped>\n",
              "    .dataframe tbody tr th:only-of-type {\n",
              "        vertical-align: middle;\n",
              "    }\n",
              "\n",
              "    .dataframe tbody tr th {\n",
              "        vertical-align: top;\n",
              "    }\n",
              "\n",
              "    .dataframe thead th {\n",
              "        text-align: right;\n",
              "    }\n",
              "</style>\n",
              "<table border=\"1\" class=\"dataframe\">\n",
              "  <thead>\n",
              "    <tr style=\"text-align: right;\">\n",
              "      <th></th>\n",
              "      <th>attributes</th>\n",
              "      <th>geometry</th>\n",
              "    </tr>\n",
              "  </thead>\n",
              "  <tbody>\n",
              "    <tr>\n",
              "      <th>0</th>\n",
              "      <td>{'OBJECTID': 1, 'Province_State': None, 'Count...</td>\n",
              "      <td>{'x': 67.70995300000004, 'y': 33.93911000000003}</td>\n",
              "    </tr>\n",
              "    <tr>\n",
              "      <th>1</th>\n",
              "      <td>{'OBJECTID': 2, 'Province_State': None, 'Count...</td>\n",
              "      <td>{'x': 20.168300000000045, 'y': 41.15330000000006}</td>\n",
              "    </tr>\n",
              "    <tr>\n",
              "      <th>2</th>\n",
              "      <td>{'OBJECTID': 3, 'Province_State': None, 'Count...</td>\n",
              "      <td>{'x': 1.6596000000000686, 'y': 28.033900000000...</td>\n",
              "    </tr>\n",
              "    <tr>\n",
              "      <th>3</th>\n",
              "      <td>{'OBJECTID': 4, 'Province_State': None, 'Count...</td>\n",
              "      <td>{'x': 1.5218000000000416, 'y': 42.50630000000007}</td>\n",
              "    </tr>\n",
              "    <tr>\n",
              "      <th>4</th>\n",
              "      <td>{'OBJECTID': 5, 'Province_State': None, 'Count...</td>\n",
              "      <td>{'x': 17.87390000000005, 'y': -11.202699999999...</td>\n",
              "    </tr>\n",
              "  </tbody>\n",
              "</table>\n",
              "</div>"
            ],
            "text/plain": [
              "                                          attributes                                           geometry\n",
              "0  {'OBJECTID': 1, 'Province_State': None, 'Count...   {'x': 67.70995300000004, 'y': 33.93911000000003}\n",
              "1  {'OBJECTID': 2, 'Province_State': None, 'Count...  {'x': 20.168300000000045, 'y': 41.15330000000006}\n",
              "2  {'OBJECTID': 3, 'Province_State': None, 'Count...  {'x': 1.6596000000000686, 'y': 28.033900000000...\n",
              "3  {'OBJECTID': 4, 'Province_State': None, 'Count...  {'x': 1.5218000000000416, 'y': 42.50630000000007}\n",
              "4  {'OBJECTID': 5, 'Province_State': None, 'Count...  {'x': 17.87390000000005, 'y': -11.202699999999..."
            ]
          },
          "metadata": {
            "tags": []
          },
          "execution_count": 4
        }
      ]
    },
    {
      "cell_type": "code",
      "metadata": {
        "colab": {
          "base_uri": "https://localhost:8080/"
        },
        "id": "uzp0L5FTD9im",
        "outputId": "0fb0305e-013e-4842-f95c-72d36151b5ff"
      },
      "source": [
        "df[\"attributes\"][0]"
      ],
      "execution_count": 5,
      "outputs": [
        {
          "output_type": "execute_result",
          "data": {
            "text/plain": [
              "{'Active': 3614,\n",
              " 'Admin2': None,\n",
              " 'Combined_Key': 'Afghanistan',\n",
              " 'Confirmed': 58542,\n",
              " 'Country_Region': 'Afghanistan',\n",
              " 'Deaths': 2565,\n",
              " 'FIPS': None,\n",
              " 'Last_Update': 1619245241000,\n",
              " 'Lat': 33.93911,\n",
              " 'Long_': 67.709953,\n",
              " 'OBJECTID': 1,\n",
              " 'Province_State': None,\n",
              " 'Recovered': 52363}"
            ]
          },
          "metadata": {
            "tags": []
          },
          "execution_count": 5
        }
      ]
    },
    {
      "cell_type": "markdown",
      "metadata": {
        "id": "ojQsQ41CabHD"
      },
      "source": [
        "####Cleaning Data"
      ]
    },
    {
      "cell_type": "code",
      "metadata": {
        "id": "Qv8xxdMXEDfD"
      },
      "source": [
        "data_list = df[\"attributes\"].tolist()\n",
        "df_final = pd.DataFrame(data_list)\n",
        "df_final.set_index(\"OBJECTID\")\n",
        "df_final = df_final[[\"Country_Region\", \"Province_State\", \"Lat\", \"Long_\", \"Confirmed\", \"Deaths\", \"Recovered\", \"Active\", \"Last_Update\"]]"
      ],
      "execution_count": 6,
      "outputs": []
    },
    {
      "cell_type": "code",
      "metadata": {
        "colab": {
          "base_uri": "https://localhost:8080/",
          "height": 204
        },
        "id": "CQWKFv2uEJau",
        "outputId": "cb9f7258-16b3-4a9b-bd21-17a0fecef716"
      },
      "source": [
        "df_final.head()"
      ],
      "execution_count": 7,
      "outputs": [
        {
          "output_type": "execute_result",
          "data": {
            "text/html": [
              "<div>\n",
              "<style scoped>\n",
              "    .dataframe tbody tr th:only-of-type {\n",
              "        vertical-align: middle;\n",
              "    }\n",
              "\n",
              "    .dataframe tbody tr th {\n",
              "        vertical-align: top;\n",
              "    }\n",
              "\n",
              "    .dataframe thead th {\n",
              "        text-align: right;\n",
              "    }\n",
              "</style>\n",
              "<table border=\"1\" class=\"dataframe\">\n",
              "  <thead>\n",
              "    <tr style=\"text-align: right;\">\n",
              "      <th></th>\n",
              "      <th>Country_Region</th>\n",
              "      <th>Province_State</th>\n",
              "      <th>Lat</th>\n",
              "      <th>Long_</th>\n",
              "      <th>Confirmed</th>\n",
              "      <th>Deaths</th>\n",
              "      <th>Recovered</th>\n",
              "      <th>Active</th>\n",
              "      <th>Last_Update</th>\n",
              "    </tr>\n",
              "  </thead>\n",
              "  <tbody>\n",
              "    <tr>\n",
              "      <th>0</th>\n",
              "      <td>Afghanistan</td>\n",
              "      <td>None</td>\n",
              "      <td>33.93911</td>\n",
              "      <td>67.709953</td>\n",
              "      <td>58542</td>\n",
              "      <td>2565</td>\n",
              "      <td>52363</td>\n",
              "      <td>3614</td>\n",
              "      <td>1.619245e+12</td>\n",
              "    </tr>\n",
              "    <tr>\n",
              "      <th>1</th>\n",
              "      <td>Albania</td>\n",
              "      <td>None</td>\n",
              "      <td>41.15330</td>\n",
              "      <td>20.168300</td>\n",
              "      <td>130270</td>\n",
              "      <td>2367</td>\n",
              "      <td>104278</td>\n",
              "      <td>23625</td>\n",
              "      <td>1.619245e+12</td>\n",
              "    </tr>\n",
              "    <tr>\n",
              "      <th>2</th>\n",
              "      <td>Algeria</td>\n",
              "      <td>None</td>\n",
              "      <td>28.03390</td>\n",
              "      <td>1.659600</td>\n",
              "      <td>120562</td>\n",
              "      <td>3190</td>\n",
              "      <td>84038</td>\n",
              "      <td>33334</td>\n",
              "      <td>1.619245e+12</td>\n",
              "    </tr>\n",
              "    <tr>\n",
              "      <th>3</th>\n",
              "      <td>Andorra</td>\n",
              "      <td>None</td>\n",
              "      <td>42.50630</td>\n",
              "      <td>1.521800</td>\n",
              "      <td>13007</td>\n",
              "      <td>123</td>\n",
              "      <td>12423</td>\n",
              "      <td>461</td>\n",
              "      <td>1.619245e+12</td>\n",
              "    </tr>\n",
              "    <tr>\n",
              "      <th>4</th>\n",
              "      <td>Angola</td>\n",
              "      <td>None</td>\n",
              "      <td>-11.20270</td>\n",
              "      <td>17.873900</td>\n",
              "      <td>25279</td>\n",
              "      <td>574</td>\n",
              "      <td>23089</td>\n",
              "      <td>1616</td>\n",
              "      <td>1.619245e+12</td>\n",
              "    </tr>\n",
              "  </tbody>\n",
              "</table>\n",
              "</div>"
            ],
            "text/plain": [
              "  Country_Region Province_State       Lat  ...  Recovered  Active   Last_Update\n",
              "0    Afghanistan           None  33.93911  ...      52363    3614  1.619245e+12\n",
              "1        Albania           None  41.15330  ...     104278   23625  1.619245e+12\n",
              "2        Algeria           None  28.03390  ...      84038   33334  1.619245e+12\n",
              "3        Andorra           None  42.50630  ...      12423     461  1.619245e+12\n",
              "4         Angola           None -11.20270  ...      23089    1616  1.619245e+12\n",
              "\n",
              "[5 rows x 9 columns]"
            ]
          },
          "metadata": {
            "tags": []
          },
          "execution_count": 7
        }
      ]
    },
    {
      "cell_type": "markdown",
      "metadata": {
        "id": "LE8rHruAaHeg"
      },
      "source": [
        "####To Convert Time "
      ]
    },
    {
      "cell_type": "code",
      "metadata": {
        "colab": {
          "base_uri": "https://localhost:8080/",
          "height": 204
        },
        "id": "uVqN7fxoEOuV",
        "outputId": "b45320af-655b-4258-fa62-5395664510a9"
      },
      "source": [
        "def convertTime(t):\n",
        "    t = int(t)\n",
        "    return datetime.fromtimestamp(t)\n",
        "\n",
        "df_final = df_final.dropna(subset=[\"Last_Update\"])\n",
        "df_final[\"Province_State\"].fillna(value=\"\", inplace=True)\n",
        "\n",
        "df_final[\"Last_Update\"]= df_final[\"Last_Update\"]/1000\n",
        "df_final[\"Last_Update\"] = df_final[\"Last_Update\"].apply(convertTime)\n",
        "\n",
        "df_final.head()"
      ],
      "execution_count": 8,
      "outputs": [
        {
          "output_type": "execute_result",
          "data": {
            "text/html": [
              "<div>\n",
              "<style scoped>\n",
              "    .dataframe tbody tr th:only-of-type {\n",
              "        vertical-align: middle;\n",
              "    }\n",
              "\n",
              "    .dataframe tbody tr th {\n",
              "        vertical-align: top;\n",
              "    }\n",
              "\n",
              "    .dataframe thead th {\n",
              "        text-align: right;\n",
              "    }\n",
              "</style>\n",
              "<table border=\"1\" class=\"dataframe\">\n",
              "  <thead>\n",
              "    <tr style=\"text-align: right;\">\n",
              "      <th></th>\n",
              "      <th>Country_Region</th>\n",
              "      <th>Province_State</th>\n",
              "      <th>Lat</th>\n",
              "      <th>Long_</th>\n",
              "      <th>Confirmed</th>\n",
              "      <th>Deaths</th>\n",
              "      <th>Recovered</th>\n",
              "      <th>Active</th>\n",
              "      <th>Last_Update</th>\n",
              "    </tr>\n",
              "  </thead>\n",
              "  <tbody>\n",
              "    <tr>\n",
              "      <th>0</th>\n",
              "      <td>Afghanistan</td>\n",
              "      <td></td>\n",
              "      <td>33.93911</td>\n",
              "      <td>67.709953</td>\n",
              "      <td>58542</td>\n",
              "      <td>2565</td>\n",
              "      <td>52363</td>\n",
              "      <td>3614</td>\n",
              "      <td>2021-04-24 06:20:41</td>\n",
              "    </tr>\n",
              "    <tr>\n",
              "      <th>1</th>\n",
              "      <td>Albania</td>\n",
              "      <td></td>\n",
              "      <td>41.15330</td>\n",
              "      <td>20.168300</td>\n",
              "      <td>130270</td>\n",
              "      <td>2367</td>\n",
              "      <td>104278</td>\n",
              "      <td>23625</td>\n",
              "      <td>2021-04-24 06:20:41</td>\n",
              "    </tr>\n",
              "    <tr>\n",
              "      <th>2</th>\n",
              "      <td>Algeria</td>\n",
              "      <td></td>\n",
              "      <td>28.03390</td>\n",
              "      <td>1.659600</td>\n",
              "      <td>120562</td>\n",
              "      <td>3190</td>\n",
              "      <td>84038</td>\n",
              "      <td>33334</td>\n",
              "      <td>2021-04-24 06:20:41</td>\n",
              "    </tr>\n",
              "    <tr>\n",
              "      <th>3</th>\n",
              "      <td>Andorra</td>\n",
              "      <td></td>\n",
              "      <td>42.50630</td>\n",
              "      <td>1.521800</td>\n",
              "      <td>13007</td>\n",
              "      <td>123</td>\n",
              "      <td>12423</td>\n",
              "      <td>461</td>\n",
              "      <td>2021-04-24 06:20:41</td>\n",
              "    </tr>\n",
              "    <tr>\n",
              "      <th>4</th>\n",
              "      <td>Angola</td>\n",
              "      <td></td>\n",
              "      <td>-11.20270</td>\n",
              "      <td>17.873900</td>\n",
              "      <td>25279</td>\n",
              "      <td>574</td>\n",
              "      <td>23089</td>\n",
              "      <td>1616</td>\n",
              "      <td>2021-04-24 06:20:41</td>\n",
              "    </tr>\n",
              "  </tbody>\n",
              "</table>\n",
              "</div>"
            ],
            "text/plain": [
              "  Country_Region Province_State  ...  Active         Last_Update\n",
              "0    Afghanistan                 ...    3614 2021-04-24 06:20:41\n",
              "1        Albania                 ...   23625 2021-04-24 06:20:41\n",
              "2        Algeria                 ...   33334 2021-04-24 06:20:41\n",
              "3        Andorra                 ...     461 2021-04-24 06:20:41\n",
              "4         Angola                 ...    1616 2021-04-24 06:20:41\n",
              "\n",
              "[5 rows x 9 columns]"
            ]
          },
          "metadata": {
            "tags": []
          },
          "execution_count": 8
        }
      ]
    },
    {
      "cell_type": "markdown",
      "metadata": {
        "id": "Y9DPswZE_ytG"
      },
      "source": [
        "####Aggregating data"
      ]
    },
    {
      "cell_type": "code",
      "metadata": {
        "colab": {
          "base_uri": "https://localhost:8080/",
          "height": 204
        },
        "id": "QUITuzfSEWyi",
        "outputId": "97a6ecb3-101b-48b1-9ced-f911e2d02a6e"
      },
      "source": [
        "df_total = df_final.groupby(\"Country_Region\", as_index=False).agg(\n",
        "    {\n",
        "        \"Confirmed\" : \"sum\",\n",
        "        \"Deaths\" : \"sum\",\n",
        "        \"Recovered\" : \"sum\",\n",
        "        \"Active\" : \"sum\"\n",
        "    }\n",
        ")\n",
        "\n",
        "df_total = df_total.sort_values(\"Confirmed\", ascending=False)\n",
        "\n",
        "df_total.head()"
      ],
      "execution_count": 9,
      "outputs": [
        {
          "output_type": "execute_result",
          "data": {
            "text/html": [
              "<div>\n",
              "<style scoped>\n",
              "    .dataframe tbody tr th:only-of-type {\n",
              "        vertical-align: middle;\n",
              "    }\n",
              "\n",
              "    .dataframe tbody tr th {\n",
              "        vertical-align: top;\n",
              "    }\n",
              "\n",
              "    .dataframe thead th {\n",
              "        text-align: right;\n",
              "    }\n",
              "</style>\n",
              "<table border=\"1\" class=\"dataframe\">\n",
              "  <thead>\n",
              "    <tr style=\"text-align: right;\">\n",
              "      <th></th>\n",
              "      <th>Country_Region</th>\n",
              "      <th>Confirmed</th>\n",
              "      <th>Deaths</th>\n",
              "      <th>Recovered</th>\n",
              "      <th>Active</th>\n",
              "    </tr>\n",
              "  </thead>\n",
              "  <tbody>\n",
              "    <tr>\n",
              "      <th>178</th>\n",
              "      <td>US</td>\n",
              "      <td>31992070</td>\n",
              "      <td>571199</td>\n",
              "      <td>0</td>\n",
              "      <td>0</td>\n",
              "    </tr>\n",
              "    <tr>\n",
              "      <th>79</th>\n",
              "      <td>India</td>\n",
              "      <td>16610481</td>\n",
              "      <td>189544</td>\n",
              "      <td>13867997</td>\n",
              "      <td>2552940</td>\n",
              "    </tr>\n",
              "    <tr>\n",
              "      <th>23</th>\n",
              "      <td>Brazil</td>\n",
              "      <td>14237078</td>\n",
              "      <td>386416</td>\n",
              "      <td>12586272</td>\n",
              "      <td>1264390</td>\n",
              "    </tr>\n",
              "    <tr>\n",
              "      <th>62</th>\n",
              "      <td>France</td>\n",
              "      <td>5502014</td>\n",
              "      <td>102655</td>\n",
              "      <td>336234</td>\n",
              "      <td>5063125</td>\n",
              "    </tr>\n",
              "    <tr>\n",
              "      <th>142</th>\n",
              "      <td>Russia</td>\n",
              "      <td>4691290</td>\n",
              "      <td>105718</td>\n",
              "      <td>4321477</td>\n",
              "      <td>264095</td>\n",
              "    </tr>\n",
              "  </tbody>\n",
              "</table>\n",
              "</div>"
            ],
            "text/plain": [
              "    Country_Region  Confirmed  Deaths  Recovered   Active\n",
              "178             US   31992070  571199          0        0\n",
              "79           India   16610481  189544   13867997  2552940\n",
              "23          Brazil   14237078  386416   12586272  1264390\n",
              "62          France    5502014  102655     336234  5063125\n",
              "142         Russia    4691290  105718    4321477   264095"
            ]
          },
          "metadata": {
            "tags": []
          },
          "execution_count": 9
        }
      ]
    },
    {
      "cell_type": "code",
      "metadata": {
        "id": "dmhkygOiEhYt"
      },
      "source": [
        "total_confirmed = df_final[\"Confirmed\"].sum()\n",
        "total_recovered = df_final[\"Recovered\"].sum()\n",
        "total_deaths = df_final[\"Deaths\"].sum()\n",
        "total_active = df_final[\"Active\"].sum()"
      ],
      "execution_count": 10,
      "outputs": []
    },
    {
      "cell_type": "code",
      "metadata": {
        "id": "c4r1bg9_EmSR"
      },
      "source": [
        "df_top10 = df_total.nlargest(10, \"Confirmed\")\n",
        "top10_countries_1 = df_top10[\"Country_Region\"].tolist()\n",
        "top10_confirmed = df_top10[\"Confirmed\"].tolist()\n",
        "\n",
        "df_top10 = df_total.nlargest(10, \"Recovered\")\n",
        "top10_countries_2 = df_top10[\"Country_Region\"].tolist()\n",
        "top10_recovered = df_top10[\"Recovered\"].tolist()\n",
        "\n",
        "df_top10 = df_total.nlargest(10, \"Deaths\")\n",
        "top10_countries_3 = df_top10[\"Country_Region\"].tolist()\n",
        "top10_deaths = df_top10[\"Deaths\"].tolist()\n",
        "\n",
        "df_top10 = df_total.nlargest(10, \"Active\")\n",
        "top10_countries_4 = df_top10[\"Country_Region\"].tolist()\n",
        "top10_active= df_top10[\"Active\"].tolist()"
      ],
      "execution_count": 11,
      "outputs": []
    },
    {
      "cell_type": "code",
      "metadata": {
        "id": "btJop8_SdkYQ"
      },
      "source": [
        "figa = make_subplots(\n",
        "    rows = 1, cols = 4,\n",
        "\n",
        "    specs=[\n",
        "            [{\"type\": \"indicator\", \"colspan\":1}, {\"type\": \"indicator\", \"colspan\":1}, {\"type\": \"indicator\", \"colspan\":1}, {\"type\": \"indicator\", \"colspan\":1}],\n",
        "          ]\n",
        ")\n",
        "\n",
        "figa.add_trace(\n",
        "    go.Indicator(\n",
        "        mode=\"number\",\n",
        "        value=total_confirmed,\n",
        "        title=\"Confirmed Cases\",\n",
        "    ),\n",
        "    row=1, col=1\n",
        ")\n",
        "\n",
        "figa.add_trace(\n",
        "    go.Indicator(\n",
        "        mode=\"number\",\n",
        "        value=total_recovered,\n",
        "        title=\"Recovered Cases\",\n",
        "    ),\n",
        "    row=1, col=2\n",
        ")\n",
        "\n",
        "figa.add_trace(\n",
        "    go.Indicator(\n",
        "        mode=\"number\",\n",
        "        value=total_deaths, \n",
        "        title=\"Death Cases\",\n",
        "    ),\n",
        "    row=1, col=3\n",
        ")\n",
        "\n",
        "figa.add_trace(\n",
        "    go.Indicator(\n",
        "        mode=\"number\",\n",
        "        value=total_active, \n",
        "        title=\"Active Cases\",\n",
        "    ),\n",
        "    row=1, col=4\n",
        ")\n",
        "figa.update_layout(\n",
        "    template=\"plotly_dark\",\n",
        "    title = \"Global COVID-19 Status (Last Updated: \" + str(df_final[\"Last_Update\"][0]) + \")\",\n",
        "    showlegend=True,\n",
        "    legend_orientation=\"h\"\n",
        ")\n",
        "figa.write_html('2.html', auto_open=True)"
      ],
      "execution_count": 12,
      "outputs": []
    },
    {
      "cell_type": "code",
      "metadata": {
        "colab": {
          "base_uri": "https://localhost:8080/",
          "height": 542
        },
        "id": "PG0_b3hMfCJw",
        "outputId": "e48cc48c-d52e-4add-a3f0-817e4534ff60"
      },
      "source": [
        "figa.show()"
      ],
      "execution_count": 13,
      "outputs": [
        {
          "output_type": "display_data",
          "data": {
            "text/html": [
              "<html>\n",
              "<head><meta charset=\"utf-8\" /></head>\n",
              "<body>\n",
              "    <div>\n",
              "            <script src=\"https://cdnjs.cloudflare.com/ajax/libs/mathjax/2.7.5/MathJax.js?config=TeX-AMS-MML_SVG\"></script><script type=\"text/javascript\">if (window.MathJax) {MathJax.Hub.Config({SVG: {font: \"STIX-Web\"}});}</script>\n",
              "                <script type=\"text/javascript\">window.PlotlyConfig = {MathJaxConfig: 'local'};</script>\n",
              "        <script src=\"https://cdn.plot.ly/plotly-latest.min.js\"></script>    \n",
              "            <div id=\"e9c9e9e8-5cb6-4c04-9199-18ff5c3fa16d\" class=\"plotly-graph-div\" style=\"height:525px; width:100%;\"></div>\n",
              "            <script type=\"text/javascript\">\n",
              "                \n",
              "                    window.PLOTLYENV=window.PLOTLYENV || {};\n",
              "                    \n",
              "                if (document.getElementById(\"e9c9e9e8-5cb6-4c04-9199-18ff5c3fa16d\")) {\n",
              "                    Plotly.newPlot(\n",
              "                        'e9c9e9e8-5cb6-4c04-9199-18ff5c3fa16d',\n",
              "                        [{\"domain\": {\"x\": [0.0, 0.2125], \"y\": [0.0, 1.0]}, \"mode\": \"number\", \"title\": {\"text\": \"Confirmed Cases\"}, \"type\": \"indicator\", \"value\": 145663023}, {\"domain\": {\"x\": [0.2625, 0.475], \"y\": [0.0, 1.0]}, \"mode\": \"number\", \"title\": {\"text\": \"Recovered Cases\"}, \"type\": \"indicator\", \"value\": 83797073}, {\"domain\": {\"x\": [0.525, 0.7375], \"y\": [0.0, 1.0]}, \"mode\": \"number\", \"title\": {\"text\": \"Death Cases\"}, \"type\": \"indicator\", \"value\": 3086717}, {\"domain\": {\"x\": [0.7875, 1.0], \"y\": [0.0, 1.0]}, \"mode\": \"number\", \"title\": {\"text\": \"Active Cases\"}, \"type\": \"indicator\", \"value\": 27358388}],\n",
              "                        {\"legend\": {\"orientation\": \"h\"}, \"showlegend\": true, \"template\": {\"data\": {\"bar\": [{\"error_x\": {\"color\": \"#f2f5fa\"}, \"error_y\": {\"color\": \"#f2f5fa\"}, \"marker\": {\"line\": {\"color\": \"rgb(17,17,17)\", \"width\": 0.5}}, \"type\": \"bar\"}], \"barpolar\": [{\"marker\": {\"line\": {\"color\": \"rgb(17,17,17)\", \"width\": 0.5}}, \"type\": \"barpolar\"}], \"carpet\": [{\"aaxis\": {\"endlinecolor\": \"#A2B1C6\", \"gridcolor\": \"#506784\", \"linecolor\": \"#506784\", \"minorgridcolor\": \"#506784\", \"startlinecolor\": \"#A2B1C6\"}, \"baxis\": {\"endlinecolor\": \"#A2B1C6\", \"gridcolor\": \"#506784\", \"linecolor\": \"#506784\", \"minorgridcolor\": \"#506784\", \"startlinecolor\": \"#A2B1C6\"}, \"type\": \"carpet\"}], \"choropleth\": [{\"colorbar\": {\"outlinewidth\": 0, \"ticks\": \"\"}, \"type\": \"choropleth\"}], \"contour\": [{\"colorbar\": {\"outlinewidth\": 0, \"ticks\": \"\"}, \"colorscale\": [[0.0, \"#0d0887\"], [0.1111111111111111, \"#46039f\"], [0.2222222222222222, \"#7201a8\"], [0.3333333333333333, \"#9c179e\"], [0.4444444444444444, \"#bd3786\"], [0.5555555555555556, \"#d8576b\"], [0.6666666666666666, \"#ed7953\"], [0.7777777777777778, \"#fb9f3a\"], [0.8888888888888888, \"#fdca26\"], [1.0, \"#f0f921\"]], \"type\": \"contour\"}], \"contourcarpet\": [{\"colorbar\": {\"outlinewidth\": 0, \"ticks\": \"\"}, \"type\": \"contourcarpet\"}], \"heatmap\": [{\"colorbar\": {\"outlinewidth\": 0, \"ticks\": \"\"}, \"colorscale\": [[0.0, \"#0d0887\"], [0.1111111111111111, \"#46039f\"], [0.2222222222222222, \"#7201a8\"], [0.3333333333333333, \"#9c179e\"], [0.4444444444444444, \"#bd3786\"], [0.5555555555555556, \"#d8576b\"], [0.6666666666666666, \"#ed7953\"], [0.7777777777777778, \"#fb9f3a\"], [0.8888888888888888, \"#fdca26\"], [1.0, \"#f0f921\"]], \"type\": \"heatmap\"}], \"heatmapgl\": [{\"colorbar\": {\"outlinewidth\": 0, \"ticks\": \"\"}, \"colorscale\": [[0.0, \"#0d0887\"], [0.1111111111111111, \"#46039f\"], [0.2222222222222222, \"#7201a8\"], [0.3333333333333333, \"#9c179e\"], [0.4444444444444444, \"#bd3786\"], [0.5555555555555556, \"#d8576b\"], [0.6666666666666666, \"#ed7953\"], [0.7777777777777778, \"#fb9f3a\"], [0.8888888888888888, \"#fdca26\"], [1.0, \"#f0f921\"]], \"type\": \"heatmapgl\"}], \"histogram\": [{\"marker\": {\"colorbar\": {\"outlinewidth\": 0, \"ticks\": \"\"}}, \"type\": \"histogram\"}], \"histogram2d\": [{\"colorbar\": {\"outlinewidth\": 0, \"ticks\": \"\"}, \"colorscale\": [[0.0, \"#0d0887\"], [0.1111111111111111, \"#46039f\"], [0.2222222222222222, \"#7201a8\"], [0.3333333333333333, \"#9c179e\"], [0.4444444444444444, \"#bd3786\"], [0.5555555555555556, \"#d8576b\"], [0.6666666666666666, \"#ed7953\"], [0.7777777777777778, \"#fb9f3a\"], [0.8888888888888888, \"#fdca26\"], [1.0, \"#f0f921\"]], \"type\": \"histogram2d\"}], \"histogram2dcontour\": [{\"colorbar\": {\"outlinewidth\": 0, \"ticks\": \"\"}, \"colorscale\": [[0.0, \"#0d0887\"], [0.1111111111111111, \"#46039f\"], [0.2222222222222222, \"#7201a8\"], [0.3333333333333333, \"#9c179e\"], [0.4444444444444444, \"#bd3786\"], [0.5555555555555556, \"#d8576b\"], [0.6666666666666666, \"#ed7953\"], [0.7777777777777778, \"#fb9f3a\"], [0.8888888888888888, \"#fdca26\"], [1.0, \"#f0f921\"]], \"type\": \"histogram2dcontour\"}], \"mesh3d\": [{\"colorbar\": {\"outlinewidth\": 0, \"ticks\": \"\"}, \"type\": \"mesh3d\"}], \"parcoords\": [{\"line\": {\"colorbar\": {\"outlinewidth\": 0, \"ticks\": \"\"}}, \"type\": \"parcoords\"}], \"pie\": [{\"automargin\": true, \"type\": \"pie\"}], \"scatter\": [{\"marker\": {\"line\": {\"color\": \"#283442\"}}, \"type\": \"scatter\"}], \"scatter3d\": [{\"line\": {\"colorbar\": {\"outlinewidth\": 0, \"ticks\": \"\"}}, \"marker\": {\"colorbar\": {\"outlinewidth\": 0, \"ticks\": \"\"}}, \"type\": \"scatter3d\"}], \"scattercarpet\": [{\"marker\": {\"colorbar\": {\"outlinewidth\": 0, \"ticks\": \"\"}}, \"type\": \"scattercarpet\"}], \"scattergeo\": [{\"marker\": {\"colorbar\": {\"outlinewidth\": 0, \"ticks\": \"\"}}, \"type\": \"scattergeo\"}], \"scattergl\": [{\"marker\": {\"line\": {\"color\": \"#283442\"}}, \"type\": \"scattergl\"}], \"scattermapbox\": [{\"marker\": {\"colorbar\": {\"outlinewidth\": 0, \"ticks\": \"\"}}, \"type\": \"scattermapbox\"}], \"scatterpolar\": [{\"marker\": {\"colorbar\": {\"outlinewidth\": 0, \"ticks\": \"\"}}, \"type\": \"scatterpolar\"}], \"scatterpolargl\": [{\"marker\": {\"colorbar\": {\"outlinewidth\": 0, \"ticks\": \"\"}}, \"type\": \"scatterpolargl\"}], \"scatterternary\": [{\"marker\": {\"colorbar\": {\"outlinewidth\": 0, \"ticks\": \"\"}}, \"type\": \"scatterternary\"}], \"surface\": [{\"colorbar\": {\"outlinewidth\": 0, \"ticks\": \"\"}, \"colorscale\": [[0.0, \"#0d0887\"], [0.1111111111111111, \"#46039f\"], [0.2222222222222222, \"#7201a8\"], [0.3333333333333333, \"#9c179e\"], [0.4444444444444444, \"#bd3786\"], [0.5555555555555556, \"#d8576b\"], [0.6666666666666666, \"#ed7953\"], [0.7777777777777778, \"#fb9f3a\"], [0.8888888888888888, \"#fdca26\"], [1.0, \"#f0f921\"]], \"type\": \"surface\"}], \"table\": [{\"cells\": {\"fill\": {\"color\": \"#506784\"}, \"line\": {\"color\": \"rgb(17,17,17)\"}}, \"header\": {\"fill\": {\"color\": \"#2a3f5f\"}, \"line\": {\"color\": \"rgb(17,17,17)\"}}, \"type\": \"table\"}]}, \"layout\": {\"annotationdefaults\": {\"arrowcolor\": \"#f2f5fa\", \"arrowhead\": 0, \"arrowwidth\": 1}, \"coloraxis\": {\"colorbar\": {\"outlinewidth\": 0, \"ticks\": \"\"}}, \"colorscale\": {\"diverging\": [[0, \"#8e0152\"], [0.1, \"#c51b7d\"], [0.2, \"#de77ae\"], [0.3, \"#f1b6da\"], [0.4, \"#fde0ef\"], [0.5, \"#f7f7f7\"], [0.6, \"#e6f5d0\"], [0.7, \"#b8e186\"], [0.8, \"#7fbc41\"], [0.9, \"#4d9221\"], [1, \"#276419\"]], \"sequential\": [[0.0, \"#0d0887\"], [0.1111111111111111, \"#46039f\"], [0.2222222222222222, \"#7201a8\"], [0.3333333333333333, \"#9c179e\"], [0.4444444444444444, \"#bd3786\"], [0.5555555555555556, \"#d8576b\"], [0.6666666666666666, \"#ed7953\"], [0.7777777777777778, \"#fb9f3a\"], [0.8888888888888888, \"#fdca26\"], [1.0, \"#f0f921\"]], \"sequentialminus\": [[0.0, \"#0d0887\"], [0.1111111111111111, \"#46039f\"], [0.2222222222222222, \"#7201a8\"], [0.3333333333333333, \"#9c179e\"], [0.4444444444444444, \"#bd3786\"], [0.5555555555555556, \"#d8576b\"], [0.6666666666666666, \"#ed7953\"], [0.7777777777777778, \"#fb9f3a\"], [0.8888888888888888, \"#fdca26\"], [1.0, \"#f0f921\"]]}, \"colorway\": [\"#636efa\", \"#EF553B\", \"#00cc96\", \"#ab63fa\", \"#FFA15A\", \"#19d3f3\", \"#FF6692\", \"#B6E880\", \"#FF97FF\", \"#FECB52\"], \"font\": {\"color\": \"#f2f5fa\"}, \"geo\": {\"bgcolor\": \"rgb(17,17,17)\", \"lakecolor\": \"rgb(17,17,17)\", \"landcolor\": \"rgb(17,17,17)\", \"showlakes\": true, \"showland\": true, \"subunitcolor\": \"#506784\"}, \"hoverlabel\": {\"align\": \"left\"}, \"hovermode\": \"closest\", \"mapbox\": {\"style\": \"dark\"}, \"paper_bgcolor\": \"rgb(17,17,17)\", \"plot_bgcolor\": \"rgb(17,17,17)\", \"polar\": {\"angularaxis\": {\"gridcolor\": \"#506784\", \"linecolor\": \"#506784\", \"ticks\": \"\"}, \"bgcolor\": \"rgb(17,17,17)\", \"radialaxis\": {\"gridcolor\": \"#506784\", \"linecolor\": \"#506784\", \"ticks\": \"\"}}, \"scene\": {\"xaxis\": {\"backgroundcolor\": \"rgb(17,17,17)\", \"gridcolor\": \"#506784\", \"gridwidth\": 2, \"linecolor\": \"#506784\", \"showbackground\": true, \"ticks\": \"\", \"zerolinecolor\": \"#C8D4E3\"}, \"yaxis\": {\"backgroundcolor\": \"rgb(17,17,17)\", \"gridcolor\": \"#506784\", \"gridwidth\": 2, \"linecolor\": \"#506784\", \"showbackground\": true, \"ticks\": \"\", \"zerolinecolor\": \"#C8D4E3\"}, \"zaxis\": {\"backgroundcolor\": \"rgb(17,17,17)\", \"gridcolor\": \"#506784\", \"gridwidth\": 2, \"linecolor\": \"#506784\", \"showbackground\": true, \"ticks\": \"\", \"zerolinecolor\": \"#C8D4E3\"}}, \"shapedefaults\": {\"line\": {\"color\": \"#f2f5fa\"}}, \"sliderdefaults\": {\"bgcolor\": \"#C8D4E3\", \"bordercolor\": \"rgb(17,17,17)\", \"borderwidth\": 1, \"tickwidth\": 0}, \"ternary\": {\"aaxis\": {\"gridcolor\": \"#506784\", \"linecolor\": \"#506784\", \"ticks\": \"\"}, \"baxis\": {\"gridcolor\": \"#506784\", \"linecolor\": \"#506784\", \"ticks\": \"\"}, \"bgcolor\": \"rgb(17,17,17)\", \"caxis\": {\"gridcolor\": \"#506784\", \"linecolor\": \"#506784\", \"ticks\": \"\"}}, \"title\": {\"x\": 0.05}, \"updatemenudefaults\": {\"bgcolor\": \"#506784\", \"borderwidth\": 0}, \"xaxis\": {\"automargin\": true, \"gridcolor\": \"#283442\", \"linecolor\": \"#506784\", \"ticks\": \"\", \"title\": {\"standoff\": 15}, \"zerolinecolor\": \"#283442\", \"zerolinewidth\": 2}, \"yaxis\": {\"automargin\": true, \"gridcolor\": \"#283442\", \"linecolor\": \"#506784\", \"ticks\": \"\", \"title\": {\"standoff\": 15}, \"zerolinecolor\": \"#283442\", \"zerolinewidth\": 2}}}, \"title\": {\"text\": \"Global COVID-19 Status (Last Updated: 2021-04-24 06:20:41)\"}},\n",
              "                        {\"responsive\": true}\n",
              "                    ).then(function(){\n",
              "                            \n",
              "var gd = document.getElementById('e9c9e9e8-5cb6-4c04-9199-18ff5c3fa16d');\n",
              "var x = new MutationObserver(function (mutations, observer) {{\n",
              "        var display = window.getComputedStyle(gd).display;\n",
              "        if (!display || display === 'none') {{\n",
              "            console.log([gd, 'removed!']);\n",
              "            Plotly.purge(gd);\n",
              "            observer.disconnect();\n",
              "        }}\n",
              "}});\n",
              "\n",
              "// Listen for the removal of the full notebook cells\n",
              "var notebookContainer = gd.closest('#notebook-container');\n",
              "if (notebookContainer) {{\n",
              "    x.observe(notebookContainer, {childList: true});\n",
              "}}\n",
              "\n",
              "// Listen for the clearing of the current output cell\n",
              "var outputEl = gd.closest('.output');\n",
              "if (outputEl) {{\n",
              "    x.observe(outputEl, {childList: true});\n",
              "}}\n",
              "\n",
              "                        })\n",
              "                };\n",
              "                \n",
              "            </script>\n",
              "        </div>\n",
              "</body>\n",
              "</html>"
            ]
          },
          "metadata": {
            "tags": []
          }
        }
      ]
    },
    {
      "cell_type": "markdown",
      "metadata": {
        "id": "L-WCD_-dClGp"
      },
      "source": [
        "####Bar Graph"
      ]
    },
    {
      "cell_type": "code",
      "metadata": {
        "id": "ptW3WkRYCklp"
      },
      "source": [
        "figb = make_subplots(\n",
        "    rows = 4, cols = 3,\n",
        "\n",
        "    specs=[\n",
        "            [ {\"type\": \"bar\", \"colspan\":3}, None, None],\n",
        "            [ {\"type\": \"bar\", \"colspan\":3}, None, None],\n",
        "            [ {\"type\": \"bar\", \"colspan\":3}, None, None],\n",
        "            [ {\"type\": \"bar\", \"colspan\":3}, None, None],\n",
        "          ]\n",
        ")\n",
        "\n",
        "figb.add_trace(\n",
        "    go.Bar(\n",
        "        x=top10_countries_1,\n",
        "        y=top10_confirmed, \n",
        "        name= \"Confirmed Cases\",\n",
        "        marker=dict(color=\"Yellow\"), \n",
        "        showlegend=True,\n",
        "    ),\n",
        "    row=1, col=1\n",
        ")\n",
        "\n",
        "figb.add_trace(\n",
        "    go.Bar(\n",
        "        x=top10_countries_2,\n",
        "        y=top10_recovered, \n",
        "        name= \"Recovered Cases\",\n",
        "        marker=dict(color=\"Green\"), \n",
        "        showlegend=True),\n",
        "    row=2, col=1\n",
        ")\n",
        "\n",
        "figb.add_trace(\n",
        "    go.Bar(\n",
        "        x=top10_countries_3,\n",
        "        y=top10_deaths, \n",
        "        name= \"Deaths Cases\",\n",
        "        marker=dict(color=\"crimson\"), \n",
        "        showlegend=True),\n",
        "    row=3, col=1\n",
        ")\n",
        "figb.add_trace(\n",
        "    go.Bar(\n",
        "        x=top10_countries_4,\n",
        "        y=top10_active, \n",
        "        name= \"Active Cases\",\n",
        "        marker=dict(color=\"orangered\"), \n",
        "        showlegend=True),\n",
        "    row=4, col=1\n",
        ")\n",
        "\n",
        "figb.update_layout(\n",
        "    template=\"plotly_dark\",\n",
        "    title = \"Bar Plot \",\n",
        "    showlegend=True,\n",
        "    legend_orientation=\"h\",\n",
        "    legend=dict(x=0.425, y=1.05),\n",
        "\n",
        ")\n",
        "\n",
        "figb.write_html('3.html', auto_open=True)\n"
      ],
      "execution_count": 14,
      "outputs": []
    },
    {
      "cell_type": "code",
      "metadata": {
        "colab": {
          "base_uri": "https://localhost:8080/",
          "height": 542
        },
        "id": "XGhWHHaME8_0",
        "outputId": "b13933c7-2e08-4c98-f86c-473b3e73f1e4"
      },
      "source": [
        "figb.show()"
      ],
      "execution_count": 15,
      "outputs": [
        {
          "output_type": "display_data",
          "data": {
            "text/html": [
              "<html>\n",
              "<head><meta charset=\"utf-8\" /></head>\n",
              "<body>\n",
              "    <div>\n",
              "            <script src=\"https://cdnjs.cloudflare.com/ajax/libs/mathjax/2.7.5/MathJax.js?config=TeX-AMS-MML_SVG\"></script><script type=\"text/javascript\">if (window.MathJax) {MathJax.Hub.Config({SVG: {font: \"STIX-Web\"}});}</script>\n",
              "                <script type=\"text/javascript\">window.PlotlyConfig = {MathJaxConfig: 'local'};</script>\n",
              "        <script src=\"https://cdn.plot.ly/plotly-latest.min.js\"></script>    \n",
              "            <div id=\"84569a1a-66d0-418a-9c55-6e049ceccd92\" class=\"plotly-graph-div\" style=\"height:525px; width:100%;\"></div>\n",
              "            <script type=\"text/javascript\">\n",
              "                \n",
              "                    window.PLOTLYENV=window.PLOTLYENV || {};\n",
              "                    \n",
              "                if (document.getElementById(\"84569a1a-66d0-418a-9c55-6e049ceccd92\")) {\n",
              "                    Plotly.newPlot(\n",
              "                        '84569a1a-66d0-418a-9c55-6e049ceccd92',\n",
              "                        [{\"marker\": {\"color\": \"Yellow\"}, \"name\": \"Confirmed Cases\", \"showlegend\": true, \"type\": \"bar\", \"x\": [\"US\", \"India\", \"Brazil\", \"France\", \"Russia\", \"Turkey\", \"United Kingdom\", \"Italy\", \"Spain\", \"Germany\"], \"xaxis\": \"x\", \"y\": [31992070, 16610481, 14237078, 5502014, 4691290, 4550820, 4416588, 3935703, 3468617, 3276871], \"yaxis\": \"y\"}, {\"marker\": {\"color\": \"Green\"}, \"name\": \"Recovered Cases\", \"showlegend\": true, \"type\": \"bar\", \"x\": [\"India\", \"Brazil\", \"Russia\", \"Turkey\", \"Italy\", \"Germany\", \"Colombia\", \"Argentina\", \"Poland\", \"Iran\"], \"xaxis\": \"x2\", \"y\": [13867997, 12586272, 4321477, 3970111, 3351461, 2891590, 2555619, 2474514, 2401457, 1850791], \"yaxis\": \"y2\"}, {\"marker\": {\"color\": \"crimson\"}, \"name\": \"Deaths Cases\", \"showlegend\": true, \"type\": \"bar\", \"x\": [\"US\", \"Brazil\", \"Mexico\", \"India\", \"United Kingdom\", \"Italy\", \"Russia\", \"France\", \"Germany\", \"Spain\"], \"xaxis\": \"x3\", \"y\": [571199, 386416, 214504, 189544, 127638, 118699, 105718, 102655, 81492, 77591], \"yaxis\": \"y3\"}, {\"marker\": {\"color\": \"orangered\"}, \"name\": \"Active Cases\", \"showlegend\": true, \"type\": \"bar\", \"x\": [\"France\", \"United Kingdom\", \"Spain\", \"India\", \"Netherlands\", \"Brazil\", \"Belgium\", \"Sweden\", \"Serbia\", \"Turkey\"], \"xaxis\": \"x4\", \"y\": [5063125, 4274694, 3240650, 2552940, 1430078, 1264390, 944153, 924420, 669740, 543037], \"yaxis\": \"y4\"}],\n",
              "                        {\"legend\": {\"orientation\": \"h\", \"x\": 0.425, \"y\": 1.05}, \"showlegend\": true, \"template\": {\"data\": {\"bar\": [{\"error_x\": {\"color\": \"#f2f5fa\"}, \"error_y\": {\"color\": \"#f2f5fa\"}, \"marker\": {\"line\": {\"color\": \"rgb(17,17,17)\", \"width\": 0.5}}, \"type\": \"bar\"}], \"barpolar\": [{\"marker\": {\"line\": {\"color\": \"rgb(17,17,17)\", \"width\": 0.5}}, \"type\": \"barpolar\"}], \"carpet\": [{\"aaxis\": {\"endlinecolor\": \"#A2B1C6\", \"gridcolor\": \"#506784\", \"linecolor\": \"#506784\", \"minorgridcolor\": \"#506784\", \"startlinecolor\": \"#A2B1C6\"}, \"baxis\": {\"endlinecolor\": \"#A2B1C6\", \"gridcolor\": \"#506784\", \"linecolor\": \"#506784\", \"minorgridcolor\": \"#506784\", \"startlinecolor\": \"#A2B1C6\"}, \"type\": \"carpet\"}], \"choropleth\": [{\"colorbar\": {\"outlinewidth\": 0, \"ticks\": \"\"}, \"type\": \"choropleth\"}], \"contour\": [{\"colorbar\": {\"outlinewidth\": 0, \"ticks\": \"\"}, \"colorscale\": [[0.0, \"#0d0887\"], [0.1111111111111111, \"#46039f\"], [0.2222222222222222, \"#7201a8\"], [0.3333333333333333, \"#9c179e\"], [0.4444444444444444, \"#bd3786\"], [0.5555555555555556, \"#d8576b\"], [0.6666666666666666, \"#ed7953\"], [0.7777777777777778, \"#fb9f3a\"], [0.8888888888888888, \"#fdca26\"], [1.0, \"#f0f921\"]], \"type\": \"contour\"}], \"contourcarpet\": [{\"colorbar\": {\"outlinewidth\": 0, \"ticks\": \"\"}, \"type\": \"contourcarpet\"}], \"heatmap\": [{\"colorbar\": {\"outlinewidth\": 0, \"ticks\": \"\"}, \"colorscale\": [[0.0, \"#0d0887\"], [0.1111111111111111, \"#46039f\"], [0.2222222222222222, \"#7201a8\"], [0.3333333333333333, \"#9c179e\"], [0.4444444444444444, \"#bd3786\"], [0.5555555555555556, \"#d8576b\"], [0.6666666666666666, \"#ed7953\"], [0.7777777777777778, \"#fb9f3a\"], [0.8888888888888888, \"#fdca26\"], [1.0, \"#f0f921\"]], \"type\": \"heatmap\"}], \"heatmapgl\": [{\"colorbar\": {\"outlinewidth\": 0, \"ticks\": \"\"}, \"colorscale\": [[0.0, \"#0d0887\"], [0.1111111111111111, \"#46039f\"], [0.2222222222222222, \"#7201a8\"], [0.3333333333333333, \"#9c179e\"], [0.4444444444444444, \"#bd3786\"], [0.5555555555555556, \"#d8576b\"], [0.6666666666666666, \"#ed7953\"], [0.7777777777777778, \"#fb9f3a\"], [0.8888888888888888, \"#fdca26\"], [1.0, \"#f0f921\"]], \"type\": \"heatmapgl\"}], \"histogram\": [{\"marker\": {\"colorbar\": {\"outlinewidth\": 0, \"ticks\": \"\"}}, \"type\": \"histogram\"}], \"histogram2d\": [{\"colorbar\": {\"outlinewidth\": 0, \"ticks\": \"\"}, \"colorscale\": [[0.0, \"#0d0887\"], [0.1111111111111111, \"#46039f\"], [0.2222222222222222, \"#7201a8\"], [0.3333333333333333, \"#9c179e\"], [0.4444444444444444, \"#bd3786\"], [0.5555555555555556, \"#d8576b\"], [0.6666666666666666, \"#ed7953\"], [0.7777777777777778, \"#fb9f3a\"], [0.8888888888888888, \"#fdca26\"], [1.0, \"#f0f921\"]], \"type\": \"histogram2d\"}], \"histogram2dcontour\": [{\"colorbar\": {\"outlinewidth\": 0, \"ticks\": \"\"}, \"colorscale\": [[0.0, \"#0d0887\"], [0.1111111111111111, \"#46039f\"], [0.2222222222222222, \"#7201a8\"], [0.3333333333333333, \"#9c179e\"], [0.4444444444444444, \"#bd3786\"], [0.5555555555555556, \"#d8576b\"], [0.6666666666666666, \"#ed7953\"], [0.7777777777777778, \"#fb9f3a\"], [0.8888888888888888, \"#fdca26\"], [1.0, \"#f0f921\"]], \"type\": \"histogram2dcontour\"}], \"mesh3d\": [{\"colorbar\": {\"outlinewidth\": 0, \"ticks\": \"\"}, \"type\": \"mesh3d\"}], \"parcoords\": [{\"line\": {\"colorbar\": {\"outlinewidth\": 0, \"ticks\": \"\"}}, \"type\": \"parcoords\"}], \"pie\": [{\"automargin\": true, \"type\": \"pie\"}], \"scatter\": [{\"marker\": {\"line\": {\"color\": \"#283442\"}}, \"type\": \"scatter\"}], \"scatter3d\": [{\"line\": {\"colorbar\": {\"outlinewidth\": 0, \"ticks\": \"\"}}, \"marker\": {\"colorbar\": {\"outlinewidth\": 0, \"ticks\": \"\"}}, \"type\": \"scatter3d\"}], \"scattercarpet\": [{\"marker\": {\"colorbar\": {\"outlinewidth\": 0, \"ticks\": \"\"}}, \"type\": \"scattercarpet\"}], \"scattergeo\": [{\"marker\": {\"colorbar\": {\"outlinewidth\": 0, \"ticks\": \"\"}}, \"type\": \"scattergeo\"}], \"scattergl\": [{\"marker\": {\"line\": {\"color\": \"#283442\"}}, \"type\": \"scattergl\"}], \"scattermapbox\": [{\"marker\": {\"colorbar\": {\"outlinewidth\": 0, \"ticks\": \"\"}}, \"type\": \"scattermapbox\"}], \"scatterpolar\": [{\"marker\": {\"colorbar\": {\"outlinewidth\": 0, \"ticks\": \"\"}}, \"type\": \"scatterpolar\"}], \"scatterpolargl\": [{\"marker\": {\"colorbar\": {\"outlinewidth\": 0, \"ticks\": \"\"}}, \"type\": \"scatterpolargl\"}], \"scatterternary\": [{\"marker\": {\"colorbar\": {\"outlinewidth\": 0, \"ticks\": \"\"}}, \"type\": \"scatterternary\"}], \"surface\": [{\"colorbar\": {\"outlinewidth\": 0, \"ticks\": \"\"}, \"colorscale\": [[0.0, \"#0d0887\"], [0.1111111111111111, \"#46039f\"], [0.2222222222222222, \"#7201a8\"], [0.3333333333333333, \"#9c179e\"], [0.4444444444444444, \"#bd3786\"], [0.5555555555555556, \"#d8576b\"], [0.6666666666666666, \"#ed7953\"], [0.7777777777777778, \"#fb9f3a\"], [0.8888888888888888, \"#fdca26\"], [1.0, \"#f0f921\"]], \"type\": \"surface\"}], \"table\": [{\"cells\": {\"fill\": {\"color\": \"#506784\"}, \"line\": {\"color\": \"rgb(17,17,17)\"}}, \"header\": {\"fill\": {\"color\": \"#2a3f5f\"}, \"line\": {\"color\": \"rgb(17,17,17)\"}}, \"type\": \"table\"}]}, \"layout\": {\"annotationdefaults\": {\"arrowcolor\": \"#f2f5fa\", \"arrowhead\": 0, \"arrowwidth\": 1}, \"coloraxis\": {\"colorbar\": {\"outlinewidth\": 0, \"ticks\": \"\"}}, \"colorscale\": {\"diverging\": [[0, \"#8e0152\"], [0.1, \"#c51b7d\"], [0.2, \"#de77ae\"], [0.3, \"#f1b6da\"], [0.4, \"#fde0ef\"], [0.5, \"#f7f7f7\"], [0.6, \"#e6f5d0\"], [0.7, \"#b8e186\"], [0.8, \"#7fbc41\"], [0.9, \"#4d9221\"], [1, \"#276419\"]], \"sequential\": [[0.0, \"#0d0887\"], [0.1111111111111111, \"#46039f\"], [0.2222222222222222, \"#7201a8\"], [0.3333333333333333, \"#9c179e\"], [0.4444444444444444, \"#bd3786\"], [0.5555555555555556, \"#d8576b\"], [0.6666666666666666, \"#ed7953\"], [0.7777777777777778, \"#fb9f3a\"], [0.8888888888888888, \"#fdca26\"], [1.0, \"#f0f921\"]], \"sequentialminus\": [[0.0, \"#0d0887\"], [0.1111111111111111, \"#46039f\"], [0.2222222222222222, \"#7201a8\"], [0.3333333333333333, \"#9c179e\"], [0.4444444444444444, \"#bd3786\"], [0.5555555555555556, \"#d8576b\"], [0.6666666666666666, \"#ed7953\"], [0.7777777777777778, \"#fb9f3a\"], [0.8888888888888888, \"#fdca26\"], [1.0, \"#f0f921\"]]}, \"colorway\": [\"#636efa\", \"#EF553B\", \"#00cc96\", \"#ab63fa\", \"#FFA15A\", \"#19d3f3\", \"#FF6692\", \"#B6E880\", \"#FF97FF\", \"#FECB52\"], \"font\": {\"color\": \"#f2f5fa\"}, \"geo\": {\"bgcolor\": \"rgb(17,17,17)\", \"lakecolor\": \"rgb(17,17,17)\", \"landcolor\": \"rgb(17,17,17)\", \"showlakes\": true, \"showland\": true, \"subunitcolor\": \"#506784\"}, \"hoverlabel\": {\"align\": \"left\"}, \"hovermode\": \"closest\", \"mapbox\": {\"style\": \"dark\"}, \"paper_bgcolor\": \"rgb(17,17,17)\", \"plot_bgcolor\": \"rgb(17,17,17)\", \"polar\": {\"angularaxis\": {\"gridcolor\": \"#506784\", \"linecolor\": \"#506784\", \"ticks\": \"\"}, \"bgcolor\": \"rgb(17,17,17)\", \"radialaxis\": {\"gridcolor\": \"#506784\", \"linecolor\": \"#506784\", \"ticks\": \"\"}}, \"scene\": {\"xaxis\": {\"backgroundcolor\": \"rgb(17,17,17)\", \"gridcolor\": \"#506784\", \"gridwidth\": 2, \"linecolor\": \"#506784\", \"showbackground\": true, \"ticks\": \"\", \"zerolinecolor\": \"#C8D4E3\"}, \"yaxis\": {\"backgroundcolor\": \"rgb(17,17,17)\", \"gridcolor\": \"#506784\", \"gridwidth\": 2, \"linecolor\": \"#506784\", \"showbackground\": true, \"ticks\": \"\", \"zerolinecolor\": \"#C8D4E3\"}, \"zaxis\": {\"backgroundcolor\": \"rgb(17,17,17)\", \"gridcolor\": \"#506784\", \"gridwidth\": 2, \"linecolor\": \"#506784\", \"showbackground\": true, \"ticks\": \"\", \"zerolinecolor\": \"#C8D4E3\"}}, \"shapedefaults\": {\"line\": {\"color\": \"#f2f5fa\"}}, \"sliderdefaults\": {\"bgcolor\": \"#C8D4E3\", \"bordercolor\": \"rgb(17,17,17)\", \"borderwidth\": 1, \"tickwidth\": 0}, \"ternary\": {\"aaxis\": {\"gridcolor\": \"#506784\", \"linecolor\": \"#506784\", \"ticks\": \"\"}, \"baxis\": {\"gridcolor\": \"#506784\", \"linecolor\": \"#506784\", \"ticks\": \"\"}, \"bgcolor\": \"rgb(17,17,17)\", \"caxis\": {\"gridcolor\": \"#506784\", \"linecolor\": \"#506784\", \"ticks\": \"\"}}, \"title\": {\"x\": 0.05}, \"updatemenudefaults\": {\"bgcolor\": \"#506784\", \"borderwidth\": 0}, \"xaxis\": {\"automargin\": true, \"gridcolor\": \"#283442\", \"linecolor\": \"#506784\", \"ticks\": \"\", \"title\": {\"standoff\": 15}, \"zerolinecolor\": \"#283442\", \"zerolinewidth\": 2}, \"yaxis\": {\"automargin\": true, \"gridcolor\": \"#283442\", \"linecolor\": \"#506784\", \"ticks\": \"\", \"title\": {\"standoff\": 15}, \"zerolinecolor\": \"#283442\", \"zerolinewidth\": 2}}}, \"title\": {\"text\": \"Bar Plot \"}, \"xaxis\": {\"anchor\": \"y\", \"domain\": [0.0, 1.0]}, \"xaxis2\": {\"anchor\": \"y2\", \"domain\": [0.0, 1.0]}, \"xaxis3\": {\"anchor\": \"y3\", \"domain\": [0.0, 1.0]}, \"xaxis4\": {\"anchor\": \"y4\", \"domain\": [0.0, 1.0]}, \"yaxis\": {\"anchor\": \"x\", \"domain\": [0.80625, 1.0]}, \"yaxis2\": {\"anchor\": \"x2\", \"domain\": [0.5375, 0.73125]}, \"yaxis3\": {\"anchor\": \"x3\", \"domain\": [0.26875, 0.4625]}, \"yaxis4\": {\"anchor\": \"x4\", \"domain\": [0.0, 0.19375]}},\n",
              "                        {\"responsive\": true}\n",
              "                    ).then(function(){\n",
              "                            \n",
              "var gd = document.getElementById('84569a1a-66d0-418a-9c55-6e049ceccd92');\n",
              "var x = new MutationObserver(function (mutations, observer) {{\n",
              "        var display = window.getComputedStyle(gd).display;\n",
              "        if (!display || display === 'none') {{\n",
              "            console.log([gd, 'removed!']);\n",
              "            Plotly.purge(gd);\n",
              "            observer.disconnect();\n",
              "        }}\n",
              "}});\n",
              "\n",
              "// Listen for the removal of the full notebook cells\n",
              "var notebookContainer = gd.closest('#notebook-container');\n",
              "if (notebookContainer) {{\n",
              "    x.observe(notebookContainer, {childList: true});\n",
              "}}\n",
              "\n",
              "// Listen for the clearing of the current output cell\n",
              "var outputEl = gd.closest('.output');\n",
              "if (outputEl) {{\n",
              "    x.observe(outputEl, {childList: true});\n",
              "}}\n",
              "\n",
              "                        })\n",
              "                };\n",
              "                \n",
              "            </script>\n",
              "        </div>\n",
              "</body>\n",
              "</html>"
            ]
          },
          "metadata": {
            "tags": []
          }
        }
      ]
    },
    {
      "cell_type": "code",
      "metadata": {
        "id": "u3sPIYeHF9ZS"
      },
      "source": [
        "figc = make_subplots(\n",
        "    rows = 4, cols = 3,\n",
        "\n",
        "    specs=[\n",
        "            [{\"type\": \"scattergeo\", \"rowspan\": 4, \"colspan\": 3}, None, None ],\n",
        "            [    None, None, None  ],\n",
        "            [    None, None, None  ],\n",
        "            [    None, None, None  ],\n",
        "          ]\n",
        ")\n",
        "\n",
        "\n",
        "message = df_final[\"Country_Region\"] + \" \" + df_final[\"Province_State\"] + \"<br>\"\n",
        "message += \"Confirmed: \" + df_final[\"Confirmed\"].astype(str) + \"<br>\"\n",
        "message += \"Deaths: \" + df_final[\"Deaths\"].astype(str) + \"<br>\"\n",
        "message += \"Recovered: \" + df_final[\"Recovered\"].astype(str) + \"<br>\"\n",
        "message += \"Active: \" + df_final[\"Active\"].astype(str) + \"<br>\"\n",
        "message += \"Last updated: \" + df_final[\"Last_Update\"].astype(str)\n",
        "df_final[\"text\"] = message\n",
        "\n",
        "figc.add_trace(\n",
        "    go.Scattergeo(\n",
        "        locationmode = \"country names\",\n",
        "        lon = df_final[\"Long_\"],\n",
        "        lat = df_final[\"Lat\"],\n",
        "        hovertext = df_final[\"text\"],\n",
        "        showlegend=False,\n",
        "        marker = dict(\n",
        "            size = 10,\n",
        "            opacity = 0.8,\n",
        "            reversescale = True,\n",
        "            autocolorscale = True,\n",
        "            symbol = 'circle',\n",
        "            line = dict(\n",
        "                width=1,\n",
        "                color='rgba(102, 102, 102)'\n",
        "            ),\n",
        "            cmin = 0,\n",
        "            color = df_final['Confirmed'],\n",
        "            cmax = df_final['Confirmed'].max(),\n",
        "            colorbar_title=\"Confirmed Cases<br>Latest Update\",  \n",
        "            colorbar_x = 0.07\n",
        "        )\n",
        "\n",
        "    ),\n",
        "    \n",
        "    row=1, col=1\n",
        ")\n",
        "\n",
        "figc.update_layout(\n",
        "    template=\"plotly_dark\",\n",
        "    title = \"Scatter Geo \",\n",
        "\n",
        "    geo = dict(\n",
        "            projection_type=\"natural earth\",\n",
        "            showcoastlines=True,\n",
        "            landcolor=\"white\", \n",
        "            showland= True,\n",
        "            showocean = True,\n",
        "            lakecolor=\"LightBlue\"\n",
        "    ),\n",
        "\n",
        "    annotations=[\n",
        "        dict(\n",
        "            text=\"Source: https://bit.ly/3aEzxjK\",\n",
        "            showarrow=False,\n",
        "            xref=\"paper\",\n",
        "            yref=\"paper\",\n",
        "            x=0.55,\n",
        "            y=-0.1)\n",
        "    ]\n",
        ")\n",
        "\n",
        "figc.write_html('4.html', auto_open=True)"
      ],
      "execution_count": 16,
      "outputs": []
    },
    {
      "cell_type": "code",
      "metadata": {
        "colab": {
          "base_uri": "https://localhost:8080/",
          "height": 542
        },
        "id": "WPtRAvO9F_N-",
        "outputId": "009853b6-9920-452a-da5f-34a55da15831"
      },
      "source": [
        "figc.show()"
      ],
      "execution_count": 17,
      "outputs": [
        {
          "output_type": "display_data",
          "data": {
            "text/html": [
              "<html>\n",
              "<head><meta charset=\"utf-8\" /></head>\n",
              "<body>\n",
              "    <div>\n",
              "            <script src=\"https://cdnjs.cloudflare.com/ajax/libs/mathjax/2.7.5/MathJax.js?config=TeX-AMS-MML_SVG\"></script><script type=\"text/javascript\">if (window.MathJax) {MathJax.Hub.Config({SVG: {font: \"STIX-Web\"}});}</script>\n",
              "                <script type=\"text/javascript\">window.PlotlyConfig = {MathJaxConfig: 'local'};</script>\n",
              "        <script src=\"https://cdn.plot.ly/plotly-latest.min.js\"></script>    \n",
              "            <div id=\"9752a07f-b0c5-434b-ad0b-90232dfbd55f\" class=\"plotly-graph-div\" style=\"height:525px; width:100%;\"></div>\n",
              "            <script type=\"text/javascript\">\n",
              "                \n",
              "                    window.PLOTLYENV=window.PLOTLYENV || {};\n",
              "                    \n",
              "                if (document.getElementById(\"9752a07f-b0c5-434b-ad0b-90232dfbd55f\")) {\n",
              "                    Plotly.newPlot(\n",
              "                        '9752a07f-b0c5-434b-ad0b-90232dfbd55f',\n",
              "                        [{\"geo\": \"geo\", \"hovertext\": [\"Afghanistan <br>Confirmed: 58542<br>Deaths: 2565<br>Recovered: 52363<br>Active: 3614<br>Last updated: 2021-04-24 06:20:41\", \"Albania <br>Confirmed: 130270<br>Deaths: 2367<br>Recovered: 104278<br>Active: 23625<br>Last updated: 2021-04-24 06:20:41\", \"Algeria <br>Confirmed: 120562<br>Deaths: 3190<br>Recovered: 84038<br>Active: 33334<br>Last updated: 2021-04-24 06:20:41\", \"Andorra <br>Confirmed: 13007<br>Deaths: 123<br>Recovered: 12423<br>Active: 461<br>Last updated: 2021-04-24 06:20:41\", \"Angola <br>Confirmed: 25279<br>Deaths: 574<br>Recovered: 23089<br>Active: 1616<br>Last updated: 2021-04-24 06:20:41\", \"Antigua and Barbuda <br>Confirmed: 1222<br>Deaths: 31<br>Recovered: 995<br>Active: 196<br>Last updated: 2021-04-24 06:20:41\", \"Argentina <br>Confirmed: 2824652<br>Deaths: 61176<br>Recovered: 2474514<br>Active: 288962<br>Last updated: 2021-04-24 06:20:41\", \"Armenia <br>Confirmed: 212114<br>Deaths: 3984<br>Recovered: 192281<br>Active: 15849<br>Last updated: 2021-04-24 06:20:41\", \"Australia Australian Capital Territory<br>Confirmed: 123<br>Deaths: 3<br>Recovered: 120<br>Active: 0<br>Last updated: 2021-04-24 06:20:41\", \"Australia New South Wales<br>Confirmed: 5419<br>Deaths: 54<br>Recovered: 0<br>Active: 5365<br>Last updated: 2021-04-24 06:20:41\", \"Australia Northern Territory<br>Confirmed: 159<br>Deaths: 0<br>Recovered: 111<br>Active: 48<br>Last updated: 2021-04-24 06:20:41\", \"Australia Queensland<br>Confirmed: 1525<br>Deaths: 7<br>Recovered: 1454<br>Active: 64<br>Last updated: 2021-04-24 06:20:41\", \"Australia South Australia<br>Confirmed: 704<br>Deaths: 4<br>Recovered: 675<br>Active: 25<br>Last updated: 2021-04-24 06:20:41\", \"Australia Tasmania<br>Confirmed: 234<br>Deaths: 13<br>Recovered: 221<br>Active: 0<br>Last updated: 2021-04-24 06:20:41\", \"Australia Victoria<br>Confirmed: 20508<br>Deaths: 820<br>Recovered: 19665<br>Active: 23<br>Last updated: 2021-04-24 06:20:41\", \"Australia Western Australia<br>Confirmed: 984<br>Deaths: 9<br>Recovered: 946<br>Active: 29<br>Last updated: 2021-04-24 06:20:41\", \"Austria <br>Confirmed: 604823<br>Deaths: 10055<br>Recovered: 568213<br>Active: 26555<br>Last updated: 2021-04-24 06:20:41\", \"Azerbaijan <br>Confirmed: 309789<br>Deaths: 4307<br>Recovered: 274766<br>Active: 30716<br>Last updated: 2021-04-24 06:20:41\", \"Bahamas <br>Confirmed: 9976<br>Deaths: 196<br>Recovered: 9215<br>Active: 565<br>Last updated: 2021-04-24 06:20:41\", \"Bahrain <br>Confirmed: 169254<br>Deaths: 617<br>Recovered: 158133<br>Active: 10504<br>Last updated: 2021-04-24 06:20:41\", \"Bangladesh <br>Confirmed: 739703<br>Deaths: 10869<br>Recovered: 647674<br>Active: 81160<br>Last updated: 2021-04-24 06:20:41\", \"Barbados <br>Confirmed: 3820<br>Deaths: 44<br>Recovered: 3718<br>Active: 58<br>Last updated: 2021-04-24 06:20:41\", \"Belarus <br>Confirmed: 350221<br>Deaths: 2473<br>Recovered: 340660<br>Active: 7088<br>Last updated: 2021-04-24 06:20:41\", \"Belgium Antwerp<br>Confirmed: 123386<br>Deaths: 0<br>Recovered: 0<br>Active: 123386<br>Last updated: 2021-04-24 06:20:41\", \"Belgium Brussels<br>Confirmed: 119935<br>Deaths: 0<br>Recovered: 0<br>Active: 119935<br>Last updated: 2021-04-24 06:20:41\", \"Belgium East Flanders<br>Confirmed: 111290<br>Deaths: 0<br>Recovered: 0<br>Active: 111290<br>Last updated: 2021-04-24 06:20:41\", \"Belgium Flemish Brabant<br>Confirmed: 73931<br>Deaths: 0<br>Recovered: 0<br>Active: 73931<br>Last updated: 2021-04-24 06:20:41\", \"Belgium Hainaut<br>Confirmed: 143150<br>Deaths: 0<br>Recovered: 0<br>Active: 143150<br>Last updated: 2021-04-24 06:20:41\", \"Belgium Liege<br>Confirmed: 119349<br>Deaths: 0<br>Recovered: 0<br>Active: 119349<br>Last updated: 2021-04-24 06:20:41\", \"Belgium Limburg<br>Confirmed: 52399<br>Deaths: 0<br>Recovered: 0<br>Active: 52399<br>Last updated: 2021-04-24 06:20:41\", \"Belgium Luxembourg<br>Confirmed: 28349<br>Deaths: 0<br>Recovered: 0<br>Active: 28349<br>Last updated: 2021-04-24 06:20:41\", \"Belgium Namur<br>Confirmed: 53730<br>Deaths: 0<br>Recovered: 0<br>Active: 53730<br>Last updated: 2021-04-24 06:20:41\", \"Belgium Unknown<br>Confirmed: 18287<br>Deaths: 23954<br>Recovered: 0<br>Active: -5667<br>Last updated: 2021-04-24 06:20:41\", \"Belgium Walloon Brabant<br>Confirmed: 37068<br>Deaths: 0<br>Recovered: 0<br>Active: 37068<br>Last updated: 2021-04-24 06:20:41\", \"Belgium West Flanders<br>Confirmed: 87233<br>Deaths: 0<br>Recovered: 0<br>Active: 87233<br>Last updated: 2021-04-24 06:20:41\", \"Belize <br>Confirmed: 12599<br>Deaths: 321<br>Recovered: 12168<br>Active: 110<br>Last updated: 2021-04-24 06:20:41\", \"Benin <br>Confirmed: 7720<br>Deaths: 97<br>Recovered: 7510<br>Active: 113<br>Last updated: 2021-04-24 06:20:41\", \"Bhutan <br>Confirmed: 1008<br>Deaths: 1<br>Recovered: 926<br>Active: 81<br>Last updated: 2021-04-24 06:20:41\", \"Bolivia <br>Confirmed: 295892<br>Deaths: 12783<br>Recovered: 244079<br>Active: 39030<br>Last updated: 2021-04-24 06:20:41\", \"Bosnia and Herzegovina <br>Confirmed: 194733<br>Deaths: 8203<br>Recovered: 153408<br>Active: 33122<br>Last updated: 2021-04-24 06:20:41\", \"Botswana <br>Confirmed: 45855<br>Deaths: 691<br>Recovered: 41338<br>Active: 3826<br>Last updated: 2021-04-24 06:20:41\", \"Brazil Acre<br>Confirmed: 76376<br>Deaths: 1465<br>Recovered: 63119<br>Active: 11792<br>Last updated: 2021-04-24 06:20:41\", \"Brazil Alagoas<br>Confirmed: 169265<br>Deaths: 4074<br>Recovered: 161436<br>Active: 3755<br>Last updated: 2021-04-24 06:20:41\", \"Brazil Amapa<br>Confirmed: 104109<br>Deaths: 1502<br>Recovered: 76149<br>Active: 26458<br>Last updated: 2021-04-24 06:20:41\", \"Brazil Amazonas<br>Confirmed: 366798<br>Deaths: 12494<br>Recovered: 311360<br>Active: 42944<br>Last updated: 2021-04-24 06:20:41\", \"Brazil Bahia<br>Confirmed: 877484<br>Deaths: 17804<br>Recovered: 843954<br>Active: 15726<br>Last updated: 2021-04-24 06:20:41\", \"Brazil Ceara<br>Confirmed: 641230<br>Deaths: 16790<br>Recovered: 440233<br>Active: 184207<br>Last updated: 2021-04-24 06:20:41\", \"Brazil Distrito Federal<br>Confirmed: 371719<br>Deaths: 7494<br>Recovered: 353241<br>Active: 10984<br>Last updated: 2021-04-24 06:20:41\", \"Brazil Espirito Santo<br>Confirmed: 425549<br>Deaths: 9079<br>Recovered: 398099<br>Active: 18371<br>Last updated: 2021-04-24 06:20:41\", \"Brazil Goias<br>Confirmed: 536340<br>Deaths: 14343<br>Recovered: 511674<br>Active: 10323<br>Last updated: 2021-04-24 06:20:41\", \"Brazil Maranhao<br>Confirmed: 261350<br>Deaths: 7063<br>Recovered: 234573<br>Active: 19714<br>Last updated: 2021-04-24 06:20:41\", \"Brazil Mato Grosso<br>Confirmed: 349426<br>Deaths: 9273<br>Recovered: 330093<br>Active: 10060<br>Last updated: 2021-04-24 06:20:41\", \"Brazil Mato Grosso do Sul<br>Confirmed: 241673<br>Deaths: 5422<br>Recovered: 224726<br>Active: 11525<br>Last updated: 2021-04-24 06:20:41\", \"Brazil Minas Gerais<br>Confirmed: 1307937<br>Deaths: 31494<br>Recovered: 1198780<br>Active: 77663<br>Last updated: 2021-04-24 06:20:41\", \"Brazil Para<br>Confirmed: 460306<br>Deaths: 12354<br>Recovered: 431220<br>Active: 16732<br>Last updated: 2021-04-24 06:20:41\", \"Brazil Paraiba<br>Confirmed: 285323<br>Deaths: 6607<br>Recovered: 195659<br>Active: 83057<br>Last updated: 2021-04-24 06:20:41\", \"Brazil Parana<br>Confirmed: 923580<br>Deaths: 21199<br>Recovered: 661922<br>Active: 240459<br>Last updated: 2021-04-24 06:20:41\", \"Brazil Pernambuco<br>Confirmed: 391740<br>Deaths: 13524<br>Recovered: 330763<br>Active: 47453<br>Last updated: 2021-04-24 06:20:41\", \"Brazil Piaui<br>Confirmed: 233228<br>Deaths: 4886<br>Recovered: 227049<br>Active: 1293<br>Last updated: 2021-04-24 06:20:41\", \"Brazil Rio Grande do Norte<br>Confirmed: 215824<br>Deaths: 5254<br>Recovered: 150649<br>Active: 59921<br>Last updated: 2021-04-24 06:20:41\", \"Brazil Rio Grande do Sul<br>Confirmed: 942712<br>Deaths: 23975<br>Recovered: 905523<br>Active: 13214<br>Last updated: 2021-04-24 06:20:41\", \"Brazil Rio de Janeiro<br>Confirmed: 720749<br>Deaths: 42634<br>Recovered: 669491<br>Active: 8624<br>Last updated: 2021-04-24 06:20:41\", \"Brazil Rondonia<br>Confirmed: 208292<br>Deaths: 4999<br>Recovered: 190718<br>Active: 12575<br>Last updated: 2021-04-24 06:20:41\", \"Brazil Roraima<br>Confirmed: 94769<br>Deaths: 1472<br>Recovered: 89008<br>Active: 4289<br>Last updated: 2021-04-24 06:20:41\", \"Brazil Santa Catarina<br>Confirmed: 868607<br>Deaths: 13014<br>Recovered: 833192<br>Active: 22401<br>Last updated: 2021-04-24 06:20:41\", \"Brazil Sao Paulo<br>Confirmed: 2811562<br>Deaths: 91673<br>Recovered: 2440374<br>Active: 279515<br>Last updated: 2021-04-24 06:20:41\", \"Brazil Sergipe<br>Confirmed: 195191<br>Deaths: 4088<br>Recovered: 176222<br>Active: 14881<br>Last updated: 2021-04-24 06:20:41\", \"Brazil Tocantins<br>Confirmed: 155939<br>Deaths: 2440<br>Recovered: 137045<br>Active: 16454<br>Last updated: 2021-04-24 06:20:41\", \"Brunei <br>Confirmed: 223<br>Deaths: 3<br>Recovered: 210<br>Active: 10<br>Last updated: 2021-04-24 06:20:41\", \"Bulgaria <br>Confirmed: 396302<br>Deaths: 15826<br>Recovered: 323877<br>Active: 56599<br>Last updated: 2021-04-24 06:20:41\", \"Burkina Faso <br>Confirmed: 13231<br>Deaths: 156<br>Recovered: 12887<br>Active: 188<br>Last updated: 2021-04-24 06:20:41\", \"Burma <br>Confirmed: 142687<br>Deaths: 3206<br>Recovered: 131921<br>Active: 7560<br>Last updated: 2021-04-24 06:20:41\", \"Burundi <br>Confirmed: 3759<br>Deaths: 6<br>Recovered: 773<br>Active: 2980<br>Last updated: 2021-04-24 06:20:41\", \"Cabo Verde <br>Confirmed: 21784<br>Deaths: 201<br>Recovered: 18959<br>Active: 2624<br>Last updated: 2021-04-24 06:20:41\", \"Cambodia <br>Confirmed: 8848<br>Deaths: 61<br>Recovered: 3148<br>Active: 5639<br>Last updated: 2021-04-24 06:20:41\", \"Cameroon <br>Confirmed: 65998<br>Deaths: 991<br>Recovered: 35261<br>Active: 29746<br>Last updated: 2021-04-24 06:20:41\", \"Canada Alberta<br>Confirmed: 178777<br>Deaths: 2059<br>Recovered: 157272<br>Active: 19446<br>Last updated: 2021-04-24 06:20:41\", \"Canada British Columbia<br>Confirmed: 123758<br>Deaths: 1554<br>Recovered: 113139<br>Active: 9065<br>Last updated: 2021-04-24 06:20:41\", \"Canada Diamond Princess<br>Confirmed: 0<br>Deaths: 1<br>Recovered: 0<br>Active: 0<br>Last updated: 2020-12-21 13:27:30\", \"Canada Grand Princess<br>Confirmed: 13<br>Deaths: 0<br>Recovered: 13<br>Active: 0<br>Last updated: 2020-12-21 13:27:30\", \"Canada Manitoba<br>Confirmed: 37069<br>Deaths: 964<br>Recovered: 34366<br>Active: 1739<br>Last updated: 2021-04-24 06:20:41\", \"Canada New Brunswick<br>Confirmed: 1839<br>Deaths: 34<br>Recovered: 1656<br>Active: 149<br>Last updated: 2021-04-24 06:20:41\", \"Canada Newfoundland and Labrador<br>Confirmed: 1053<br>Deaths: 6<br>Recovered: 1020<br>Active: 27<br>Last updated: 2021-04-24 06:20:41\", \"Canada Northwest Territories<br>Confirmed: 54<br>Deaths: 0<br>Recovered: 49<br>Active: 5<br>Last updated: 2021-04-24 06:20:41\", \"Canada Nova Scotia<br>Confirmed: 1938<br>Deaths: 67<br>Recovered: 1721<br>Active: 150<br>Last updated: 2021-04-24 06:20:41\", \"Canada Nunavut<br>Confirmed: 441<br>Deaths: 4<br>Recovered: 400<br>Active: 37<br>Last updated: 2021-04-24 06:20:41\", \"Canada Ontario<br>Confirmed: 445407<br>Deaths: 7849<br>Recovered: 400089<br>Active: 37469<br>Last updated: 2021-04-24 06:20:41\", \"Canada Prince Edward Island<br>Confirmed: 175<br>Deaths: 0<br>Recovered: 164<br>Active: 11<br>Last updated: 2021-04-24 06:20:41\", \"Canada Quebec<br>Confirmed: 342688<br>Deaths: 10860<br>Recovered: 320302<br>Active: 11526<br>Last updated: 2021-04-24 06:20:41\", \"Canada Repatriated Travellers<br>Confirmed: 13<br>Deaths: 0<br>Recovered: 13<br>Active: 0<br>Last updated: 2021-04-24 06:20:41\", \"Canada Saskatchewan<br>Confirmed: 39392<br>Deaths: 471<br>Recovered: 36458<br>Active: 2463<br>Last updated: 2021-04-24 06:20:41\", \"Canada Yukon<br>Confirmed: 80<br>Deaths: 1<br>Recovered: 77<br>Active: 2<br>Last updated: 2021-04-24 06:20:41\", \"Central African Republic <br>Confirmed: 6224<br>Deaths: 85<br>Recovered: 5112<br>Active: 1027<br>Last updated: 2021-04-24 06:20:41\", \"Chad <br>Confirmed: 4747<br>Deaths: 169<br>Recovered: 4382<br>Active: 196<br>Last updated: 2021-04-24 06:20:41\", \"Chile Antofagasta<br>Confirmed: 47649<br>Deaths: 944<br>Recovered: 45198<br>Active: 1507<br>Last updated: 2021-04-24 06:20:41\", \"Chile Araucania<br>Confirmed: 67353<br>Deaths: 828<br>Recovered: 62852<br>Active: 3673<br>Last updated: 2021-04-24 06:20:41\", \"Chile Arica y Parinacota<br>Confirmed: 19471<br>Deaths: 388<br>Recovered: 18300<br>Active: 783<br>Last updated: 2021-04-24 06:20:41\", \"Chile Atacama<br>Confirmed: 17208<br>Deaths: 195<br>Recovered: 15945<br>Active: 1068<br>Last updated: 2021-04-24 06:20:41\", \"Chile Aysen<br>Confirmed: 4085<br>Deaths: 30<br>Recovered: 3866<br>Active: 189<br>Last updated: 2021-04-24 06:20:41\", \"Chile Biobio<br>Confirmed: 111596<br>Deaths: 1824<br>Recovered: 105429<br>Active: 4343<br>Last updated: 2021-04-24 06:20:41\", \"Chile Coquimbo<br>Confirmed: 30883<br>Deaths: 600<br>Recovered: 29168<br>Active: 1115<br>Last updated: 2021-04-24 06:20:41\", \"Chile Los Lagos<br>Confirmed: 67221<br>Deaths: 889<br>Recovered: 64618<br>Active: 1714<br>Last updated: 2021-04-24 06:20:41\", \"Chile Los Rios<br>Confirmed: 32492<br>Deaths: 364<br>Recovered: 30875<br>Active: 1253<br>Last updated: 2021-04-24 06:20:41\", \"Chile Magallanes<br>Confirmed: 24577<br>Deaths: 366<br>Recovered: 23539<br>Active: 672<br>Last updated: 2021-04-24 06:20:41\", \"Chile Maule<br>Confirmed: 67211<br>Deaths: 1143<br>Recovered: 62004<br>Active: 4064<br>Last updated: 2021-04-24 06:20:41\", \"Chile Metropolitana<br>Confirmed: 481171<br>Deaths: 13823<br>Recovered: 450381<br>Active: 16967<br>Last updated: 2021-04-24 06:20:41\", \"Chile Nuble<br>Confirmed: 24994<br>Deaths: 447<br>Recovered: 23608<br>Active: 939<br>Last updated: 2021-04-24 06:20:41\", \"Chile OHiggins<br>Confirmed: 45975<br>Deaths: 1008<br>Recovered: 42932<br>Active: 2035<br>Last updated: 2021-04-24 06:20:41\", \"Chile Tarapaca<br>Confirmed: 32702<br>Deaths: 595<br>Recovered: 31066<br>Active: 1041<br>Last updated: 2021-04-24 06:20:41\", \"Chile Unknown<br>Confirmed: 55<br>Deaths: 0<br>Recovered: 48<br>Active: 7<br>Last updated: 2021-04-24 06:20:41\", \"Chile Valparaiso<br>Confirmed: 81259<br>Deaths: 2197<br>Recovered: 75002<br>Active: 4060<br>Last updated: 2021-04-24 06:20:41\", \"China Anhui<br>Confirmed: 994<br>Deaths: 6<br>Recovered: 988<br>Active: 0<br>Last updated: 2021-04-24 06:20:41\", \"China Beijing<br>Confirmed: 1057<br>Deaths: 9<br>Recovered: 1038<br>Active: 10<br>Last updated: 2021-04-24 06:20:41\", \"China Chongqing<br>Confirmed: 594<br>Deaths: 6<br>Recovered: 585<br>Active: 3<br>Last updated: 2021-04-24 06:20:41\", \"China Fujian<br>Confirmed: 586<br>Deaths: 1<br>Recovered: 561<br>Active: 24<br>Last updated: 2021-04-24 06:20:41\", \"China Gansu<br>Confirmed: 193<br>Deaths: 2<br>Recovered: 190<br>Active: 1<br>Last updated: 2021-04-24 06:20:41\", \"China Guangdong<br>Confirmed: 2328<br>Deaths: 8<br>Recovered: 2275<br>Active: 45<br>Last updated: 2021-04-24 06:20:41\", \"China Guangxi<br>Confirmed: 270<br>Deaths: 2<br>Recovered: 265<br>Active: 3<br>Last updated: 2021-04-24 06:20:41\", \"China Guizhou<br>Confirmed: 147<br>Deaths: 2<br>Recovered: 145<br>Active: 0<br>Last updated: 2021-04-24 06:20:41\", \"China Hainan<br>Confirmed: 187<br>Deaths: 6<br>Recovered: 165<br>Active: 16<br>Last updated: 2021-04-24 06:20:41\", \"China Hebei<br>Confirmed: 1317<br>Deaths: 7<br>Recovered: 1310<br>Active: 0<br>Last updated: 2021-04-24 06:20:41\", \"China Heilongjiang<br>Confirmed: 1610<br>Deaths: 13<br>Recovered: 1597<br>Active: 0<br>Last updated: 2021-04-24 06:20:41\", \"China Henan<br>Confirmed: 1312<br>Deaths: 22<br>Recovered: 1285<br>Active: 5<br>Last updated: 2021-04-24 06:20:41\", \"China Hong Kong<br>Confirmed: 11727<br>Deaths: 209<br>Recovered: 11325<br>Active: 193<br>Last updated: 2021-04-24 06:20:41\", \"China Hubei<br>Confirmed: 68157<br>Deaths: 4512<br>Recovered: 63640<br>Active: 5<br>Last updated: 2021-04-24 06:20:41\", \"China Hunan<br>Confirmed: 1044<br>Deaths: 4<br>Recovered: 1036<br>Active: 4<br>Last updated: 2021-04-24 06:20:41\", \"China Inner Mongolia<br>Confirmed: 379<br>Deaths: 1<br>Recovered: 376<br>Active: 2<br>Last updated: 2021-04-24 06:20:41\", \"China Jiangsu<br>Confirmed: 717<br>Deaths: 0<br>Recovered: 708<br>Active: 9<br>Last updated: 2021-04-24 06:20:41\", \"China Jiangxi<br>Confirmed: 937<br>Deaths: 1<br>Recovered: 936<br>Active: 0<br>Last updated: 2021-04-24 06:20:41\", \"China Jilin<br>Confirmed: 573<br>Deaths: 3<br>Recovered: 570<br>Active: 0<br>Last updated: 2021-04-24 06:20:41\", \"China Liaoning<br>Confirmed: 408<br>Deaths: 2<br>Recovered: 406<br>Active: 0<br>Last updated: 2021-04-24 06:20:41\", \"China Macau<br>Confirmed: 49<br>Deaths: 0<br>Recovered: 49<br>Active: 0<br>Last updated: 2021-04-24 06:20:41\", \"China Ningxia<br>Confirmed: 75<br>Deaths: 0<br>Recovered: 75<br>Active: 0<br>Last updated: 2021-04-24 06:20:41\", \"China Qinghai<br>Confirmed: 18<br>Deaths: 0<br>Recovered: 18<br>Active: 0<br>Last updated: 2021-04-24 06:20:41\", \"China Shaanxi<br>Confirmed: 588<br>Deaths: 3<br>Recovered: 568<br>Active: 17<br>Last updated: 2021-04-24 06:20:41\", \"China Shandong<br>Confirmed: 876<br>Deaths: 7<br>Recovered: 862<br>Active: 7<br>Last updated: 2021-04-24 06:20:41\", \"China Shanghai<br>Confirmed: 1958<br>Deaths: 7<br>Recovered: 1892<br>Active: 59<br>Last updated: 2021-04-24 06:20:41\", \"China Shanxi<br>Confirmed: 249<br>Deaths: 0<br>Recovered: 242<br>Active: 7<br>Last updated: 2021-04-24 06:20:41\", \"China Sichuan<br>Confirmed: 968<br>Deaths: 3<br>Recovered: 948<br>Active: 17<br>Last updated: 2021-04-24 06:20:41\", \"China Tianjin<br>Confirmed: 383<br>Deaths: 3<br>Recovered: 372<br>Active: 8<br>Last updated: 2021-04-24 06:20:41\", \"China Tibet<br>Confirmed: 1<br>Deaths: 0<br>Recovered: 1<br>Active: 0<br>Last updated: 2021-04-24 06:20:41\", \"China Unknown<br>Confirmed: 0<br>Deaths: 0<br>Recovered: 5<br>Active: -5<br>Last updated: 2021-04-24 06:20:41\", \"China Xinjiang<br>Confirmed: 980<br>Deaths: 3<br>Recovered: 977<br>Active: 0<br>Last updated: 2021-04-24 06:20:41\", \"China Yunnan<br>Confirmed: 338<br>Deaths: 2<br>Recovered: 278<br>Active: 58<br>Last updated: 2021-04-24 06:20:41\", \"China Zhejiang<br>Confirmed: 1331<br>Deaths: 1<br>Recovered: 1320<br>Active: 10<br>Last updated: 2021-04-24 06:20:41\", \"Colombia Amazonas<br>Confirmed: 6099<br>Deaths: 235<br>Recovered: 5800<br>Active: 64<br>Last updated: 2021-04-24 06:20:41\", \"Colombia Antioquia<br>Confirmed: 450099<br>Deaths: 8938<br>Recovered: 416668<br>Active: 24493<br>Last updated: 2021-04-24 06:20:41\", \"Colombia Arauca<br>Confirmed: 6275<br>Deaths: 183<br>Recovered: 5858<br>Active: 234<br>Last updated: 2021-04-24 06:20:41\", \"Colombia Atlantico<br>Confirmed: 218229<br>Deaths: 6185<br>Recovered: 199951<br>Active: 12093<br>Last updated: 2021-04-24 06:20:41\", \"Colombia Bolivar<br>Confirmed: 76785<br>Deaths: 1499<br>Recovered: 73685<br>Active: 1601<br>Last updated: 2021-04-24 06:20:41\", \"Colombia Boyaca<br>Confirmed: 51625<br>Deaths: 1210<br>Recovered: 48806<br>Active: 1609<br>Last updated: 2021-04-24 06:20:41\", \"Colombia Caldas<br>Confirmed: 58249<br>Deaths: 1142<br>Recovered: 54128<br>Active: 2979<br>Last updated: 2021-04-24 06:20:41\", \"Colombia Capital District<br>Confirmed: 758895<br>Deaths: 15199<br>Recovered: 701961<br>Active: 41735<br>Last updated: 2021-04-24 06:20:41\", \"Colombia Caqueta<br>Confirmed: 17359<br>Deaths: 655<br>Recovered: 16528<br>Active: 176<br>Last updated: 2021-04-24 06:20:41\", \"Colombia Casanare<br>Confirmed: 14360<br>Deaths: 327<br>Recovered: 13471<br>Active: 562<br>Last updated: 2021-04-24 06:20:41\", \"Colombia Cauca<br>Confirmed: 29754<br>Deaths: 801<br>Recovered: 28155<br>Active: 798<br>Last updated: 2021-04-24 06:20:41\", \"Colombia Cesar<br>Confirmed: 49970<br>Deaths: 1366<br>Recovered: 47018<br>Active: 1586<br>Last updated: 2021-04-24 06:20:41\", \"Colombia Choco<br>Confirmed: 7581<br>Deaths: 213<br>Recovered: 7064<br>Active: 304<br>Last updated: 2021-04-24 06:20:41\", \"Colombia Cordoba<br>Confirmed: 49866<br>Deaths: 2170<br>Recovered: 45634<br>Active: 2062<br>Last updated: 2021-04-24 06:20:41\", \"Colombia Cundinamarca<br>Confirmed: 121396<br>Deaths: 3236<br>Recovered: 114761<br>Active: 3399<br>Last updated: 2021-04-24 06:20:41\", \"Colombia Guainia<br>Confirmed: 1411<br>Deaths: 22<br>Recovered: 1371<br>Active: 18<br>Last updated: 2021-04-24 06:20:41\", \"Colombia Guaviare<br>Confirmed: 2325<br>Deaths: 40<br>Recovered: 2272<br>Active: 13<br>Last updated: 2021-04-24 06:20:41\", \"Colombia Huila<br>Confirmed: 52826<br>Deaths: 1842<br>Recovered: 50342<br>Active: 642<br>Last updated: 2021-04-24 06:20:41\", \"Colombia La Guajira<br>Confirmed: 26279<br>Deaths: 831<br>Recovered: 24334<br>Active: 1114<br>Last updated: 2021-04-24 06:20:41\", \"Colombia Magdalena<br>Confirmed: 55658<br>Deaths: 2081<br>Recovered: 51304<br>Active: 2273<br>Last updated: 2021-04-24 06:20:41\", \"Colombia Meta<br>Confirmed: 45602<br>Deaths: 1042<br>Recovered: 43961<br>Active: 599<br>Last updated: 2021-04-24 06:20:41\", \"Colombia Narino<br>Confirmed: 52568<br>Deaths: 1747<br>Recovered: 49506<br>Active: 1315<br>Last updated: 2021-04-24 06:20:41\", \"Colombia Norte de Santander<br>Confirmed: 54103<br>Deaths: 2818<br>Recovered: 50247<br>Active: 1038<br>Last updated: 2021-04-24 06:20:41\", \"Colombia Putumayo<br>Confirmed: 8997<br>Deaths: 336<br>Recovered: 8380<br>Active: 281<br>Last updated: 2021-04-24 06:20:41\", \"Colombia Quindio<br>Confirmed: 38205<br>Deaths: 1135<br>Recovered: 36162<br>Active: 908<br>Last updated: 2021-04-24 06:20:41\", \"Colombia Risaralda<br>Confirmed: 54904<br>Deaths: 1325<br>Recovered: 51731<br>Active: 1848<br>Last updated: 2021-04-24 06:20:41\", \"Colombia San Andres y Providencia<br>Confirmed: 3294<br>Deaths: 50<br>Recovered: 3112<br>Active: 132<br>Last updated: 2021-04-24 06:20:41\", \"Colombia Santander<br>Confirmed: 100313<br>Deaths: 3601<br>Recovered: 94150<br>Active: 2562<br>Last updated: 2021-04-24 06:20:41\", \"Colombia Sucre<br>Confirmed: 26313<br>Deaths: 946<br>Recovered: 24491<br>Active: 876<br>Last updated: 2021-04-24 06:20:41\", \"Colombia Tolima<br>Confirmed: 68477<br>Deaths: 2194<br>Recovered: 65316<br>Active: 967<br>Last updated: 2021-04-24 06:20:41\", \"Colombia Unknown<br>Confirmed: 0<br>Deaths: 0<br>Recovered: 0<br>Active: 0<br>Last updated: 2021-04-24 06:20:41\", \"Colombia Valle del Cauca<br>Confirmed: 229982<br>Deaths: 7041<br>Recovered: 216757<br>Active: 6184<br>Last updated: 2021-04-24 06:20:41\", \"Colombia Vaupes<br>Confirmed: 1216<br>Deaths: 13<br>Recovered: 1195<br>Active: 8<br>Last updated: 2021-04-24 06:20:41\", \"Colombia Vichada<br>Confirmed: 1529<br>Deaths: 23<br>Recovered: 1500<br>Active: 6<br>Last updated: 2021-04-24 06:20:41\", \"Comoros <br>Confirmed: 3826<br>Deaths: 146<br>Recovered: 3645<br>Active: 35<br>Last updated: 2021-04-24 06:20:41\", \"Congo (Brazzaville) <br>Confirmed: 10084<br>Deaths: 139<br>Recovered: 8208<br>Active: 1737<br>Last updated: 2021-04-24 06:20:41\", \"Congo (Kinshasa) <br>Confirmed: 29405<br>Deaths: 752<br>Recovered: 26135<br>Active: 2518<br>Last updated: 2021-04-24 06:20:41\", \"Costa Rica <br>Confirmed: 236930<br>Deaths: 3136<br>Recovered: 199982<br>Active: 33812<br>Last updated: 2021-04-24 06:20:41\", \"Cote d'Ivoire <br>Confirmed: 45765<br>Deaths: 279<br>Recovered: 45311<br>Active: 175<br>Last updated: 2021-04-24 06:20:41\", \"Croatia <br>Confirmed: 318837<br>Deaths: 6784<br>Recovered: 295885<br>Active: 16168<br>Last updated: 2021-04-24 06:20:41\", \"Cuba <br>Confirmed: 99208<br>Deaths: 569<br>Recovered: 92960<br>Active: 5679<br>Last updated: 2021-04-24 06:20:41\", \"Cyprus <br>Confirmed: 60681<br>Deaths: 297<br>Recovered: 39061<br>Active: 21323<br>Last updated: 2021-04-24 06:20:41\", \"Czechia <br>Confirmed: 1615461<br>Deaths: 28863<br>Recovered: 1522461<br>Active: 64137<br>Last updated: 2021-04-24 06:20:41\", \"Denmark <br>Confirmed: 246463<br>Deaths: 2472<br>Recovered: 234341<br>Active: 9650<br>Last updated: 2021-04-24 06:20:41\", \"Denmark Faroe Islands<br>Confirmed: 663<br>Deaths: 1<br>Recovered: 660<br>Active: 2<br>Last updated: 2021-04-24 06:20:41\", \"Denmark Greenland<br>Confirmed: 31<br>Deaths: 0<br>Recovered: 31<br>Active: 0<br>Last updated: 2021-04-24 06:20:41\", \"Diamond Princess <br>Confirmed: 712<br>Deaths: 13<br>Recovered: 699<br>Active: 0<br>Last updated: 2021-04-24 06:20:41\", \"Djibouti <br>Confirmed: 10738<br>Deaths: 132<br>Recovered: 10207<br>Active: 399<br>Last updated: 2021-04-24 06:20:41\", \"Dominica <br>Confirmed: 173<br>Deaths: 0<br>Recovered: 171<br>Active: 2<br>Last updated: 2021-04-24 06:20:41\", \"Dominican Republic <br>Confirmed: 263470<br>Deaths: 3448<br>Recovered: 220678<br>Active: 39344<br>Last updated: 2021-04-24 06:20:41\", \"Ecuador <br>Confirmed: 371306<br>Deaths: 18062<br>Recovered: 309541<br>Active: 43703<br>Last updated: 2021-04-24 06:20:41\", \"Egypt <br>Confirmed: 220658<br>Deaths: 12959<br>Recovered: 166024<br>Active: 41675<br>Last updated: 2021-04-24 06:20:41\", \"El Salvador <br>Confirmed: 68318<br>Deaths: 2093<br>Recovered: 64340<br>Active: 1885<br>Last updated: 2021-04-24 06:20:41\", \"Equatorial Guinea <br>Confirmed: 7559<br>Deaths: 107<br>Recovered: 7097<br>Active: 355<br>Last updated: 2021-04-24 06:20:41\", \"Eritrea <br>Confirmed: 3605<br>Deaths: 10<br>Recovered: 3410<br>Active: 185<br>Last updated: 2021-04-24 06:20:41\", \"Estonia <br>Confirmed: 119610<br>Deaths: 1126<br>Recovered: 106255<br>Active: 12229<br>Last updated: 2021-04-24 06:20:41\", \"Eswatini <br>Confirmed: 18434<br>Deaths: 671<br>Recovered: 17730<br>Active: 33<br>Last updated: 2021-04-24 06:20:41\", \"Ethiopia <br>Confirmed: 249292<br>Deaths: 3511<br>Recovered: 188080<br>Active: 57701<br>Last updated: 2021-04-24 06:20:41\", \"Fiji <br>Confirmed: 87<br>Deaths: 2<br>Recovered: 65<br>Active: 20<br>Last updated: 2021-04-24 06:20:41\", \"Finland <br>Confirmed: 85344<br>Deaths: 903<br>Recovered: 46000<br>Active: 38441<br>Last updated: 2021-04-24 06:20:41\", \"France <br>Confirmed: 5399600<br>Deaths: 101830<br>Recovered: 296453<br>Active: 5001317<br>Last updated: 2021-04-24 06:20:41\", \"France French Guiana<br>Confirmed: 18545<br>Deaths: 96<br>Recovered: 9995<br>Active: 8454<br>Last updated: 2021-04-24 06:20:41\", \"France French Polynesia<br>Confirmed: 18725<br>Deaths: 141<br>Recovered: 4842<br>Active: 13742<br>Last updated: 2021-04-24 06:20:41\", \"France Guadeloupe<br>Confirmed: 12927<br>Deaths: 194<br>Recovered: 2242<br>Active: 10491<br>Last updated: 2021-04-24 06:20:41\", \"France Martinique<br>Confirmed: 9758<br>Deaths: 66<br>Recovered: 98<br>Active: 9594<br>Last updated: 2021-04-24 06:20:41\", \"France Mayotte<br>Confirmed: 19849<br>Deaths: 169<br>Recovered: 2964<br>Active: 16716<br>Last updated: 2021-04-24 06:20:41\", \"France New Caledonia<br>Confirmed: 124<br>Deaths: 0<br>Recovered: 58<br>Active: 66<br>Last updated: 2021-04-24 06:20:41\", \"France Reunion<br>Confirmed: 19343<br>Deaths: 141<br>Recovered: 17653<br>Active: 1549<br>Last updated: 2021-04-24 06:20:41\", \"France Saint Barthelemy<br>Confirmed: 958<br>Deaths: 1<br>Recovered: 462<br>Active: 495<br>Last updated: 2021-04-24 06:20:41\", \"France Saint Pierre and Miquelon<br>Confirmed: 25<br>Deaths: 0<br>Recovered: 24<br>Active: 1<br>Last updated: 2021-04-24 06:20:41\", \"France St Martin<br>Confirmed: 1720<br>Deaths: 12<br>Recovered: 1399<br>Active: 309<br>Last updated: 2021-04-24 06:20:41\", \"France Wallis and Futuna<br>Confirmed: 440<br>Deaths: 5<br>Recovered: 44<br>Active: 391<br>Last updated: 2021-04-24 06:20:41\", \"Gabon <br>Confirmed: 22433<br>Deaths: 138<br>Recovered: 19074<br>Active: 3221<br>Last updated: 2021-04-24 06:20:41\", \"Gambia <br>Confirmed: 5820<br>Deaths: 173<br>Recovered: 5272<br>Active: 375<br>Last updated: 2021-04-24 06:20:41\", \"Georgia <br>Confirmed: 301535<br>Deaths: 3992<br>Recovered: 284286<br>Active: 13257<br>Last updated: 2021-04-24 06:20:41\", \"Germany Baden-Wurttemberg<br>Confirmed: 424960<br>Deaths: 9201<br>Recovered: 373900<br>Active: 41859<br>Last updated: 2021-04-24 06:20:41\", \"Germany Bayern<br>Confirmed: 574876<br>Deaths: 13957<br>Recovered: 509700<br>Active: 51219<br>Last updated: 2021-04-24 06:20:41\", \"Germany Berlin<br>Confirmed: 163676<br>Deaths: 3180<br>Recovered: 150100<br>Active: 10396<br>Last updated: 2021-04-24 06:20:41\", \"Germany Brandenburg<br>Confirmed: 99514<br>Deaths: 3498<br>Recovered: 88280<br>Active: 7736<br>Last updated: 2021-04-24 06:20:41\", \"Germany Bremen<br>Confirmed: 24380<br>Deaths: 445<br>Recovered: 21800<br>Active: 2135<br>Last updated: 2021-04-24 06:20:41\", \"Germany Hamburg<br>Confirmed: 69925<br>Deaths: 1456<br>Recovered: 60790<br>Active: 7679<br>Last updated: 2021-04-24 06:20:41\", \"Germany Hessen<br>Confirmed: 253605<br>Deaths: 6733<br>Recovered: 222200<br>Active: 24672<br>Last updated: 2021-04-24 06:20:41\", \"Germany Mecklenburg-Vorpommern<br>Confirmed: 38254<br>Deaths: 962<br>Recovered: 33190<br>Active: 4102<br>Last updated: 2021-04-24 06:20:41\", \"Germany Niedersachsen<br>Confirmed: 229651<br>Deaths: 5209<br>Recovered: 206700<br>Active: 17742<br>Last updated: 2021-04-24 06:20:41\", \"Germany Nordrhein-Westfalen<br>Confirmed: 709522<br>Deaths: 15201<br>Recovered: 624000<br>Active: 70321<br>Last updated: 2021-04-24 06:20:41\", \"Germany Rheinland-Pfalz<br>Confirmed: 135024<br>Deaths: 3513<br>Recovered: 118000<br>Active: 13511<br>Last updated: 2021-04-24 06:20:41\", \"Germany Saarland<br>Confirmed: 35985<br>Deaths: 962<br>Recovered: 32590<br>Active: 2433<br>Last updated: 2021-04-24 06:20:41\", \"Germany Sachsen<br>Confirmed: 253699<br>Deaths: 8909<br>Recovered: 224900<br>Active: 19890<br>Last updated: 2021-04-24 06:20:41\", \"Germany Sachsen-Anhalt<br>Confirmed: 87040<br>Deaths: 3034<br>Recovered: 76510<br>Active: 7496<br>Last updated: 2021-04-24 06:20:41\", \"Germany Schleswig-Holstein<br>Confirmed: 57021<br>Deaths: 1496<br>Recovered: 50790<br>Active: 4735<br>Last updated: 2021-04-24 06:20:41\", \"Germany Thuringen<br>Confirmed: 111876<br>Deaths: 3736<br>Recovered: 98140<br>Active: 10000<br>Last updated: 2021-04-24 06:20:41\", \"Germany Unknown<br>Confirmed: 7863<br>Deaths: 0<br>Recovered: 0<br>Active: 7863<br>Last updated: 2021-04-24 06:20:41\", \"Ghana <br>Confirmed: 91928<br>Deaths: 777<br>Recovered: 89729<br>Active: 1422<br>Last updated: 2021-04-24 06:20:41\", \"Greece <br>Confirmed: 329134<br>Deaths: 9864<br>Recovered: 93764<br>Active: 225506<br>Last updated: 2021-04-24 06:20:41\", \"Grenada <br>Confirmed: 159<br>Deaths: 1<br>Recovered: 155<br>Active: 3<br>Last updated: 2021-04-24 06:20:41\", \"Guatemala <br>Confirmed: 219789<br>Deaths: 7374<br>Recovered: 194964<br>Active: 17451<br>Last updated: 2021-04-24 06:20:41\", \"Guinea <br>Confirmed: 21803<br>Deaths: 139<br>Recovered: 19107<br>Active: 2557<br>Last updated: 2021-04-24 06:20:41\", \"Guinea-Bissau <br>Confirmed: 3722<br>Deaths: 66<br>Recovered: 3222<br>Active: 434<br>Last updated: 2021-04-24 06:20:41\", \"Guyana <br>Confirmed: 12448<br>Deaths: 277<br>Recovered: 10619<br>Active: 1552<br>Last updated: 2021-04-24 06:20:41\", \"Haiti <br>Confirmed: 12944<br>Deaths: 251<br>Recovered: 11945<br>Active: 748<br>Last updated: 2021-04-24 06:20:41\", \"Holy See <br>Confirmed: 27<br>Deaths: 0<br>Recovered: 15<br>Active: 12<br>Last updated: 2021-04-24 06:20:41\", \"Honduras <br>Confirmed: 205696<br>Deaths: 5095<br>Recovered: 77531<br>Active: 123070<br>Last updated: 2021-04-24 06:20:41\", \"Hungary <br>Confirmed: 764394<br>Deaths: 26208<br>Recovered: 474147<br>Active: 264039<br>Last updated: 2021-04-24 06:20:41\", \"Iceland <br>Confirmed: 6390<br>Deaths: 29<br>Recovered: 6227<br>Active: 134<br>Last updated: 2021-04-24 06:20:41\", \"India Andaman and Nicobar Islands<br>Confirmed: 5569<br>Deaths: 65<br>Recovered: 5358<br>Active: 146<br>Last updated: 2021-04-24 06:20:41\", \"India Andhra Pradesh<br>Confirmed: 1009228<br>Deaths: 7579<br>Recovered: 927418<br>Active: 74231<br>Last updated: 2021-04-24 06:20:41\", \"India Arunachal Pradesh<br>Confirmed: 17430<br>Deaths: 56<br>Recovered: 16921<br>Active: 453<br>Last updated: 2021-04-24 06:20:41\", \"India Assam<br>Confirmed: 233453<br>Deaths: 1172<br>Recovered: 218339<br>Active: 13942<br>Last updated: 2021-04-24 06:20:41\", \"India Bihar<br>Confirmed: 378442<br>Deaths: 2010<br>Recovered: 300012<br>Active: 76420<br>Last updated: 2021-04-24 06:20:41\", \"India Chandigarh<br>Confirmed: 37232<br>Deaths: 430<br>Recovered: 32180<br>Active: 4622<br>Last updated: 2021-04-24 06:20:41\", \"India Chhattisgarh<br>Confirmed: 622965<br>Deaths: 6893<br>Recovered: 492593<br>Active: 123479<br>Last updated: 2021-04-24 06:20:41\", \"India Dadra and Nagar Haveli and Daman and Diu<br>Confirmed: 6142<br>Deaths: 4<br>Recovered: 4353<br>Active: 1785<br>Last updated: 2021-04-24 06:20:41\", \"India Delhi<br>Confirmed: 980679<br>Deaths: 13541<br>Recovered: 875109<br>Active: 92029<br>Last updated: 2021-04-24 06:20:41\", \"India Goa<br>Confirmed: 73644<br>Deaths: 976<br>Recovered: 61628<br>Active: 11040<br>Last updated: 2021-04-24 06:20:41\", \"India Gujarat<br>Confirmed: 467640<br>Deaths: 6019<br>Recovered: 361493<br>Active: 100128<br>Last updated: 2021-04-24 06:20:41\", \"India Haryana<br>Confirmed: 402843<br>Deaths: 3643<br>Recovered: 335143<br>Active: 64057<br>Last updated: 2021-04-24 06:20:41\", \"India Himachal Pradesh<br>Confirmed: 84065<br>Deaths: 1280<br>Recovered: 70539<br>Active: 12246<br>Last updated: 2021-04-24 06:20:41\", \"India Jammu and Kashmir<br>Confirmed: 156344<br>Deaths: 2111<br>Recovered: 137240<br>Active: 16993<br>Last updated: 2021-04-24 06:20:41\", \"India Jharkhand<br>Confirmed: 190692<br>Deaths: 1778<br>Recovered: 145499<br>Active: 43415<br>Last updated: 2021-04-24 06:20:41\", \"India Karnataka<br>Confirmed: 1274959<br>Deaths: 14075<br>Recovered: 1046554<br>Active: 214330<br>Last updated: 2021-04-24 06:20:41\", \"India Kerala<br>Confirmed: 1350501<br>Deaths: 5055<br>Recovered: 1166135<br>Active: 179311<br>Last updated: 2021-04-24 06:20:41\", \"India Ladakh<br>Confirmed: 13089<br>Deaths: 135<br>Recovered: 10920<br>Active: 2034<br>Last updated: 2021-04-24 06:20:41\", \"India Lakshadweep<br>Confirmed: 1805<br>Deaths: 1<br>Recovered: 884<br>Active: 920<br>Last updated: 2021-04-24 06:20:41\", \"India Madhya Pradesh<br>Confirmed: 472785<br>Deaths: 4937<br>Recovered: 380208<br>Active: 87640<br>Last updated: 2021-04-24 06:20:41\", \"India Maharashtra<br>Confirmed: 4161676<br>Deaths: 63252<br>Recovered: 3404792<br>Active: 693632<br>Last updated: 2021-04-24 06:20:41\", \"India Manipur<br>Confirmed: 30151<br>Deaths: 381<br>Recovered: 29180<br>Active: 590<br>Last updated: 2021-04-24 06:20:41\", \"India Meghalaya<br>Confirmed: 15631<br>Deaths: 157<br>Recovered: 14236<br>Active: 1238<br>Last updated: 2021-04-24 06:20:41\", \"India Mizoram<br>Confirmed: 5283<br>Deaths: 12<br>Recovered: 4627<br>Active: 644<br>Last updated: 2021-04-24 06:20:41\", \"India Nagaland<br>Confirmed: 12889<br>Deaths: 94<br>Recovered: 12338<br>Active: 457<br>Last updated: 2021-04-24 06:20:41\", \"India Odisha<br>Confirmed: 394694<br>Deaths: 1973<br>Recovered: 356003<br>Active: 36718<br>Last updated: 2021-04-24 06:20:41\", \"India Puducherry<br>Confirmed: 51372<br>Deaths: 728<br>Recovered: 44314<br>Active: 6330<br>Last updated: 2021-04-24 06:20:41\", \"India Punjab<br>Confirmed: 326447<br>Deaths: 8264<br>Recovered: 274240<br>Active: 43943<br>Last updated: 2021-04-24 06:20:41\", \"India Rajasthan<br>Confirmed: 483273<br>Deaths: 3453<br>Recovered: 362526<br>Active: 117294<br>Last updated: 2021-04-24 06:20:41\", \"India Sikkim<br>Confirmed: 7037<br>Deaths: 137<br>Recovered: 6207<br>Active: 693<br>Last updated: 2021-04-24 06:20:41\", \"India Tamil Nadu<br>Confirmed: 1051487<br>Deaths: 13395<br>Recovered: 943044<br>Active: 95048<br>Last updated: 2021-04-24 06:20:41\", \"India Telangana<br>Confirmed: 387106<br>Deaths: 1961<br>Recovered: 326997<br>Active: 58148<br>Last updated: 2021-04-24 06:20:41\", \"India Tripura<br>Confirmed: 34429<br>Deaths: 394<br>Recovered: 33390<br>Active: 645<br>Last updated: 2021-04-24 06:20:41\", \"India Unknown<br>Confirmed: 0<br>Deaths: 0<br>Recovered: 0<br>Active: 0<br>Last updated: 2021-04-24 06:20:41\", \"India Uttar Pradesh<br>Confirmed: 1013370<br>Deaths: 10737<br>Recovered: 728980<br>Active: 273653<br>Last updated: 2021-04-24 06:20:41\", \"India Uttarakhand<br>Confirmed: 142349<br>Deaths: 2021<br>Recovered: 110379<br>Active: 29949<br>Last updated: 2021-04-24 06:20:41\", \"India West Bengal<br>Confirmed: 713780<br>Deaths: 10825<br>Recovered: 628218<br>Active: 74737<br>Last updated: 2021-04-24 06:20:41\", \"Indonesia <br>Confirmed: 1632248<br>Deaths: 44346<br>Recovered: 1487369<br>Active: 100533<br>Last updated: 2021-04-24 06:20:41\", \"Iran <br>Confirmed: 2358809<br>Deaths: 68746<br>Recovered: 1850791<br>Active: 439272<br>Last updated: 2021-04-24 06:20:41\", \"Iraq <br>Confirmed: 1018321<br>Deaths: 15174<br>Recovered: 891007<br>Active: 112140<br>Last updated: 2021-04-24 06:20:41\", \"Ireland <br>Confirmed: 245743<br>Deaths: 4867<br>Recovered: 23364<br>Active: 217512<br>Last updated: 2021-04-24 06:20:41\", \"Israel <br>Confirmed: 837892<br>Deaths: 6346<br>Recovered: 829696<br>Active: 1850<br>Last updated: 2021-04-24 06:20:41\", \"Italy Abruzzo<br>Confirmed: 70203<br>Deaths: 2360<br>Recovered: 58607<br>Active: 9236<br>Last updated: 2021-04-24 06:20:41\", \"Italy Basilicata<br>Confirmed: 22968<br>Deaths: 513<br>Recovered: 16357<br>Active: 6098<br>Last updated: 2021-04-24 06:20:41\", \"Italy Calabria<br>Confirmed: 57078<br>Deaths: 975<br>Recovered: 41530<br>Active: 14573<br>Last updated: 2021-04-24 06:20:41\", \"Italy Campania<br>Confirmed: 379262<br>Deaths: 6144<br>Recovered: 281092<br>Active: 92026<br>Last updated: 2021-04-24 06:20:41\", \"Italy Emilia-Romagna<br>Confirmed: 362801<br>Deaths: 12731<br>Recovered: 295521<br>Active: 54549<br>Last updated: 2021-04-24 06:20:41\", \"Italy Friuli Venezia Giulia<br>Confirmed: 104049<br>Deaths: 3645<br>Recovered: 91773<br>Active: 8631<br>Last updated: 2021-04-24 06:20:41\", \"Italy Lazio<br>Confirmed: 316047<br>Deaths: 7468<br>Recovered: 261777<br>Active: 46802<br>Last updated: 2021-04-24 06:20:41\", \"Italy Liguria<br>Confirmed: 97650<br>Deaths: 4119<br>Recovered: 87265<br>Active: 6266<br>Last updated: 2021-04-24 06:20:41\", \"Italy Lombardia<br>Confirmed: 791137<br>Deaths: 32569<br>Recovered: 702119<br>Active: 56449<br>Last updated: 2021-04-24 06:20:41\", \"Italy Marche<br>Confirmed: 95834<br>Deaths: 2896<br>Recovered: 86052<br>Active: 6886<br>Last updated: 2021-04-24 06:20:41\", \"Italy Molise<br>Confirmed: 13028<br>Deaths: 467<br>Recovered: 11941<br>Active: 620<br>Last updated: 2021-04-24 06:20:41\", \"Italy P.A. Bolzano<br>Confirmed: 70730<br>Deaths: 1158<br>Recovered: 68900<br>Active: 672<br>Last updated: 2021-04-24 06:20:41\", \"Italy P.A. Trento<br>Confirmed: 43468<br>Deaths: 1333<br>Recovered: 40896<br>Active: 1239<br>Last updated: 2021-04-24 06:20:41\", \"Italy Piemonte<br>Confirmed: 339052<br>Deaths: 11104<br>Recovered: 309503<br>Active: 18445<br>Last updated: 2021-04-24 06:20:41\", \"Italy Puglia<br>Confirmed: 226723<br>Deaths: 5632<br>Recovered: 171894<br>Active: 49197<br>Last updated: 2021-04-24 06:20:41\", \"Italy Sardegna<br>Confirmed: 52911<br>Deaths: 1343<br>Recovered: 33776<br>Active: 17792<br>Last updated: 2021-04-24 06:20:41\", \"Italy Sicilia<br>Confirmed: 201420<br>Deaths: 5265<br>Recovered: 170871<br>Active: 25284<br>Last updated: 2021-04-24 06:20:41\", \"Italy Toscana<br>Confirmed: 220973<br>Deaths: 5992<br>Recovered: 191474<br>Active: 23507<br>Last updated: 2021-04-24 06:20:41\", \"Italy Umbria<br>Confirmed: 53705<br>Deaths: 1336<br>Recovered: 49246<br>Active: 3123<br>Last updated: 2021-04-24 06:20:41\", \"Italy Valle d'Aosta<br>Confirmed: 10598<br>Deaths: 446<br>Recovered: 9311<br>Active: 841<br>Last updated: 2021-04-24 06:20:41\", \"Italy Veneto<br>Confirmed: 406066<br>Deaths: 11203<br>Recovered: 371556<br>Active: 23307<br>Last updated: 2021-04-24 06:20:41\", \"Jamaica <br>Confirmed: 44642<br>Deaths: 752<br>Recovered: 20275<br>Active: 23615<br>Last updated: 2021-04-24 06:20:41\", \"Japan Aichi<br>Confirmed: 31432<br>Deaths: 609<br>Recovered: 27801<br>Active: 3022<br>Last updated: 2021-04-24 06:20:41\", \"Japan Akita<br>Confirmed: 402<br>Deaths: 9<br>Recovered: 326<br>Active: 67<br>Last updated: 2021-04-24 06:20:41\", \"Japan Aomori<br>Confirmed: 1435<br>Deaths: 20<br>Recovered: 1172<br>Active: 243<br>Last updated: 2021-04-24 06:20:41\", \"Japan Chiba<br>Confirmed: 32153<br>Deaths: 613<br>Recovered: 30267<br>Active: 1273<br>Last updated: 2021-04-24 06:20:41\", \"Japan Ehime<br>Confirmed: 2134<br>Deaths: 29<br>Recovered: 1681<br>Active: 424<br>Last updated: 2021-04-24 06:20:41\", \"Japan Fukui<br>Confirmed: 843<br>Deaths: 33<br>Recovered: 618<br>Active: 192<br>Last updated: 2021-04-24 06:20:41\", \"Japan Fukuoka<br>Confirmed: 21275<br>Deaths: 349<br>Recovered: 19121<br>Active: 1805<br>Last updated: 2021-04-24 06:20:41\", \"Japan Fukushima<br>Confirmed: 3148<br>Deaths: 118<br>Recovered: 2671<br>Active: 359<br>Last updated: 2021-04-24 06:20:41\", \"Japan Gifu<br>Confirmed: 5416<br>Deaths: 125<br>Recovered: 5047<br>Active: 244<br>Last updated: 2021-04-24 06:20:41\", \"Japan Gunma<br>Confirmed: 5638<br>Deaths: 102<br>Recovered: 5193<br>Active: 343<br>Last updated: 2021-04-24 06:20:41\", \"Japan Hiroshima<br>Confirmed: 5622<br>Deaths: 107<br>Recovered: 5209<br>Active: 306<br>Last updated: 2021-04-24 06:20:41\", \"Japan Hokkaido<br>Confirmed: 22993<br>Deaths: 826<br>Recovered: 20894<br>Active: 1273<br>Last updated: 2021-04-24 06:20:41\", \"Japan Hyogo<br>Confirmed: 28214<br>Deaths: 651<br>Recovered: 22390<br>Active: 5173<br>Last updated: 2021-04-24 06:20:41\", \"Japan Ibaraki<br>Confirmed: 7737<br>Deaths: 132<br>Recovered: 7037<br>Active: 568<br>Last updated: 2021-04-24 06:20:41\", \"Japan Ishikawa<br>Confirmed: 2312<br>Deaths: 69<br>Recovered: 1971<br>Active: 272<br>Last updated: 2021-04-24 06:20:41\", \"Japan Iwate<br>Confirmed: 811<br>Deaths: 31<br>Recovered: 729<br>Active: 51<br>Last updated: 2021-04-24 06:20:41\", \"Japan Kagawa<br>Confirmed: 1146<br>Deaths: 20<br>Recovered: 966<br>Active: 160<br>Last updated: 2021-04-24 06:20:41\", \"Japan Kagoshima<br>Confirmed: 2003<br>Deaths: 30<br>Recovered: 1910<br>Active: 63<br>Last updated: 2021-04-24 06:20:41\", \"Japan Kanagawa<br>Confirmed: 52032<br>Deaths: 805<br>Recovered: 49200<br>Active: 2027<br>Last updated: 2021-04-24 06:20:41\", \"Japan Kochi<br>Confirmed: 981<br>Deaths: 19<br>Recovered: 932<br>Active: 30<br>Last updated: 2021-04-24 06:20:41\", \"Japan Kumamoto<br>Confirmed: 3807<br>Deaths: 78<br>Recovered: 3487<br>Active: 242<br>Last updated: 2021-04-24 06:20:41\", \"Japan Kyoto<br>Confirmed: 11561<br>Deaths: 179<br>Recovered: 10044<br>Active: 1338<br>Last updated: 2021-04-24 06:20:41\", \"Japan Mie<br>Confirmed: 3417<br>Deaths: 76<br>Recovered: 2945<br>Active: 396<br>Last updated: 2021-04-24 06:20:41\", \"Japan Miyagi<br>Confirmed: 7879<br>Deaths: 57<br>Recovered: 6895<br>Active: 927<br>Last updated: 2021-04-24 06:20:41\", \"Japan Miyazaki<br>Confirmed: 2085<br>Deaths: 21<br>Recovered: 1995<br>Active: 69<br>Last updated: 2021-04-24 06:20:41\", \"Japan Nagano<br>Confirmed: 3674<br>Deaths: 53<br>Recovered: 3215<br>Active: 406<br>Last updated: 2021-04-24 06:20:41\", \"Japan Nagasaki<br>Confirmed: 1887<br>Deaths: 40<br>Recovered: 1624<br>Active: 223<br>Last updated: 2021-04-24 06:20:41\", \"Japan Nara<br>Confirmed: 5492<br>Deaths: 68<br>Recovered: 4442<br>Active: 982<br>Last updated: 2021-04-24 06:20:41\", \"Japan Niigata<br>Confirmed: 2110<br>Deaths: 17<br>Recovered: 1716<br>Active: 377<br>Last updated: 2021-04-24 06:20:41\", \"Japan Oita<br>Confirmed: 1502<br>Deaths: 24<br>Recovered: 1328<br>Active: 150<br>Last updated: 2021-04-24 06:20:41\", \"Japan Okayama<br>Confirmed: 3447<br>Deaths: 38<br>Recovered: 2742<br>Active: 667<br>Last updated: 2021-04-24 06:20:41\", \"Japan Okinawa<br>Confirmed: 11999<br>Deaths: 134<br>Recovered: 10430<br>Active: 1435<br>Last updated: 2021-04-24 06:20:41\", \"Japan Osaka<br>Confirmed: 73387<br>Deaths: 1320<br>Recovered: 54970<br>Active: 17097<br>Last updated: 2021-04-24 06:20:41\", \"Japan Port Quarantine<br>Confirmed: 2638<br>Deaths: 3<br>Recovered: 2475<br>Active: 160<br>Last updated: 2021-04-24 06:20:41\", \"Japan Saga<br>Confirmed: 1490<br>Deaths: 14<br>Recovered: 1280<br>Active: 196<br>Last updated: 2021-04-24 06:20:41\", \"Japan Saitama<br>Confirmed: 36491<br>Deaths: 735<br>Recovered: 33543<br>Active: 2213<br>Last updated: 2021-04-24 06:20:41\", \"Japan Shiga<br>Confirmed: 3435<br>Deaths: 61<br>Recovered: 2912<br>Active: 462<br>Last updated: 2021-04-24 06:20:41\", \"Japan Shimane<br>Confirmed: 335<br>Deaths: 0<br>Recovered: 301<br>Active: 34<br>Last updated: 2021-04-24 06:20:41\", \"Japan Shizuoka<br>Confirmed: 6269<br>Deaths: 120<br>Recovered: 5845<br>Active: 304<br>Last updated: 2021-04-24 06:20:41\", \"Japan Tochigi<br>Confirmed: 5181<br>Deaths: 71<br>Recovered: 4890<br>Active: 220<br>Last updated: 2021-04-24 06:20:41\", \"Japan Tokushima<br>Confirmed: 1068<br>Deaths: 30<br>Recovered: 659<br>Active: 379<br>Last updated: 2021-04-24 06:20:41\", \"Japan Tokyo<br>Confirmed: 133730<br>Deaths: 1853<br>Recovered: 125442<br>Active: 6435<br>Last updated: 2021-04-24 06:20:41\", \"Japan Tottori<br>Confirmed: 353<br>Deaths: 2<br>Recovered: 262<br>Active: 89<br>Last updated: 2021-04-24 06:20:41\", \"Japan Toyama<br>Confirmed: 1234<br>Deaths: 29<br>Recovered: 1032<br>Active: 173<br>Last updated: 2021-04-24 06:20:41\", \"Japan Unknown<br>Confirmed: 8<br>Deaths: 0<br>Recovered: 8<br>Active: 0<br>Last updated: 2021-04-24 06:20:41\", \"Japan Wakayama<br>Confirmed: 1979<br>Deaths: 22<br>Recovered: 1508<br>Active: 449<br>Last updated: 2021-04-24 06:20:41\", \"Japan Yamagata<br>Confirmed: 1418<br>Deaths: 31<br>Recovered: 1168<br>Active: 219<br>Last updated: 2021-04-24 06:20:41\", \"Japan Yamaguchi<br>Confirmed: 1674<br>Deaths: 43<br>Recovered: 1413<br>Active: 218<br>Last updated: 2021-04-24 06:20:41\", \"Japan Yamanashi<br>Confirmed: 1120<br>Deaths: 19<br>Recovered: 1020<br>Active: 81<br>Last updated: 2021-04-24 06:20:41\", \"Jordan <br>Confirmed: 699164<br>Deaths: 8514<br>Recovered: 661432<br>Active: 29218<br>Last updated: 2021-04-24 06:20:41\", \"Kazakhstan <br>Confirmed: 355918<br>Deaths: 3304<br>Recovered: 310933<br>Active: 41681<br>Last updated: 2021-04-24 06:20:41\", \"Kenya <br>Confirmed: 155165<br>Deaths: 2583<br>Recovered: 106093<br>Active: 46489<br>Last updated: 2021-04-24 06:20:41\", \"Korea, South <br>Confirmed: 118243<br>Deaths: 1812<br>Recovered: 107781<br>Active: 8650<br>Last updated: 2021-04-24 06:20:41\", \"Kosovo <br>Confirmed: 102720<br>Deaths: 2115<br>Recovered: 89432<br>Active: 11173<br>Last updated: 2021-04-24 06:20:41\", \"Kuwait <br>Confirmed: 264198<br>Deaths: 1502<br>Recovered: 247136<br>Active: 15560<br>Last updated: 2021-04-24 06:20:41\", \"Kyrgyzstan <br>Confirmed: 93603<br>Deaths: 1578<br>Recovered: 87880<br>Active: 4145<br>Last updated: 2021-04-24 06:20:41\", \"Laos <br>Confirmed: 159<br>Deaths: 0<br>Recovered: 49<br>Active: 110<br>Last updated: 2021-04-24 06:20:41\", \"Latvia <br>Confirmed: 114244<br>Deaths: 2094<br>Recovered: 103953<br>Active: 8197<br>Last updated: 2021-04-24 06:20:41\", \"Lebanon <br>Confirmed: 518104<br>Deaths: 7090<br>Recovered: 441631<br>Active: 69383<br>Last updated: 2021-04-24 06:20:41\", \"Lesotho <br>Confirmed: 10723<br>Deaths: 316<br>Recovered: 6267<br>Active: 4140<br>Last updated: 2021-04-24 06:20:41\", \"Liberia <br>Confirmed: 2097<br>Deaths: 85<br>Recovered: 1940<br>Active: 72<br>Last updated: 2021-04-24 06:20:41\", \"Libya <br>Confirmed: 174752<br>Deaths: 2947<br>Recovered: 160113<br>Active: 11692<br>Last updated: 2021-04-24 06:20:41\", \"Liechtenstein <br>Confirmed: 2855<br>Deaths: 57<br>Recovered: 2724<br>Active: 74<br>Last updated: 2021-04-24 06:20:41\", \"Lithuania <br>Confirmed: 239263<br>Deaths: 3833<br>Recovered: 215820<br>Active: 19610<br>Last updated: 2021-04-24 06:20:41\", \"Luxembourg <br>Confirmed: 66007<br>Deaths: 790<br>Recovered: 62183<br>Active: 3034<br>Last updated: 2021-04-24 06:20:41\", \"MS Zaandam <br>Confirmed: 9<br>Deaths: 2<br>Recovered: 7<br>Active: 0<br>Last updated: 2021-04-24 06:20:41\", \"Madagascar <br>Confirmed: 34775<br>Deaths: 588<br>Recovered: 27646<br>Active: 6541<br>Last updated: 2021-04-24 06:20:41\", \"Malawi <br>Confirmed: 33989<br>Deaths: 1145<br>Recovered: 31864<br>Active: 980<br>Last updated: 2021-04-24 06:20:41\", \"Malaysia <br>Confirmed: 387535<br>Deaths: 1415<br>Recovered: 363608<br>Active: 22512<br>Last updated: 2021-04-24 06:20:41\", \"Maldives <br>Confirmed: 27403<br>Deaths: 71<br>Recovered: 24116<br>Active: 3216<br>Last updated: 2021-04-24 06:20:41\", \"Mali <br>Confirmed: 13504<br>Deaths: 460<br>Recovered: 7804<br>Active: 5240<br>Last updated: 2021-04-24 06:20:41\", \"Malta <br>Confirmed: 30129<br>Deaths: 412<br>Recovered: 29204<br>Active: 513<br>Last updated: 2021-04-24 06:20:41\", \"Marshall Islands <br>Confirmed: 4<br>Deaths: 0<br>Recovered: 4<br>Active: 0<br>Last updated: 2021-04-24 06:20:41\", \"Mauritania <br>Confirmed: 18207<br>Deaths: 454<br>Recovered: 17560<br>Active: 193<br>Last updated: 2021-04-24 06:20:41\", \"Mauritius <br>Confirmed: 1205<br>Deaths: 16<br>Recovered: 996<br>Active: 193<br>Last updated: 2021-04-24 06:20:41\", \"Mexico Aguascalientes<br>Confirmed: 25813<br>Deaths: 2350<br>Recovered: 0<br>Active: 23463<br>Last updated: 2021-04-24 06:20:41\", \"Mexico Baja California<br>Confirmed: 47421<br>Deaths: 8032<br>Recovered: 0<br>Active: 39389<br>Last updated: 2021-04-24 06:20:41\", \"Mexico Baja California Sur<br>Confirmed: 29882<br>Deaths: 1337<br>Recovered: 0<br>Active: 28545<br>Last updated: 2021-04-24 06:20:41\", \"Mexico Campeche<br>Confirmed: 9263<br>Deaths: 1181<br>Recovered: 0<br>Active: 8082<br>Last updated: 2021-04-24 06:20:41\", \"Mexico Chiapas<br>Confirmed: 10797<br>Deaths: 1532<br>Recovered: 0<br>Active: 9265<br>Last updated: 2021-04-24 06:20:41\", \"Mexico Chihuahua<br>Confirmed: 51011<br>Deaths: 6582<br>Recovered: 0<br>Active: 44429<br>Last updated: 2021-04-24 06:20:41\", \"Mexico Ciudad de Mexico<br>Confirmed: 634752<br>Deaths: 32241<br>Recovered: 0<br>Active: 602511<br>Last updated: 2021-04-24 06:20:41\", \"Mexico Coahuila<br>Confirmed: 67755<br>Deaths: 6164<br>Recovered: 0<br>Active: 61591<br>Last updated: 2021-04-24 06:20:41\", \"Mexico Colima<br>Confirmed: 11142<br>Deaths: 1171<br>Recovered: 0<br>Active: 9971<br>Last updated: 2021-04-24 06:20:41\", \"Mexico Durango<br>Confirmed: 33259<br>Deaths: 2361<br>Recovered: 0<br>Active: 30898<br>Last updated: 2021-04-24 06:20:41\", \"Mexico Guanajuato<br>Confirmed: 130140<br>Deaths: 10471<br>Recovered: 0<br>Active: 119669<br>Last updated: 2021-04-24 06:20:41\", \"Mexico Guerrero<br>Confirmed: 39244<br>Deaths: 4293<br>Recovered: 0<br>Active: 34951<br>Last updated: 2021-04-24 06:20:41\", \"Mexico Hidalgo<br>Confirmed: 37949<br>Deaths: 6050<br>Recovered: 0<br>Active: 31899<br>Last updated: 2021-04-24 06:20:41\", \"Mexico Jalisco<br>Confirmed: 84833<br>Deaths: 11777<br>Recovered: 0<br>Active: 73056<br>Last updated: 2021-04-24 06:20:41\", \"Mexico Mexico<br>Confirmed: 242530<br>Deaths: 33643<br>Recovered: 0<br>Active: 208887<br>Last updated: 2021-04-24 06:20:41\", \"Mexico Michoacan<br>Confirmed: 46837<br>Deaths: 5510<br>Recovered: 0<br>Active: 41327<br>Last updated: 2021-04-24 06:20:41\", \"Mexico Morelos<br>Confirmed: 31795<br>Deaths: 3034<br>Recovered: 0<br>Active: 28761<br>Last updated: 2021-04-24 06:20:41\", \"Mexico Nayarit<br>Confirmed: 11670<br>Deaths: 1777<br>Recovered: 0<br>Active: 9893<br>Last updated: 2021-04-24 06:20:41\", \"Mexico Nuevo Leon<br>Confirmed: 121975<br>Deaths: 9272<br>Recovered: 0<br>Active: 112703<br>Last updated: 2021-04-24 06:20:41\", \"Mexico Oaxaca<br>Confirmed: 45580<br>Deaths: 3427<br>Recovered: 0<br>Active: 42153<br>Last updated: 2021-04-24 06:20:41\", \"Mexico Puebla<br>Confirmed: 82479<br>Deaths: 11178<br>Recovered: 0<br>Active: 71301<br>Last updated: 2021-04-24 06:20:41\", \"Mexico Queretaro<br>Confirmed: 67583<br>Deaths: 4102<br>Recovered: 0<br>Active: 63481<br>Last updated: 2021-04-24 06:20:41\", \"Mexico Quintana Roo<br>Confirmed: 22616<br>Deaths: 2591<br>Recovered: 0<br>Active: 20025<br>Last updated: 2021-04-24 06:20:41\", \"Mexico San Luis Potosi<br>Confirmed: 62043<br>Deaths: 5142<br>Recovered: 0<br>Active: 56901<br>Last updated: 2021-04-24 06:20:41\", \"Mexico Sinaloa<br>Confirmed: 37474<br>Deaths: 5959<br>Recovered: 0<br>Active: 31515<br>Last updated: 2021-04-24 06:20:41\", \"Mexico Sonora<br>Confirmed: 72772<br>Deaths: 6472<br>Recovered: 0<br>Active: 66300<br>Last updated: 2021-04-24 06:20:41\", \"Mexico Tabasco<br>Confirmed: 63683<br>Deaths: 4014<br>Recovered: 0<br>Active: 59669<br>Last updated: 2021-04-24 06:20:41\", \"Mexico Tamaulipas<br>Confirmed: 56127<br>Deaths: 4810<br>Recovered: 0<br>Active: 51317<br>Last updated: 2021-04-24 06:20:41\", \"Mexico Tlaxcala<br>Confirmed: 19294<br>Deaths: 2375<br>Recovered: 0<br>Active: 16919<br>Last updated: 2021-04-24 06:20:41\", \"Mexico Unknown<br>Confirmed: 0<br>Deaths: 0<br>Recovered: 1845008<br>Active: -1845008<br>Last updated: 2021-04-24 06:20:41\", \"Mexico Veracruz<br>Confirmed: 59298<br>Deaths: 9346<br>Recovered: 0<br>Active: 49952<br>Last updated: 2021-04-24 06:20:41\", \"Mexico Yucatan<br>Confirmed: 36665<br>Deaths: 3575<br>Recovered: 0<br>Active: 33090<br>Last updated: 2021-04-24 06:20:41\", \"Mexico Zacatecas<br>Confirmed: 29748<br>Deaths: 2735<br>Recovered: 0<br>Active: 27013<br>Last updated: 2021-04-24 06:20:41\", \"Micronesia <br>Confirmed: 1<br>Deaths: 0<br>Recovered: 1<br>Active: 0<br>Last updated: 2021-04-24 06:20:41\", \"Moldova <br>Confirmed: 248518<br>Deaths: 5691<br>Recovered: 235965<br>Active: 6862<br>Last updated: 2021-04-24 06:20:41\", \"Monaco <br>Confirmed: 2426<br>Deaths: 31<br>Recovered: 2317<br>Active: 78<br>Last updated: 2021-04-24 06:20:41\", \"Mongolia <br>Confirmed: 29219<br>Deaths: 74<br>Recovered: 14745<br>Active: 14400<br>Last updated: 2021-04-24 06:20:41\", \"Montenegro <br>Confirmed: 96348<br>Deaths: 1457<br>Recovered: 92142<br>Active: 2749<br>Last updated: 2021-04-24 06:20:41\", \"Morocco <br>Confirmed: 508530<br>Deaths: 8983<br>Recovered: 494415<br>Active: 5132<br>Last updated: 2021-04-24 06:20:41\", \"Mozambique <br>Confirmed: 69597<br>Deaths: 806<br>Recovered: 62408<br>Active: 6383<br>Last updated: 2021-04-24 06:20:41\", \"Namibia <br>Confirmed: 47383<br>Deaths: 622<br>Recovered: 45278<br>Active: 1483<br>Last updated: 2021-04-24 06:20:41\", \"Nepal <br>Confirmed: 294601<br>Deaths: 3122<br>Recovered: 276755<br>Active: 14724<br>Last updated: 2021-04-24 06:20:41\", \"Netherlands Aruba<br>Confirmed: 10505<br>Deaths: 97<br>Recovered: 10069<br>Active: 339<br>Last updated: 2021-04-24 06:20:41\", \"Netherlands Bonaire, Sint Eustatius and Saba<br>Confirmed: 196<br>Deaths: 3<br>Recovered: 180<br>Active: 13<br>Last updated: 2021-01-08 23:22:27\", \"Netherlands Curacao<br>Confirmed: 12058<br>Deaths: 102<br>Recovered: 10291<br>Active: 1665<br>Last updated: 2021-04-24 06:20:41\", \"Netherlands Drenthe<br>Confirmed: 29861<br>Deaths: 341<br>Recovered: 0<br>Active: 29520<br>Last updated: 2021-04-24 06:20:41\", \"Netherlands Flevoland<br>Confirmed: 32512<br>Deaths: 232<br>Recovered: 0<br>Active: 32280<br>Last updated: 2021-04-24 06:20:41\", \"Netherlands Friesland<br>Confirmed: 37719<br>Deaths: 459<br>Recovered: 0<br>Active: 37260<br>Last updated: 2021-04-24 06:20:41\", \"Netherlands Gelderland<br>Confirmed: 160476<br>Deaths: 1948<br>Recovered: 0<br>Active: 158528<br>Last updated: 2021-04-24 06:20:41\", \"Netherlands Groningen<br>Confirmed: 34236<br>Deaths: 245<br>Recovered: 0<br>Active: 33991<br>Last updated: 2021-04-24 06:20:41\", \"Netherlands Limburg<br>Confirmed: 96447<br>Deaths: 1565<br>Recovered: 0<br>Active: 94882<br>Last updated: 2021-04-24 06:20:41\", \"Netherlands Noord-Brabant<br>Confirmed: 229985<br>Deaths: 3057<br>Recovered: 0<br>Active: 226928<br>Last updated: 2021-04-24 06:20:41\", \"Netherlands Noord-Holland<br>Confirmed: 245594<br>Deaths: 2491<br>Recovered: 0<br>Active: 243103<br>Last updated: 2021-04-24 06:20:41\", \"Netherlands Overijssel<br>Confirmed: 94198<br>Deaths: 1101<br>Recovered: 0<br>Active: 93097<br>Last updated: 2021-04-24 06:20:41\", \"Netherlands Sint Maarten<br>Confirmed: 2214<br>Deaths: 27<br>Recovered: 2174<br>Active: 13<br>Last updated: 2021-04-24 06:20:41\", \"Netherlands Unknown<br>Confirmed: 3370<br>Deaths: 13<br>Recovered: 0<br>Active: 3357<br>Last updated: 2021-04-24 06:20:41\", \"Netherlands Utrecht<br>Confirmed: 111740<br>Deaths: 1231<br>Recovered: 0<br>Active: 110509<br>Last updated: 2021-04-24 06:20:41\", \"Netherlands Zeeland<br>Confirmed: 24646<br>Deaths: 233<br>Recovered: 0<br>Active: 24413<br>Last updated: 2021-04-24 06:20:41\", \"Netherlands Zuid-Holland<br>Confirmed: 344280<br>Deaths: 4100<br>Recovered: 0<br>Active: 340180<br>Last updated: 2021-04-24 06:20:41\", \"New Zealand <br>Confirmed: 2600<br>Deaths: 26<br>Recovered: 2542<br>Active: 32<br>Last updated: 2021-04-24 06:20:41\", \"Nicaragua <br>Confirmed: 6835<br>Deaths: 181<br>Recovered: 4225<br>Active: 2429<br>Last updated: 2021-04-24 06:20:41\", \"Niger <br>Confirmed: 5143<br>Deaths: 191<br>Recovered: 4812<br>Active: 140<br>Last updated: 2021-04-24 06:20:41\", \"Nigeria <br>Confirmed: 164633<br>Deaths: 2061<br>Recovered: 154643<br>Active: 7929<br>Last updated: 2021-04-24 06:20:41\", \"North Macedonia <br>Confirmed: 149710<br>Deaths: 4628<br>Recovered: 127139<br>Active: 17943<br>Last updated: 2021-04-24 06:20:41\", \"Norway <br>Confirmed: 110061<br>Deaths: 736<br>Recovered: 17998<br>Active: 91327<br>Last updated: 2021-04-24 06:20:41\", \"Oman <br>Confirmed: 185278<br>Deaths: 1942<br>Recovered: 165051<br>Active: 18285<br>Last updated: 2021-04-24 06:20:41\", \"Pakistan Azad Jammu and Kashmir<br>Confirmed: 16327<br>Deaths: 458<br>Recovered: 13589<br>Active: 2280<br>Last updated: 2021-04-24 06:20:41\", \"Pakistan Balochistan<br>Confirmed: 21477<br>Deaths: 230<br>Recovered: 20105<br>Active: 1142<br>Last updated: 2021-04-24 06:20:41\", \"Pakistan Gilgit-Baltistan<br>Confirmed: 5247<br>Deaths: 104<br>Recovered: 5033<br>Active: 110<br>Last updated: 2021-04-24 06:20:41\", \"Pakistan Islamabad<br>Confirmed: 72613<br>Deaths: 657<br>Recovered: 59080<br>Active: 12876<br>Last updated: 2021-04-24 06:20:41\", \"Pakistan Khyber Pakhtunkhwa<br>Confirmed: 112140<br>Deaths: 3066<br>Recovered: 94675<br>Active: 14399<br>Last updated: 2021-04-24 06:20:41\", \"Pakistan Punjab<br>Confirmed: 285542<br>Deaths: 7897<br>Recovered: 232135<br>Active: 45510<br>Last updated: 2021-04-24 06:20:41\", \"Pakistan Sindh<br>Confirmed: 276670<br>Deaths: 4587<br>Recovered: 261871<br>Active: 10212<br>Last updated: 2021-04-24 06:20:41\", \"Panama <br>Confirmed: 362358<br>Deaths: 6200<br>Recovered: 352255<br>Active: 3903<br>Last updated: 2021-04-24 06:20:41\", \"Papua New Guinea <br>Confirmed: 10338<br>Deaths: 99<br>Recovered: 7364<br>Active: 2875<br>Last updated: 2021-04-24 06:20:41\", \"Paraguay <br>Confirmed: 263134<br>Deaths: 5715<br>Recovered: 215702<br>Active: 41717<br>Last updated: 2021-04-24 06:20:41\", \"Peru Amazonas<br>Confirmed: 25367<br>Deaths: 418<br>Recovered: 0<br>Active: 24949<br>Last updated: 2021-04-24 06:20:41\", \"Peru Ancash<br>Confirmed: 59735<br>Deaths: 2479<br>Recovered: 0<br>Active: 57256<br>Last updated: 2021-04-24 06:20:41\", \"Peru Apurimac<br>Confirmed: 17816<br>Deaths: 416<br>Recovered: 0<br>Active: 17400<br>Last updated: 2021-04-24 06:20:41\", \"Peru Arequipa<br>Confirmed: 70343<br>Deaths: 2323<br>Recovered: 0<br>Active: 68020<br>Last updated: 2021-04-24 06:20:41\", \"Peru Ayacucho<br>Confirmed: 25458<br>Deaths: 692<br>Recovered: 0<br>Active: 24766<br>Last updated: 2021-04-24 06:20:41\", \"Peru Cajamarca<br>Confirmed: 48543<br>Deaths: 1117<br>Recovered: 0<br>Active: 47426<br>Last updated: 2021-04-24 06:20:41\", \"Peru Callao<br>Confirmed: 89279<br>Deaths: 3085<br>Recovered: 0<br>Active: 86194<br>Last updated: 2021-04-24 06:20:41\", \"Peru Cusco<br>Confirmed: 51390<br>Deaths: 1067<br>Recovered: 0<br>Active: 50323<br>Last updated: 2021-04-24 06:20:41\", \"Peru Huancavelica<br>Confirmed: 12491<br>Deaths: 346<br>Recovered: 0<br>Active: 12145<br>Last updated: 2021-04-24 06:20:41\", \"Peru Huanuco<br>Confirmed: 29189<br>Deaths: 899<br>Recovered: 0<br>Active: 28290<br>Last updated: 2021-04-24 06:20:41\", \"Peru Ica<br>Confirmed: 47416<br>Deaths: 2639<br>Recovered: 0<br>Active: 44777<br>Last updated: 2021-04-24 06:20:41\", \"Peru Junin<br>Confirmed: 58354<br>Deaths: 2005<br>Recovered: 0<br>Active: 56349<br>Last updated: 2021-04-24 06:20:41\", \"Peru La Libertad<br>Confirmed: 62393<br>Deaths: 3599<br>Recovered: 0<br>Active: 58794<br>Last updated: 2021-04-24 06:20:41\", \"Peru Lambayeque<br>Confirmed: 47592<br>Deaths: 2431<br>Recovered: 0<br>Active: 45161<br>Last updated: 2021-04-24 06:20:41\", \"Peru Lima<br>Confirmed: 803011<br>Deaths: 25805<br>Recovered: 0<br>Active: 777206<br>Last updated: 2021-04-24 06:20:41\", \"Peru Loreto<br>Confirmed: 37933<br>Deaths: 1387<br>Recovered: 0<br>Active: 36546<br>Last updated: 2021-04-24 06:20:41\", \"Peru Madre de Dios<br>Confirmed: 12557<br>Deaths: 220<br>Recovered: 0<br>Active: 12337<br>Last updated: 2021-04-24 06:20:41\", \"Peru Moquegua<br>Confirmed: 22835<br>Deaths: 520<br>Recovered: 0<br>Active: 22315<br>Last updated: 2021-04-24 06:20:41\", \"Peru Pasco<br>Confirmed: 12417<br>Deaths: 344<br>Recovered: 0<br>Active: 12073<br>Last updated: 2021-04-24 06:20:41\", \"Peru Piura<br>Confirmed: 66991<br>Deaths: 2839<br>Recovered: 0<br>Active: 64152<br>Last updated: 2021-04-24 06:20:41\", \"Peru Puno<br>Confirmed: 27904<br>Deaths: 756<br>Recovered: 0<br>Active: 27148<br>Last updated: 2021-04-24 06:20:41\", \"Peru San Martin<br>Confirmed: 38668<br>Deaths: 1108<br>Recovered: 0<br>Active: 37560<br>Last updated: 2021-04-24 06:20:41\", \"Peru Tacna<br>Confirmed: 22948<br>Deaths: 719<br>Recovered: 0<br>Active: 22229<br>Last updated: 2021-04-24 06:20:41\", \"Peru Tumbes<br>Confirmed: 14715<br>Deaths: 532<br>Recovered: 0<br>Active: 14183<br>Last updated: 2021-04-24 06:20:41\", \"Peru Ucayali<br>Confirmed: 29261<br>Deaths: 858<br>Recovered: 0<br>Active: 28403<br>Last updated: 2021-04-24 06:20:41\", \"Peru Unknown<br>Confirmed: 11049<br>Deaths: 408<br>Recovered: 1670805<br>Active: -1660164<br>Last updated: 2021-04-24 06:20:41\", \"Philippines <br>Confirmed: 979740<br>Deaths: 16529<br>Recovered: 860412<br>Active: 102799<br>Last updated: 2021-04-24 06:20:41\", \"Poland <br>Confirmed: 2742122<br>Deaths: 64707<br>Recovered: 2401457<br>Active: 275958<br>Last updated: 2021-04-24 06:20:41\", \"Portugal <br>Confirmed: 833397<br>Deaths: 16957<br>Recovered: 791751<br>Active: 24689<br>Last updated: 2021-04-24 06:20:41\", \"Qatar <br>Confirmed: 200778<br>Deaths: 413<br>Recovered: 178461<br>Active: 21904<br>Last updated: 2021-04-24 06:20:41\", \"Romania <br>Confirmed: 1042521<br>Deaths: 27113<br>Recovered: 963840<br>Active: 51568<br>Last updated: 2021-04-24 06:20:41\", \"Russia Adygea Republic<br>Confirmed: 14352<br>Deaths: 171<br>Recovered: 13786<br>Active: 395<br>Last updated: 2021-04-24 06:20:41\", \"Russia Altai Krai<br>Confirmed: 49109<br>Deaths: 2021<br>Recovered: 44025<br>Active: 3063<br>Last updated: 2021-04-24 06:20:41\", \"Russia Altai Republic<br>Confirmed: 16784<br>Deaths: 226<br>Recovered: 16493<br>Active: 65<br>Last updated: 2021-04-24 06:20:41\", \"Russia Amur Oblast<br>Confirmed: 22216<br>Deaths: 274<br>Recovered: 21345<br>Active: 597<br>Last updated: 2021-04-24 06:20:41\", \"Russia Arkhangelsk Oblast<br>Confirmed: 61475<br>Deaths: 915<br>Recovered: 57661<br>Active: 2899<br>Last updated: 2021-04-24 06:20:41\", \"Russia Astrakhan Oblast<br>Confirmed: 32362<br>Deaths: 718<br>Recovered: 30902<br>Active: 742<br>Last updated: 2021-04-24 06:20:41\", \"Russia Bashkortostan Republic<br>Confirmed: 34691<br>Deaths: 430<br>Recovered: 31931<br>Active: 2330<br>Last updated: 2021-04-24 06:20:41\", \"Russia Belgorod Oblast<br>Confirmed: 36222<br>Deaths: 616<br>Recovered: 34172<br>Active: 1434<br>Last updated: 2021-04-24 06:20:41\", \"Russia Bryansk Oblast<br>Confirmed: 37624<br>Deaths: 303<br>Recovered: 36764<br>Active: 557<br>Last updated: 2021-04-24 06:20:41\", \"Russia Buryatia Republic<br>Confirmed: 36948<br>Deaths: 831<br>Recovered: 35595<br>Active: 522<br>Last updated: 2021-04-24 06:20:41\", \"Russia Chechen Republic<br>Confirmed: 11920<br>Deaths: 120<br>Recovered: 11620<br>Active: 180<br>Last updated: 2021-04-24 06:20:41\", \"Russia Chelyabinsk Oblast<br>Confirmed: 58128<br>Deaths: 1389<br>Recovered: 53709<br>Active: 3030<br>Last updated: 2021-04-24 06:20:41\", \"Russia Chukotka Autonomous Okrug<br>Confirmed: 746<br>Deaths: 7<br>Recovered: 733<br>Active: 6<br>Last updated: 2021-04-24 06:20:41\", \"Russia Chuvashia Republic<br>Confirmed: 23829<br>Deaths: 1338<br>Recovered: 21705<br>Active: 786<br>Last updated: 2021-04-24 06:20:41\", \"Russia Dagestan Republic<br>Confirmed: 32036<br>Deaths: 1440<br>Recovered: 29659<br>Active: 937<br>Last updated: 2021-04-24 06:20:41\", \"Russia Ingushetia Republic<br>Confirmed: 15354<br>Deaths: 185<br>Recovered: 13581<br>Active: 1588<br>Last updated: 2021-04-24 06:20:41\", \"Russia Irkutsk Oblast<br>Confirmed: 65251<br>Deaths: 2191<br>Recovered: 62260<br>Active: 800<br>Last updated: 2021-04-24 06:20:41\", \"Russia Ivanovo Oblast<br>Confirmed: 33986<br>Deaths: 1129<br>Recovered: 32338<br>Active: 519<br>Last updated: 2021-04-24 06:20:41\", \"Russia Jewish Autonomous Okrug<br>Confirmed: 4467<br>Deaths: 125<br>Recovered: 4279<br>Active: 63<br>Last updated: 2021-04-24 06:20:41\", \"Russia Kabardino-Balkarian Republic<br>Confirmed: 23585<br>Deaths: 439<br>Recovered: 22700<br>Active: 446<br>Last updated: 2021-04-24 06:20:41\", \"Russia Kaliningrad Oblast<br>Confirmed: 31396<br>Deaths: 385<br>Recovered: 29464<br>Active: 1547<br>Last updated: 2021-04-24 06:20:41\", \"Russia Kalmykia Republic<br>Confirmed: 20342<br>Deaths: 339<br>Recovered: 19639<br>Active: 364<br>Last updated: 2021-04-24 06:20:41\", \"Russia Kaluga Oblast<br>Confirmed: 33683<br>Deaths: 306<br>Recovered: 31778<br>Active: 1599<br>Last updated: 2021-04-24 06:20:41\", \"Russia Kamchatka Krai<br>Confirmed: 14390<br>Deaths: 217<br>Recovered: 13741<br>Active: 432<br>Last updated: 2021-04-24 06:20:41\", \"Russia Karachay-Cherkess Republic<br>Confirmed: 19970<br>Deaths: 73<br>Recovered: 19841<br>Active: 56<br>Last updated: 2021-04-24 06:20:41\", \"Russia Karelia Republic<br>Confirmed: 45417<br>Deaths: 450<br>Recovered: 43443<br>Active: 1524<br>Last updated: 2021-04-24 06:20:41\", \"Russia Kemerovo Oblast<br>Confirmed: 34628<br>Deaths: 654<br>Recovered: 33558<br>Active: 416<br>Last updated: 2021-04-24 06:20:41\", \"Russia Khabarovsk Krai<br>Confirmed: 51526<br>Deaths: 374<br>Recovered: 49315<br>Active: 1837<br>Last updated: 2021-04-24 06:20:41\", \"Russia Khakassia Republic<br>Confirmed: 22221<br>Deaths: 521<br>Recovered: 21441<br>Active: 259<br>Last updated: 2021-04-24 06:20:41\", \"Russia Khanty-Mansi Autonomous Okrug<br>Confirmed: 55624<br>Deaths: 790<br>Recovered: 54301<br>Active: 533<br>Last updated: 2021-04-24 06:20:41\", \"Russia Kirov Oblast<br>Confirmed: 41586<br>Deaths: 342<br>Recovered: 38748<br>Active: 2496<br>Last updated: 2021-04-24 06:20:41\", \"Russia Komi Republic<br>Confirmed: 42994<br>Deaths: 881<br>Recovered: 41786<br>Active: 327<br>Last updated: 2021-04-24 06:20:41\", \"Russia Kostroma Oblast<br>Confirmed: 20423<br>Deaths: 432<br>Recovered: 17714<br>Active: 2277<br>Last updated: 2021-04-24 06:20:41\", \"Russia Krasnodar Krai<br>Confirmed: 44773<br>Deaths: 2589<br>Recovered: 39373<br>Active: 2811<br>Last updated: 2021-04-24 06:20:41\", \"Russia Krasnoyarsk Krai<br>Confirmed: 69539<br>Deaths: 3428<br>Recovered: 64132<br>Active: 1979<br>Last updated: 2021-04-24 06:20:41\", \"Russia Kurgan Oblast<br>Confirmed: 20113<br>Deaths: 380<br>Recovered: 18721<br>Active: 1012<br>Last updated: 2021-04-24 06:20:41\", \"Russia Kursk Oblast<br>Confirmed: 35934<br>Deaths: 674<br>Recovered: 33433<br>Active: 1827<br>Last updated: 2021-04-24 06:20:41\", \"Russia Leningrad Oblast<br>Confirmed: 41983<br>Deaths: 1122<br>Recovered: 39304<br>Active: 1557<br>Last updated: 2021-04-24 06:20:41\", \"Russia Lipetsk Oblast<br>Confirmed: 29383<br>Deaths: 627<br>Recovered: 26391<br>Active: 2365<br>Last updated: 2021-04-24 06:20:41\", \"Russia Magadan Oblast<br>Confirmed: 8313<br>Deaths: 99<br>Recovered: 8153<br>Active: 61<br>Last updated: 2021-04-24 06:20:41\", \"Russia Mari El Republic<br>Confirmed: 12951<br>Deaths: 225<br>Recovered: 12336<br>Active: 390<br>Last updated: 2021-04-24 06:20:41\", \"Russia Mordovia Republic<br>Confirmed: 19856<br>Deaths: 235<br>Recovered: 17888<br>Active: 1733<br>Last updated: 2021-04-24 06:20:41\", \"Russia Moscow<br>Confirmed: 1075242<br>Deaths: 17923<br>Recovered: 980003<br>Active: 77316<br>Last updated: 2021-04-24 06:20:41\", \"Russia Moscow Oblast<br>Confirmed: 245578<br>Deaths: 5727<br>Recovered: 202505<br>Active: 37346<br>Last updated: 2021-04-24 06:20:41\", \"Russia Murmansk Oblast<br>Confirmed: 50166<br>Deaths: 1143<br>Recovered: 47586<br>Active: 1437<br>Last updated: 2021-04-24 06:20:41\", \"Russia Nenets Autonomous Okrug<br>Confirmed: 1094<br>Deaths: 4<br>Recovered: 1056<br>Active: 34<br>Last updated: 2021-04-24 06:20:41\", \"Russia Nizhny Novgorod Oblast<br>Confirmed: 112711<br>Deaths: 3093<br>Recovered: 107883<br>Active: 1735<br>Last updated: 2021-04-24 06:20:41\", \"Russia North Ossetia - Alania Republic<br>Confirmed: 16656<br>Deaths: 194<br>Recovered: 16015<br>Active: 447<br>Last updated: 2021-04-24 06:20:41\", \"Russia Novgorod Oblast<br>Confirmed: 29649<br>Deaths: 121<br>Recovered: 27491<br>Active: 2037<br>Last updated: 2021-04-24 06:20:41\", \"Russia Novosibirsk Oblast<br>Confirmed: 40581<br>Deaths: 1727<br>Recovered: 37549<br>Active: 1305<br>Last updated: 2021-04-24 06:20:41\", \"Russia Omsk Oblast<br>Confirmed: 45315<br>Deaths: 1371<br>Recovered: 42678<br>Active: 1266<br>Last updated: 2021-04-24 06:20:41\", \"Russia Orel Oblast<br>Confirmed: 33754<br>Deaths: 548<br>Recovered: 31543<br>Active: 1663<br>Last updated: 2021-04-24 06:20:41\", \"Russia Orenburg Oblast<br>Confirmed: 41853<br>Deaths: 823<br>Recovered: 37931<br>Active: 3099<br>Last updated: 2021-04-24 06:20:41\", \"Russia Penza Oblast<br>Confirmed: 44288<br>Deaths: 605<br>Recovered: 41640<br>Active: 2043<br>Last updated: 2021-04-24 06:20:41\", \"Russia Perm Krai<br>Confirmed: 53734<br>Deaths: 2115<br>Recovered: 48503<br>Active: 3116<br>Last updated: 2021-04-24 06:20:41\", \"Russia Primorsky Krai<br>Confirmed: 43339<br>Deaths: 707<br>Recovered: 40724<br>Active: 1908<br>Last updated: 2021-04-24 06:20:41\", \"Russia Pskov Oblast<br>Confirmed: 35762<br>Deaths: 320<br>Recovered: 25789<br>Active: 9653<br>Last updated: 2021-04-24 06:20:41\", \"Russia Rostov Oblast<br>Confirmed: 86339<br>Deaths: 3987<br>Recovered: 77317<br>Active: 5035<br>Last updated: 2021-04-24 06:20:41\", \"Russia Ryazan Oblast<br>Confirmed: 27465<br>Deaths: 434<br>Recovered: 25897<br>Active: 1134<br>Last updated: 2021-04-24 06:20:41\", \"Russia Saint Petersburg<br>Confirmed: 410768<br>Deaths: 12978<br>Recovered: 367807<br>Active: 29983<br>Last updated: 2021-04-24 06:20:41\", \"Russia Sakha (Yakutiya) Republic<br>Confirmed: 34576<br>Deaths: 595<br>Recovered: 33071<br>Active: 910<br>Last updated: 2021-04-24 06:20:41\", \"Russia Sakhalin Oblast<br>Confirmed: 22397<br>Deaths: 41<br>Recovered: 21998<br>Active: 358<br>Last updated: 2021-04-24 06:20:41\", \"Russia Samara Oblast<br>Confirmed: 60244<br>Deaths: 1415<br>Recovered: 57369<br>Active: 1460<br>Last updated: 2021-04-24 06:20:41\", \"Russia Saratov Oblast<br>Confirmed: 58077<br>Deaths: 913<br>Recovered: 52640<br>Active: 4524<br>Last updated: 2021-04-24 06:20:41\", \"Russia Smolensk Oblast<br>Confirmed: 29096<br>Deaths: 843<br>Recovered: 27661<br>Active: 592<br>Last updated: 2021-04-24 06:20:41\", \"Russia Stavropol Krai<br>Confirmed: 52407<br>Deaths: 1325<br>Recovered: 49517<br>Active: 1565<br>Last updated: 2021-04-24 06:20:41\", \"Russia Sverdlovsk Oblast<br>Confirmed: 85384<br>Deaths: 3008<br>Recovered: 78991<br>Active: 3385<br>Last updated: 2021-04-24 06:20:41\", \"Russia Tambov Oblast<br>Confirmed: 31158<br>Deaths: 457<br>Recovered: 28618<br>Active: 2083<br>Last updated: 2021-04-24 06:20:41\", \"Russia Tatarstan Republic<br>Confirmed: 20203<br>Deaths: 451<br>Recovered: 17306<br>Active: 2446<br>Last updated: 2021-04-24 06:20:41\", \"Russia Tomsk Oblast<br>Confirmed: 31952<br>Deaths: 386<br>Recovered: 31013<br>Active: 553<br>Last updated: 2021-04-24 06:20:41\", \"Russia Tula Oblast<br>Confirmed: 38086<br>Deaths: 1780<br>Recovered: 35699<br>Active: 607<br>Last updated: 2021-04-24 06:20:41\", \"Russia Tver Oblast<br>Confirmed: 39428<br>Deaths: 850<br>Recovered: 37522<br>Active: 1056<br>Last updated: 2021-04-24 06:20:41\", \"Russia Tyumen Oblast<br>Confirmed: 34793<br>Deaths: 451<br>Recovered: 33167<br>Active: 1175<br>Last updated: 2021-04-24 06:20:41\", \"Russia Tyva Republic<br>Confirmed: 15799<br>Deaths: 201<br>Recovered: 15330<br>Active: 268<br>Last updated: 2021-04-24 06:20:41\", \"Russia Udmurt Republic<br>Confirmed: 32313<br>Deaths: 801<br>Recovered: 28989<br>Active: 2523<br>Last updated: 2021-04-24 06:20:41\", \"Russia Ulyanovsk Oblast<br>Confirmed: 52821<br>Deaths: 1122<br>Recovered: 50077<br>Active: 1622<br>Last updated: 2021-04-24 06:20:41\", \"Russia Vladimir Oblast<br>Confirmed: 31523<br>Deaths: 1075<br>Recovered: 28937<br>Active: 1511<br>Last updated: 2021-04-24 06:20:41\", \"Russia Volgograd Oblast<br>Confirmed: 56151<br>Deaths: 1065<br>Recovered: 53730<br>Active: 1356<br>Last updated: 2021-04-24 06:20:41\", \"Russia Vologda Oblast<br>Confirmed: 44463<br>Deaths: 975<br>Recovered: 41471<br>Active: 2017<br>Last updated: 2021-04-24 06:20:41\", \"Russia Voronezh Oblast<br>Confirmed: 79429<br>Deaths: 2582<br>Recovered: 74615<br>Active: 2232<br>Last updated: 2021-04-24 06:20:41\", \"Russia Yamalo-Nenets Autonomous Okrug<br>Confirmed: 38426<br>Deaths: 415<br>Recovered: 37185<br>Active: 826<br>Last updated: 2021-04-24 06:20:41\", \"Russia Yaroslavl Oblast<br>Confirmed: 38063<br>Deaths: 518<br>Recovered: 36272<br>Active: 1273<br>Last updated: 2021-04-24 06:20:41\", \"Russia Zabaykalsky Krai<br>Confirmed: 42077<br>Deaths: 618<br>Recovered: 40624<br>Active: 835<br>Last updated: 2021-04-24 06:20:41\", \"Rwanda <br>Confirmed: 24459<br>Deaths: 328<br>Recovered: 22696<br>Active: 1435<br>Last updated: 2021-04-24 06:20:41\", \"Saint Kitts and Nevis <br>Confirmed: 44<br>Deaths: 0<br>Recovered: 44<br>Active: 0<br>Last updated: 2021-04-24 06:20:41\", \"Saint Lucia <br>Confirmed: 4455<br>Deaths: 70<br>Recovered: 4290<br>Active: 95<br>Last updated: 2021-04-24 06:20:41\", \"Saint Vincent and the Grenadines <br>Confirmed: 1827<br>Deaths: 10<br>Recovered: 1703<br>Active: 114<br>Last updated: 2021-04-24 06:20:41\", \"Samoa <br>Confirmed: 3<br>Deaths: 0<br>Recovered: 2<br>Active: 1<br>Last updated: 2021-04-24 06:20:41\", \"San Marino <br>Confirmed: 5047<br>Deaths: 89<br>Recovered: 4839<br>Active: 119<br>Last updated: 2021-04-24 06:20:41\", \"Sao Tome and Principe <br>Confirmed: 2292<br>Deaths: 35<br>Recovered: 2227<br>Active: 30<br>Last updated: 2021-04-24 06:20:41\", \"Saudi Arabia <br>Confirmed: 410191<br>Deaths: 6878<br>Recovered: 393671<br>Active: 9642<br>Last updated: 2021-04-24 06:20:41\", \"Senegal <br>Confirmed: 40022<br>Deaths: 1097<br>Recovered: 38786<br>Active: 139<br>Last updated: 2021-04-24 06:20:41\", \"Serbia <br>Confirmed: 675904<br>Deaths: 6164<br>Recovered: 0<br>Active: 669740<br>Last updated: 2021-04-24 06:20:41\", \"Seychelles <br>Confirmed: 5206<br>Deaths: 26<br>Recovered: 4675<br>Active: 505<br>Last updated: 2021-04-24 06:20:41\", \"Sierra Leone <br>Confirmed: 4044<br>Deaths: 79<br>Recovered: 2914<br>Active: 1051<br>Last updated: 2021-04-24 06:20:41\", \"Singapore <br>Confirmed: 60943<br>Deaths: 30<br>Recovered: 60613<br>Active: 300<br>Last updated: 2021-04-24 06:20:41\", \"Slovakia <br>Confirmed: 378635<br>Deaths: 11405<br>Recovered: 255300<br>Active: 111930<br>Last updated: 2021-04-24 06:20:41\", \"Slovenia <br>Confirmed: 235711<br>Deaths: 4195<br>Recovered: 220505<br>Active: 11011<br>Last updated: 2021-04-24 06:20:41\", \"Solomon Islands <br>Confirmed: 20<br>Deaths: 0<br>Recovered: 18<br>Active: 2<br>Last updated: 2021-04-24 06:20:41\", \"Somalia <br>Confirmed: 13459<br>Deaths: 689<br>Recovered: 5593<br>Active: 7177<br>Last updated: 2021-04-24 06:20:41\", \"South Africa <br>Confirmed: 1572985<br>Deaths: 54066<br>Recovered: 1499110<br>Active: 19809<br>Last updated: 2021-04-24 06:20:41\", \"South Sudan <br>Confirmed: 10515<br>Deaths: 114<br>Recovered: 10250<br>Active: 151<br>Last updated: 2021-04-24 06:20:41\", \"Spain Andalusia<br>Confirmed: 541843<br>Deaths: 9528<br>Recovered: 10671<br>Active: 521644<br>Last updated: 2021-04-24 06:20:41\", \"Spain Aragon<br>Confirmed: 116374<br>Deaths: 3423<br>Recovered: 3772<br>Active: 109179<br>Last updated: 2021-04-24 06:20:41\", \"Spain Asturias<br>Confirmed: 50028<br>Deaths: 1938<br>Recovered: 1063<br>Active: 47027<br>Last updated: 2021-04-24 06:20:41\", \"Spain Baleares<br>Confirmed: 58885<br>Deaths: 798<br>Recovered: 1533<br>Active: 56554<br>Last updated: 2021-04-24 06:20:41\", \"Spain C. Valenciana<br>Confirmed: 389344<br>Deaths: 7245<br>Recovered: 9970<br>Active: 372129<br>Last updated: 2021-04-24 06:20:41\", \"Spain Canarias<br>Confirmed: 51617<br>Deaths: 721<br>Recovered: 1537<br>Active: 49359<br>Last updated: 2021-04-24 06:20:41\", \"Spain Cantabria<br>Confirmed: 28004<br>Deaths: 554<br>Recovered: 2287<br>Active: 25163<br>Last updated: 2021-04-24 06:20:41\", \"Spain Castilla - La Mancha<br>Confirmed: 182975<br>Deaths: 5840<br>Recovered: 6392<br>Active: 170743<br>Last updated: 2021-04-24 06:20:41\", \"Spain Castilla y Leon<br>Confirmed: 220867<br>Deaths: 6735<br>Recovered: 8716<br>Active: 205416<br>Last updated: 2021-04-24 06:20:41\", \"Spain Catalonia<br>Confirmed: 572754<br>Deaths: 13954<br>Recovered: 26203<br>Active: 532597<br>Last updated: 2021-04-24 06:20:41\", \"Spain Ceuta<br>Confirmed: 5699<br>Deaths: 103<br>Recovered: 163<br>Active: 5433<br>Last updated: 2021-04-24 06:20:41\", \"Spain Extremadura<br>Confirmed: 73439<br>Deaths: 1783<br>Recovered: 2652<br>Active: 69004<br>Last updated: 2021-04-24 06:20:41\", \"Spain Galicia<br>Confirmed: 120579<br>Deaths: 2366<br>Recovered: 9204<br>Active: 109009<br>Last updated: 2021-04-24 06:20:41\", \"Spain La Rioja<br>Confirmed: 29208<br>Deaths: 757<br>Recovered: 3107<br>Active: 25344<br>Last updated: 2021-04-24 06:20:41\", \"Spain Madrid<br>Confirmed: 669268<br>Deaths: 14905<br>Recovered: 40736<br>Active: 613627<br>Last updated: 2021-04-24 06:20:41\", \"Spain Melilla<br>Confirmed: 8563<br>Deaths: 88<br>Recovered: 125<br>Active: 8350<br>Last updated: 2021-04-24 06:20:41\", \"Spain Murcia<br>Confirmed: 110257<br>Deaths: 1585<br>Recovered: 2180<br>Active: 106492<br>Last updated: 2021-04-24 06:20:41\", \"Spain Navarra<br>Confirmed: 58786<br>Deaths: 1144<br>Recovered: 3905<br>Active: 53737<br>Last updated: 2021-04-24 06:20:41\", \"Spain Pais Vasco<br>Confirmed: 180127<br>Deaths: 4124<br>Recovered: 16160<br>Active: 159843<br>Last updated: 2021-04-24 06:20:41\", \"Spain Unknown<br>Confirmed: 0<br>Deaths: 0<br>Recovered: 0<br>Active: 0<br>Last updated: 2021-04-24 06:20:41\", \"Sri Lanka <br>Confirmed: 99518<br>Deaths: 634<br>Recovered: 94036<br>Active: 4848<br>Last updated: 2021-04-24 06:20:41\", \"Sudan <br>Confirmed: 33673<br>Deaths: 2300<br>Recovered: 26411<br>Active: 4962<br>Last updated: 2021-04-24 06:20:41\", \"Suriname <br>Confirmed: 9932<br>Deaths: 193<br>Recovered: 9002<br>Active: 737<br>Last updated: 2021-04-24 06:20:41\", \"Sweden Blekinge<br>Confirmed: 10724<br>Deaths: 125<br>Recovered: 0<br>Active: 10599<br>Last updated: 2021-04-24 06:20:41\", \"Sweden Dalarna<br>Confirmed: 22804<br>Deaths: 326<br>Recovered: 0<br>Active: 22478<br>Last updated: 2021-04-24 06:20:41\", \"Sweden Gavleborg<br>Confirmed: 32223<br>Deaths: 543<br>Recovered: 0<br>Active: 31680<br>Last updated: 2021-04-24 06:20:41\", \"Sweden Gotland<br>Confirmed: 3533<br>Deaths: 48<br>Recovered: 0<br>Active: 3485<br>Last updated: 2021-04-24 06:20:41\", \"Sweden Halland<br>Confirmed: 37018<br>Deaths: 306<br>Recovered: 0<br>Active: 36712<br>Last updated: 2021-04-24 06:20:41\", \"Sweden Jamtland Harjedalen<br>Confirmed: 10419<br>Deaths: 118<br>Recovered: 0<br>Active: 10301<br>Last updated: 2021-04-24 06:20:41\", \"Sweden Jonkoping<br>Confirmed: 38026<br>Deaths: 544<br>Recovered: 0<br>Active: 37482<br>Last updated: 2021-04-24 06:20:41\", \"Sweden Kalmar<br>Confirmed: 19461<br>Deaths: 223<br>Recovered: 0<br>Active: 19238<br>Last updated: 2021-04-24 06:20:41\", \"Sweden Kronoberg<br>Confirmed: 17811<br>Deaths: 302<br>Recovered: 0<br>Active: 17509<br>Last updated: 2021-04-24 06:20:41\", \"Sweden Norrbotten<br>Confirmed: 19953<br>Deaths: 248<br>Recovered: 0<br>Active: 19705<br>Last updated: 2021-04-24 06:20:41\", \"Sweden Orebro<br>Confirmed: 27167<br>Deaths: 318<br>Recovered: 0<br>Active: 26849<br>Last updated: 2021-04-24 06:20:41\", \"Sweden Ostergotland<br>Confirmed: 34320<br>Deaths: 599<br>Recovered: 0<br>Active: 33721<br>Last updated: 2021-04-24 06:20:41\", \"Sweden Skane<br>Confirmed: 136944<br>Deaths: 1669<br>Recovered: 0<br>Active: 135275<br>Last updated: 2021-04-24 06:20:41\", \"Sweden Sormland<br>Confirmed: 21852<br>Deaths: 439<br>Recovered: 0<br>Active: 21413<br>Last updated: 2021-04-24 06:20:41\", \"Sweden Stockholm<br>Confirmed: 222719<br>Deaths: 4160<br>Recovered: 0<br>Active: 218559<br>Last updated: 2021-04-24 06:20:41\", \"Sweden Uppsala<br>Confirmed: 35174<br>Deaths: 513<br>Recovered: 0<br>Active: 34661<br>Last updated: 2021-04-24 06:20:41\", \"Sweden Varmland<br>Confirmed: 15797<br>Deaths: 196<br>Recovered: 0<br>Active: 15601<br>Last updated: 2021-04-24 06:20:41\", \"Sweden Vasterbotten<br>Confirmed: 20182<br>Deaths: 178<br>Recovered: 0<br>Active: 20004<br>Last updated: 2021-04-24 06:20:41\", \"Sweden Vasternorrland<br>Confirmed: 22467<br>Deaths: 445<br>Recovered: 0<br>Active: 22022<br>Last updated: 2021-04-24 06:20:41\", \"Sweden Vastmanland<br>Confirmed: 23883<br>Deaths: 340<br>Recovered: 0<br>Active: 23543<br>Last updated: 2021-04-24 06:20:41\", \"Sweden Vastra Gotaland<br>Confirmed: 165866<br>Deaths: 2283<br>Recovered: 0<br>Active: 163583<br>Last updated: 2021-04-24 06:20:41\", \"Switzerland <br>Confirmed: 646509<br>Deaths: 10566<br>Recovered: 317600<br>Active: 318343<br>Last updated: 2021-04-24 06:20:41\", \"Syria <br>Confirmed: 21864<br>Deaths: 1510<br>Recovered: 15551<br>Active: 4803<br>Last updated: 2021-04-24 06:20:41\", \"Taiwan* <br>Confirmed: 1090<br>Deaths: 11<br>Recovered: 1044<br>Active: 35<br>Last updated: 2021-04-24 06:20:41\", \"Tajikistan <br>Confirmed: 13308<br>Deaths: 90<br>Recovered: 13218<br>Active: 0<br>Last updated: 2021-04-24 06:20:41\", \"Tanzania <br>Confirmed: 509<br>Deaths: 21<br>Recovered: 183<br>Active: 305<br>Last updated: 2021-04-24 06:20:41\", \"Thailand <br>Confirmed: 53022<br>Deaths: 129<br>Recovered: 26873<br>Active: 26020<br>Last updated: 2021-04-24 06:20:41\", \"Timor-Leste <br>Confirmed: 1739<br>Deaths: 3<br>Recovered: 814<br>Active: 922<br>Last updated: 2021-04-24 06:20:41\", \"Togo <br>Confirmed: 12742<br>Deaths: 121<br>Recovered: 10614<br>Active: 2007<br>Last updated: 2021-04-24 06:20:41\", \"Trinidad and Tobago <br>Confirmed: 9383<br>Deaths: 157<br>Recovered: 8065<br>Active: 1161<br>Last updated: 2021-04-24 06:20:41\", \"Tunisia <br>Confirmed: 296343<br>Deaths: 10170<br>Recovered: 246001<br>Active: 40172<br>Last updated: 2021-04-24 06:20:41\", \"Turkey <br>Confirmed: 4550820<br>Deaths: 37672<br>Recovered: 3970111<br>Active: 543037<br>Last updated: 2021-04-24 06:20:41\", \"Uganda <br>Confirmed: 41575<br>Deaths: 341<br>Recovered: 40898<br>Active: 336<br>Last updated: 2021-04-24 06:20:41\", \"Ukraine Cherkasy Oblast<br>Confirmed: 72245<br>Deaths: 956<br>Recovered: 57214<br>Active: 14075<br>Last updated: 2021-04-24 06:20:41\", \"Ukraine Chernihiv Oblast<br>Confirmed: 52083<br>Deaths: 1075<br>Recovered: 39743<br>Active: 11265<br>Last updated: 2021-04-24 06:20:41\", \"Ukraine Chernivtsi Oblast<br>Confirmed: 76423<br>Deaths: 1608<br>Recovered: 58707<br>Active: 16108<br>Last updated: 2021-04-24 06:20:41\", \"Ukraine Crimea Republic*<br>Confirmed: 39764<br>Deaths: 1180<br>Recovered: 36978<br>Active: 1606<br>Last updated: 2021-04-24 06:20:41\", \"Ukraine Dnipropetrovsk Oblast<br>Confirmed: 116466<br>Deaths: 3134<br>Recovered: 91938<br>Active: 21394<br>Last updated: 2021-04-24 06:20:41\", \"Ukraine Donetsk Oblast<br>Confirmed: 76011<br>Deaths: 1646<br>Recovered: 57678<br>Active: 16687<br>Last updated: 2021-04-24 06:20:41\", \"Ukraine Ivano-Frankivsk Oblast<br>Confirmed: 83301<br>Deaths: 1926<br>Recovered: 75456<br>Active: 5919<br>Last updated: 2021-04-24 06:20:41\", \"Ukraine Kharkiv Oblast<br>Confirmed: 131237<br>Deaths: 2557<br>Recovered: 101623<br>Active: 27057<br>Last updated: 2021-04-24 06:20:41\", \"Ukraine Kherson Oblast<br>Confirmed: 30056<br>Deaths: 874<br>Recovered: 23960<br>Active: 5222<br>Last updated: 2021-04-24 06:20:41\", \"Ukraine Khmelnytskyi Oblast<br>Confirmed: 81560<br>Deaths: 1535<br>Recovered: 64857<br>Active: 15168<br>Last updated: 2021-04-24 06:20:41\", \"Ukraine Kiev<br>Confirmed: 191165<br>Deaths: 4415<br>Recovered: 119737<br>Active: 67013<br>Last updated: 2021-04-24 06:20:41\", \"Ukraine Kiev Oblast<br>Confirmed: 116277<br>Deaths: 2239<br>Recovered: 93287<br>Active: 20751<br>Last updated: 2021-04-24 06:20:41\", \"Ukraine Kirovohrad Oblast<br>Confirmed: 17142<br>Deaths: 606<br>Recovered: 10420<br>Active: 6116<br>Last updated: 2021-04-24 06:20:41\", \"Ukraine Luhansk Oblast<br>Confirmed: 22382<br>Deaths: 670<br>Recovered: 17555<br>Active: 4157<br>Last updated: 2021-04-24 06:20:41\", \"Ukraine Lviv Oblast<br>Confirmed: 126843<br>Deaths: 3154<br>Recovered: 95415<br>Active: 28274<br>Last updated: 2021-04-24 06:20:41\", \"Ukraine Mykolaiv Oblast<br>Confirmed: 61217<br>Deaths: 1534<br>Recovered: 49386<br>Active: 10297<br>Last updated: 2021-04-24 06:20:41\", \"Ukraine Odessa Oblast<br>Confirmed: 130631<br>Deaths: 2396<br>Recovered: 93733<br>Active: 34502<br>Last updated: 2021-04-24 06:20:41\", \"Ukraine Poltava Oblast<br>Confirmed: 69129<br>Deaths: 1462<br>Recovered: 58020<br>Active: 9647<br>Last updated: 2021-04-24 06:20:41\", \"Ukraine Rivne Oblast<br>Confirmed: 69457<br>Deaths: 973<br>Recovered: 59153<br>Active: 9331<br>Last updated: 2021-04-24 06:20:41\", \"Ukraine Sevastopol*<br>Confirmed: 13907<br>Deaths: 603<br>Recovered: 12759<br>Active: 545<br>Last updated: 2021-04-24 06:20:41\", \"Ukraine Sumy Oblast<br>Confirmed: 70956<br>Deaths: 1074<br>Recovered: 59565<br>Active: 10317<br>Last updated: 2021-04-24 06:20:41\", \"Ukraine Ternopil Oblast<br>Confirmed: 64664<br>Deaths: 1021<br>Recovered: 54765<br>Active: 8878<br>Last updated: 2021-04-24 06:20:41\", \"Ukraine Vinnytsia Oblast<br>Confirmed: 66795<br>Deaths: 1452<br>Recovered: 47831<br>Active: 17512<br>Last updated: 2021-04-24 06:20:41\", \"Ukraine Volyn Oblast<br>Confirmed: 55592<br>Deaths: 953<br>Recovered: 46483<br>Active: 8156<br>Last updated: 2021-04-24 06:20:41\", \"Ukraine Zakarpattia Oblast<br>Confirmed: 59503<br>Deaths: 1494<br>Recovered: 51209<br>Active: 6800<br>Last updated: 2021-04-24 06:20:41\", \"Ukraine Zaporizhia Oblast<br>Confirmed: 93436<br>Deaths: 1807<br>Recovered: 74170<br>Active: 17459<br>Last updated: 2021-04-24 06:20:41\", \"Ukraine Zhytomyr Oblast<br>Confirmed: 82770<br>Deaths: 1531<br>Recovered: 64049<br>Active: 17190<br>Last updated: 2021-04-24 06:20:41\", \"United Arab Emirates <br>Confirmed: 506845<br>Deaths: 1567<br>Recovered: 488664<br>Active: 16614<br>Last updated: 2021-04-24 06:20:41\", \"United Kingdom Anguilla<br>Confirmed: 29<br>Deaths: 0<br>Recovered: 25<br>Active: 29<br>Last updated: 2021-04-24 06:20:41\", \"United Kingdom Bermuda<br>Confirmed: 2284<br>Deaths: 23<br>Recovered: 1479<br>Active: 782<br>Last updated: 2021-04-24 06:20:41\", \"United Kingdom British Virgin Islands<br>Confirmed: 194<br>Deaths: 1<br>Recovered: 183<br>Active: 10<br>Last updated: 2021-04-24 06:20:41\", \"United Kingdom Cayman Islands<br>Confirmed: 531<br>Deaths: 2<br>Recovered: 509<br>Active: 20<br>Last updated: 2021-04-24 06:20:41\", \"United Kingdom Channel Islands<br>Confirmed: 4111<br>Deaths: 86<br>Recovered: 3956<br>Active: 69<br>Last updated: 2021-04-24 06:20:41\", \"United Kingdom England<br>Confirmed: 3845537<br>Deaths: 112054<br>Recovered: 0<br>Active: 3733483<br>Last updated: 2021-04-24 06:20:41\", \"United Kingdom Falkland Islands (Malvinas)<br>Confirmed: 63<br>Deaths: 0<br>Recovered: 62<br>Active: 1<br>Last updated: 2021-04-24 06:20:41\", \"United Kingdom Gibraltar<br>Confirmed: 4283<br>Deaths: 94<br>Recovered: 4173<br>Active: 16<br>Last updated: 2021-04-24 06:20:41\", \"United Kingdom Isle of Man<br>Confirmed: 1585<br>Deaths: 29<br>Recovered: 1545<br>Active: 11<br>Last updated: 2021-04-24 06:20:41\", \"United Kingdom Montserrat<br>Confirmed: 20<br>Deaths: 1<br>Recovered: 19<br>Active: 0<br>Last updated: 2021-04-24 06:20:41\", \"United Kingdom Northern Ireland<br>Confirmed: 119559<br>Deaths: 2141<br>Recovered: 0<br>Active: 117418<br>Last updated: 2021-04-24 06:20:41\", \"United Kingdom Saint Helena, Ascension and Tristan da Cunha<br>Confirmed: 4<br>Deaths: 0<br>Recovered: 4<br>Active: 0<br>Last updated: 2021-04-24 06:20:41\", \"United Kingdom Scotland<br>Confirmed: 224851<br>Deaths: 7647<br>Recovered: 0<br>Active: 217204<br>Last updated: 2021-04-24 06:20:41\", \"United Kingdom Turks and Caicos Islands<br>Confirmed: 2375<br>Deaths: 17<br>Recovered: 2326<br>Active: 32<br>Last updated: 2021-04-24 06:20:41\", \"United Kingdom Unknown<br>Confirmed: 0<br>Deaths: 0<br>Recovered: 0<br>Active: 0<br>Last updated: 2021-04-24 06:20:41\", \"United Kingdom Wales<br>Confirmed: 211162<br>Deaths: 5543<br>Recovered: 0<br>Active: 205619<br>Last updated: 2021-04-24 06:20:41\", \"Uruguay <br>Confirmed: 179537<br>Deaths: 2227<br>Recovered: 148561<br>Active: 28749<br>Last updated: 2021-04-24 06:20:41\", \"Uzbekistan <br>Confirmed: 88679<br>Deaths: 642<br>Recovered: 85536<br>Active: 2501<br>Last updated: 2021-04-24 06:20:41\", \"Vanuatu <br>Confirmed: 4<br>Deaths: 1<br>Recovered: 3<br>Active: 0<br>Last updated: 2021-04-24 06:20:41\", \"Venezuela <br>Confirmed: 189381<br>Deaths: 2009<br>Recovered: 172035<br>Active: 15337<br>Last updated: 2021-04-24 06:20:41\", \"Vietnam <br>Confirmed: 2830<br>Deaths: 35<br>Recovered: 2490<br>Active: 305<br>Last updated: 2021-04-24 06:20:41\", \"West Bank and Gaza <br>Confirmed: 289120<br>Deaths: 3138<br>Recovered: 259105<br>Active: 26877<br>Last updated: 2021-04-24 06:20:41\", \"Yemen <br>Confirmed: 6056<br>Deaths: 1165<br>Recovered: 2454<br>Active: 2437<br>Last updated: 2021-04-24 06:20:41\", \"Zambia <br>Confirmed: 91251<br>Deaths: 1245<br>Recovered: 89256<br>Active: 750<br>Last updated: 2021-04-24 06:20:41\", \"Zimbabwe <br>Confirmed: 38045<br>Deaths: 1556<br>Recovered: 35094<br>Active: 1395<br>Last updated: 2021-04-24 06:20:41\", \"US Mississippi<br>Confirmed: 310349<br>Deaths: 7175<br>Recovered: 0<br>Active: 0<br>Last updated: 2021-04-24 06:20:41\", \"US Grand Princess<br>Confirmed: 103<br>Deaths: 3<br>Recovered: 0<br>Active: 0<br>Last updated: 2020-08-04 02:27:56\", \"US Oklahoma<br>Confirmed: 446550<br>Deaths: 6716<br>Recovered: 0<br>Active: 0<br>Last updated: 2021-04-24 06:20:41\", \"US Delaware<br>Confirmed: 102593<br>Deaths: 1609<br>Recovered: 0<br>Active: 0<br>Last updated: 2021-04-24 06:20:41\", \"US Minnesota<br>Confirmed: 564584<br>Deaths: 7142<br>Recovered: 0<br>Active: 0<br>Last updated: 2021-04-24 06:20:41\", \"US Illinois<br>Confirmed: 1315983<br>Deaths: 24083<br>Recovered: 0<br>Active: 0<br>Last updated: 2021-04-24 06:20:41\", \"US Arkansas<br>Confirmed: 334458<br>Deaths: 5716<br>Recovered: 0<br>Active: 0<br>Last updated: 2021-04-24 06:20:41\", \"US New Mexico<br>Confirmed: 196221<br>Deaths: 4024<br>Recovered: 0<br>Active: 0<br>Last updated: 2021-04-24 06:20:41\", \"US Indiana<br>Confirmed: 712858<br>Deaths: 13256<br>Recovered: 0<br>Active: 0<br>Last updated: 2021-04-24 06:20:41\", \"US Louisiana<br>Confirmed: 455541<br>Deaths: 10336<br>Recovered: 0<br>Active: 0<br>Last updated: 2021-04-24 06:20:41\", \"US Texas<br>Confirmed: 2870407<br>Deaths: 49877<br>Recovered: 0<br>Active: 0<br>Last updated: 2021-04-24 06:20:41\", \"US Wisconsin<br>Confirmed: 655410<br>Deaths: 7452<br>Recovered: 0<br>Active: 0<br>Last updated: 2021-04-24 06:20:41\", \"US Kansas<br>Confirmed: 308883<br>Deaths: 4924<br>Recovered: 0<br>Active: 0<br>Last updated: 2021-04-24 06:20:41\", \"US Recovered<br>Confirmed: 0<br>Deaths: 0<br>Recovered: 0<br>Active: 0<br>Last updated: 2021-04-24 06:20:41\", \"US Connecticut<br>Confirmed: 334766<br>Deaths: 8047<br>Recovered: 0<br>Active: 0<br>Last updated: 2021-04-24 06:20:41\", \"US Virgin Islands<br>Confirmed: 3068<br>Deaths: 27<br>Recovered: 0<br>Active: 0<br>Last updated: 2021-04-24 06:20:41\", \"US California<br>Confirmed: 3729116<br>Deaths: 61401<br>Recovered: 0<br>Active: 0<br>Last updated: 2021-04-24 06:20:41\", \"US Puerto Rico<br>Confirmed: 127450<br>Deaths: 2263<br>Recovered: 0<br>Active: 0<br>Last updated: 2021-04-24 06:20:41\", \"US Georgia<br>Confirmed: 1091339<br>Deaths: 19917<br>Recovered: 0<br>Active: 0<br>Last updated: 2021-04-24 06:20:41\", \"US North Dakota<br>Confirmed: 106537<br>Deaths: 1517<br>Recovered: 0<br>Active: 0<br>Last updated: 2021-04-24 06:20:41\", \"US Pennsylvania<br>Confirmed: 1128688<br>Deaths: 25927<br>Recovered: 0<br>Active: 0<br>Last updated: 2021-04-24 06:20:41\", \"US West Virginia<br>Confirmed: 150693<br>Deaths: 2813<br>Recovered: 0<br>Active: 0<br>Last updated: 2021-04-24 06:20:41\", \"US Alaska<br>Confirmed: 67059<br>Deaths: 334<br>Recovered: 0<br>Active: 0<br>Last updated: 2021-04-24 06:20:41\", \"US Tennessee<br>Confirmed: 841049<br>Deaths: 12142<br>Recovered: 0<br>Active: 0<br>Last updated: 2021-04-24 06:20:41\", \"US Missouri<br>Confirmed: 587409<br>Deaths: 9067<br>Recovered: 0<br>Active: 0<br>Last updated: 2021-04-24 06:20:41\", \"US South Dakota<br>Confirmed: 121850<br>Deaths: 1957<br>Recovered: 0<br>Active: 0<br>Last updated: 2021-04-24 06:20:41\", \"US Colorado<br>Confirmed: 498758<br>Deaths: 6231<br>Recovered: 0<br>Active: 0<br>Last updated: 2021-04-24 06:20:41\", \"US New Jersey<br>Confirmed: 993414<br>Deaths: 25328<br>Recovered: 0<br>Active: 0<br>Last updated: 2021-04-24 06:20:41\", \"US Guam<br>Confirmed: 7911<br>Deaths: 136<br>Recovered: 0<br>Active: 0<br>Last updated: 2021-04-24 06:20:41\", \"US Washington<br>Confirmed: 393594<br>Deaths: 5434<br>Recovered: 0<br>Active: 0<br>Last updated: 2021-04-24 06:20:41\", \"US New York<br>Confirmed: 2022891<br>Deaths: 51892<br>Recovered: 0<br>Active: 0<br>Last updated: 2021-04-24 06:20:41\", \"US Nevada<br>Confirmed: 312840<br>Deaths: 5422<br>Recovered: 0<br>Active: 0<br>Last updated: 2021-04-24 06:20:41\", \"US Northern Mariana Islands<br>Confirmed: 164<br>Deaths: 2<br>Recovered: 0<br>Active: 0<br>Last updated: 2021-04-24 06:20:41\", \"US Diamond Princess<br>Confirmed: 49<br>Deaths: 0<br>Recovered: 0<br>Active: 0<br>Last updated: 2020-08-04 02:27:56\", \"US Maryland<br>Confirmed: 441155<br>Deaths: 8633<br>Recovered: 0<br>Active: 0<br>Last updated: 2021-04-24 06:20:41\", \"US Idaho<br>Confirmed: 186183<br>Deaths: 2031<br>Recovered: 0<br>Active: 0<br>Last updated: 2021-04-24 06:20:41\", \"US Wyoming<br>Confirmed: 57696<br>Deaths: 705<br>Recovered: 0<br>Active: 0<br>Last updated: 2021-04-24 06:20:41\", \"US Arizona<br>Confirmed: 857347<br>Deaths: 17238<br>Recovered: 0<br>Active: 0<br>Last updated: 2021-04-24 06:20:41\", \"US Iowa<br>Confirmed: 362591<br>Deaths: 5907<br>Recovered: 0<br>Active: 0<br>Last updated: 2021-04-24 06:20:41\", \"US Michigan<br>Confirmed: 906596<br>Deaths: 18283<br>Recovered: 0<br>Active: 0<br>Last updated: 2021-04-24 06:20:41\", \"US Utah<br>Confirmed: 394678<br>Deaths: 2179<br>Recovered: 0<br>Active: 0<br>Last updated: 2021-04-24 06:20:41\", \"US Virginia<br>Confirmed: 652321<br>Deaths: 10666<br>Recovered: 0<br>Active: 0<br>Last updated: 2021-04-24 06:20:41\", \"US Oregon<br>Confirmed: 179120<br>Deaths: 2477<br>Recovered: 0<br>Active: 0<br>Last updated: 2021-04-24 06:20:41\", \"US Montana<br>Confirmed: 107873<br>Deaths: 1559<br>Recovered: 0<br>Active: 0<br>Last updated: 2021-04-24 06:20:41\", \"US New Hampshire<br>Confirmed: 93231<br>Deaths: 1281<br>Recovered: 0<br>Active: 0<br>Last updated: 2021-04-24 06:20:41\", \"US Massachusetts<br>Confirmed: 680007<br>Deaths: 17528<br>Recovered: 0<br>Active: 0<br>Last updated: 2021-04-24 06:20:41\", \"US South Carolina<br>Confirmed: 573225<br>Deaths: 9404<br>Recovered: 0<br>Active: 0<br>Last updated: 2021-04-24 06:20:41\", \"US Vermont<br>Confirmed: 22416<br>Deaths: 243<br>Recovered: 0<br>Active: 0<br>Last updated: 2021-04-24 06:20:41\", \"US Florida<br>Confirmed: 2196502<br>Deaths: 34759<br>Recovered: 0<br>Active: 0<br>Last updated: 2021-04-24 06:20:41\", \"US Hawaii<br>Confirmed: 33178<br>Deaths: 477<br>Recovered: 0<br>Active: 0<br>Last updated: 2021-04-24 06:20:41\", \"US Kentucky<br>Confirmed: 440149<br>Deaths: 6403<br>Recovered: 0<br>Active: 0<br>Last updated: 2021-04-24 06:20:41\", \"US Rhode Island<br>Confirmed: 146324<br>Deaths: 2660<br>Recovered: 0<br>Active: 0<br>Last updated: 2021-04-24 06:20:41\", \"US Nebraska<br>Confirmed: 218197<br>Deaths: 2241<br>Recovered: 0<br>Active: 0<br>Last updated: 2021-04-24 06:20:41\", \"US Ohio<br>Confirmed: 1061907<br>Deaths: 19122<br>Recovered: 0<br>Active: 0<br>Last updated: 2021-04-24 06:20:41\", \"US Alabama<br>Confirmed: 525477<br>Deaths: 10840<br>Recovered: 0<br>Active: 0<br>Last updated: 2021-04-24 06:20:41\", \"US North Carolina<br>Confirmed: 956932<br>Deaths: 12523<br>Recovered: 0<br>Active: 0<br>Last updated: 2021-04-24 06:20:41\", \"US District of Columbia<br>Confirmed: 47141<br>Deaths: 1099<br>Recovered: 0<br>Active: 0<br>Last updated: 2021-04-24 06:20:41\", \"US Maine<br>Confirmed: 59239<br>Deaths: 771<br>Recovered: 0<br>Active: 0<br>Last updated: 2021-04-24 06:20:41\"], \"lat\": [33.93911, 41.1533, 28.0339, 42.5063, -11.2027, 17.0608, -38.4161, 40.0691, -35.4735, -33.8688, -12.4634, -27.4698, -34.9285, -42.8821, -37.8136, -31.9505, 47.5162, 40.1431, 25.025885, 26.0275, 23.685, 13.1939, 53.7098, 51.2195, 50.8503, 51.0362, 50.9167, 50.5257, 50.4496, 50.9739, 50.0547, 50.331, null, 50.4, 51.0536, 17.1899, 9.3077, 27.5142, -16.2902, 43.9159, -22.3285, -9.0238, -9.5713, 0.902, -3.4168, -12.5797, -5.4984, -15.7998, -19.1834, -15.827, -4.9609, -12.6819, -20.7722, -18.5122, -1.9981, -7.24, -25.2521, -8.8137, -7.7183, -5.4026, -30.0346, -22.9068, -11.5057, -2.7376, -27.2423, -23.5505, -10.5741, -10.1753, 4.5353, 42.7339, 12.2383, 21.9162, -3.3731, 16.5388, 11.55, 3.848, 53.9333, 53.7267, null, null, 53.7609, 46.5653, 53.1355, 64.8255, 44.682, 70.2998, 51.2538, 46.5107, 52.9399, null, 52.9399, 64.2823, 6.6111, 15.4542, -23.6509, -38.9489, -18.594, -27.5661, -45.9864, -37.4464, -29.959, -41.9198, -40.231, -52.368, -35.5183, -33.4376, -36.7226, -34.5755, -19.9232, null, -33.0472, 31.8257, 40.1824, 30.0572, 26.0789, 35.7518, 23.3417, 23.8298, 26.8154, 19.1959, 37.8957, 47.862, 33.882, 22.3, 30.9756, 27.6104, 44.0935, 32.9711, 27.614, 43.6661, 41.2956, 22.1667, 37.2692, 35.7452, 35.1917, 36.3427, 31.202, 37.5777, 30.6171, 39.3054, 31.6927, null, 41.1129, 24.974, 29.1832, -1.4429, 7.1986, 7.0762, 10.6966, 8.6704, 5.4545, 5.2983, 4.711, 0.8699, 5.7589, 2.705, 9.3373, 5.2528, 8.0493, 5.026, 2.5854, 1.0654, 2.5359, 11.3548, 10.4113, 3.272, 1.2892, 7.9463, 0.436, 4.461, 5.3158, 12.5567, 6.6437, 8.814, 4.0925, null, 3.8009, 0.8554, 4.4234, -11.6455, -0.228, -4.0383, 9.7489, 7.54, 45.1, 21.521757, 35.1264, 49.8175, 56.2639, 61.8926, 71.7069, null, 11.8251, 15.415, 18.7357, -1.8312, 26.820553, 13.7942, 1.6508, 15.1794, 58.5953, -26.5225, 9.145, -17.7134, 61.92411, 46.2276, 4.0, -17.6797, 16.265, 14.6415, -12.8275, -20.904305, -21.1151, 17.9, 46.8852, 18.0708, -14.2938, -0.8037, 13.4432, 42.3154, 48.6616, 48.7904, 52.52, 52.4125, 53.0793, 53.5511, 50.6521, 53.6127, 52.6367, 51.4332, 50.1183, 49.3964, 51.1045, 51.9503, 54.2194, 51.011, null, 7.9465, 39.0742, 12.1165, 15.7835, 9.9456, 11.8037, 4.860416, 18.9712, 41.9029, 15.2, 47.1625, 64.9631, 11.225999, 15.9129, 27.768456, 26.357149, 25.679658, 30.733839, 21.264705, 20.194742, 28.646519, 15.359682, 22.694884, 29.20004, 31.927213, 33.75943, 23.654536, 14.70518, 10.450898, 34.1526, 13.6999972, 23.541513, 19.449759, 24.738975, 25.536934, 23.309381, 26.06702, 20.505428, 11.882658, 30.841465, 26.583423, 27.571671, 11.006091, 18.1124, 23.746783, null, 26.925425, 30.156447, 23.814082, -0.7893, 32.427908, 33.223191, 53.1424, 31.046051, 42.35122196, 40.63947052, 38.90597598, 40.83956555, 44.49436681, 45.6494354, 41.89277044, 44.41149315, 45.46679409, 43.61675973, 41.55774754, 46.49933453, 46.06893511, 45.0732745, 41.12559576, 39.21531192, 38.11569725, 43.76923077, 43.10675841, 45.73750286, 45.43490485, 18.1096, 35.035551, 39.748679, 40.781541, 35.510141, 33.624835, 35.846614, 33.526032, 37.378867, 35.778671, 36.504479, 34.605309, 43.385711, 35.039913, 36.303588, 36.769464, 39.593287, 34.217292, 31.009484, 35.415312, 33.422519, 32.608154, 35.253815, 34.508018, 38.446859, 32.193204, 36.132134, 33.235712, 34.317451, 37.521819, 33.200697, 34.89246, 25.768923, 34.620965, null, 33.286977, 35.997101, 35.215827, 35.07076, 34.916975, 36.689912, 33.919178, 35.711343, 35.359069, 36.637464, null, 33.911879, 38.448396, 34.20119, 35.612364, 31.24, 48.0196, -0.0236, 35.907757, 42.602636, 29.31166, 41.20438, 19.85627, 56.8796, 33.8547, -29.61, 6.428055, 26.3351, 47.14, 55.1694, 49.8153, null, -18.766947, -13.2543, 4.210484, 3.2028, 17.570692, 35.9375, 7.1315, 21.0079, -20.348404, 21.8853, 30.8406, 26.0444, 19.8301, 16.7569, 28.633, 19.4326, 27.0587, 19.1223, 24.5593, 21.019, 17.4392, 20.0911, 20.6595, 19.4969, 19.5665, 18.6813, 21.7514, 25.5922, 17.0732, 19.0414, 20.5888, 19.1817, 22.1565, 25.1721, 29.2972, 17.8409, 24.2669, 19.3139, null, 19.1738, 20.7099, 22.7709, 7.4256, 47.4116, 43.7333, 46.8625, 42.708678, 31.7917, -18.665695, -22.9576, 28.1667, 12.5211, 12.1784, 12.1696, 52.862485, 52.550383, 53.087337, 52.061738, 53.217922, 51.209227, 51.561174, 52.600906, 52.444558, 18.0425, null, 52.084251, 51.47936, 51.937835, -40.9006, 12.865416, 17.607789, 9.082, 41.6086, 60.472, 21.512583, 34.027401, 28.328492, 35.792146, 33.665087, 34.485332, 30.811346, 26.009446, 8.538, -6.314993, -23.4425, -5.077253, -9.407125, -14.027713, -15.843524, -14.091648, -6.430284, -11.954609, -13.191068, -13.023888, -9.421676, -14.235097, -11.541783, -7.92139, -6.353049, -11.766533, -4.124847, -11.972699, -16.860271, -10.39655, -5.133361, -14.995827, -7.039531, -17.644161, -3.857496, -9.621718, null, 12.879721, 51.9194, 39.3999, 25.3548, 45.9432, 44.6939006, 52.6932243, 50.7114101, 52.8032368, 63.5589686, 47.1878186, 54.8573563, 50.7080119, 52.8873315, 52.7182426, 43.3976147, 54.4223954, 66.0006475, 55.4259922, 43.0574916, 43.11542075, 56.6370122, 56.9167446, 48.57527615, 43.4806048, 54.7293041, 46.2313018, 54.4382773, 57.1914882, 43.7368326, 62.6194031, 54.5335781, 51.6312684, 53.72258845, 61.0259025, 57.9665589, 63.9881421, 58.424756, 45.7684014, 63.3233807, 55.7655302, 51.6568453, 60.1853296, 52.6935178, 62.48858785, 56.5767504, 54.4419829, 55.7504461, 55.5043158, 68.0000418, 68.27557185, 55.4718033, 42.7933611, 58.2843833, 54.9720169, 56.0935263, 52.9685433, 52.0269262, 53.1655415, 58.5951603, 45.0819456, 57.5358729, 47.6222451, 54.4226732, 59.9606739, 66.941626, 49.7219665, 53.2128813, 51.6520555, 55.0343496, 44.8632577, 58.6414755, 52.9019574, 55.7648572, 58.6124279, 53.9570701, 57.1134475, 58.8206488, 51.4017149, 57.1961165, 54.1463177, 56.0503336, 49.6048339, 60.0391461, 50.9800393, 67.1471631, 57.7781976, 52.248521, -1.9403, 17.357822, 13.9094, 12.9843, -13.759, 43.9424, 0.1864, 23.885942, 14.4974, 44.0165, -4.6796, 8.460555, 1.2833, 48.669, 46.1512, -9.6457, 5.152149, -30.5595, 6.877, 37.5443, 41.5976, 43.3614, 39.710358, 39.484, 28.2916, 43.1828, 39.2796, 41.8357, 41.5912, 35.8894, 39.4937, 42.5751, 42.2871, 40.4168, 35.2923, 37.9922, 42.6954, 42.9896, null, 7.873054, 12.8628, 3.9193, 56.2784, 61.0917, 61.3012, 57.4684, 56.8967, 63.1712, 57.3708, 57.235, 56.7183, 66.8309, 59.535, 58.3454, 55.9903, 59.0336, 59.6025, 60.0092, 59.7294, 65.3337, 63.4276, 59.6714, 58.2528, 46.8182, 34.802075, 23.7, 38.861, -6.369028, 15.870032, -8.874217, 8.6195, 10.6918, 33.886917, 38.9637, 1.373333, 49.4444, 51.4982, 48.2917, 45.2835, 48.4647, 48.0159, 48.9226, 49.9935, 46.6354, 49.423, 50.4501, 50.053, 48.5079, 48.574, 49.8397, 46.975, 46.4846, 49.5883, 50.6199, 44.6054, 50.9077, 49.5535, 49.2331, 50.7472, 48.6208, 47.8388, 50.2547, 23.424076, 18.2206, 32.3078, 18.4207, 19.3133, 49.3723, 52.3555, -51.7963, 36.1408, 54.2361, 16.742498, 54.7877, -7.9467, 56.4907, 21.694, null, 52.1307, -32.5228, 41.377491, -15.3767, 6.4238, 14.058324, 31.9522, 15.552727, -13.133897, -19.015438, 32.741646, 37.64894, 35.565342, 39.318523, 45.694454, 40.349457, 34.969704, 34.840515, 39.849426, 31.169546, 31.054487, 44.268543, 38.5266, 0.0, 41.597782, 18.3358, 36.116203, 18.2208, 33.040619, 47.528912, 40.590752, 38.491226, 61.370716, 35.747845, 38.456085, 44.299782, 39.059811, 40.298904, 13.4443, 47.400902, 42.165726, 38.313515, 15.0979, 35.4437, 39.063946, 44.240459, 42.755966, 33.729759, 42.011539, 43.326618, 40.150032, 37.769337, 44.572021, 46.921925, 43.452492, 42.230171, 33.856892, 44.045876, 27.766279, 21.094318, 37.66814, 41.680893, 41.12537, 40.388783, 32.3182, 35.630066, 38.897438, 44.693947], \"locationmode\": \"country names\", \"lon\": [67.709953, 20.1683, 1.6596, 1.5218, 17.8739, -61.7964, -63.6167, 45.0382, 149.0124, 151.2093, 130.8456, 153.0251, 138.6007, 147.3272, 144.9631, 115.8605, 14.5501, 47.5769, -78.035889, 50.55, 90.3563, -59.5432, 27.9534, 4.4024, 4.3517, 3.7373, 4.5833, 4.0621, 5.8492, 5.342, 5.4677, 4.8221, null, 4.35, 3.1458, -88.4976, 2.3158, 90.4336, -63.5887, 17.6791, 24.6849, -70.812, -36.782, -52.003, -65.8561, -41.7007, -39.3206, -47.8645, -40.3089, -49.8362, -45.2744, -56.9211, -54.7852, -44.555, -54.9306, -36.782, -52.0215, -36.9541, -42.7289, -36.9541, -51.2177, -43.1729, -63.5806, -62.0751, -50.2189, -46.6333, -37.3857, -48.2982, 114.7277, 25.4858, -1.5616, 95.956, 29.9189, -23.0418, 104.9167, 11.5021, -116.5765, -127.6476, null, null, -98.8139, -66.4619, -57.6604, -124.8457, -63.7443, -83.1076, -85.3232, -63.4168, -73.5491, null, -106.4509, -135.0, 20.9394, 18.7322, -70.3975, -72.3311, -69.4785, -70.0503, -73.7669, -72.1416, -71.3389, -72.1416, -72.3311, -70.9863, -71.6885, -70.6505, -71.7622, -71.0022, -69.5132, null, -71.6127, 117.2264, 116.4142, 107.874, 117.9874, 104.2861, 113.4244, 108.7881, 106.8748, 109.7453, 114.9042, 127.7615, 113.614, 114.2, 112.2707, 111.7088, 113.9448, 119.455, 115.7221, 126.1923, 122.6085, 113.55, 106.1655, 95.9956, 108.8701, 118.1498, 121.4491, 112.2922, 102.7103, 117.323, 88.0924, null, 85.2401, 101.487, 120.0934, -71.5724, -75.3412, -70.7105, -74.8741, -74.03, -73.362, -75.2479, -74.0721, -73.8419, -71.5724, -76.826, -73.6536, -76.826, -75.574, -74.03, -68.5247, -73.2603, -75.5277, -72.5205, -74.4057, -73.0877, -77.3579, -72.8988, -75.5277, -75.6674, -75.9928, -81.7185, -73.6536, -74.7233, -75.1545, null, -76.6413, -70.812, -69.2878, 43.3333, 15.8277, 21.7587, -83.7534, -5.5471, 15.2, -77.781167, 33.4299, 15.473, 9.5018, -6.9118, -42.6043, null, 42.5903, -61.371, -70.1627, -78.1834, 30.802498, -88.8965, 10.2679, 39.7823, 25.0136, 31.4659, 40.4897, 178.065, 25.748151, 2.2137, -53.0, -149.4068, -61.551, -61.0242, 45.166244, 165.618042, 55.5364, -62.8333, -56.3159, -63.0501, -178.1165, 11.6094, -15.3101, 43.3569, 9.3501, 11.4979, 13.405, 12.5316, 8.8017, 9.9937, 9.1624, 12.4296, 9.8451, 7.6616, 7.309, 7.023, 13.2017, 11.6923, 9.6961, 10.8453, null, -1.0232, 21.8243, -61.679, -90.2308, -9.6966, -15.1804, -58.93018, -72.2852, 12.4534, -86.2419, 19.5033, -19.0208, 92.968178, 79.74, 96.384277, 92.830441, 85.60484, 76.768278, 82.035366, 73.080901, 77.10898, 74.057396, 71.590923, 76.332824, 77.233081, 76.612638, 85.557631, 76.166436, 76.405749, 77.5771, 72.1833326, 78.289633, 76.108221, 93.882541, 91.278882, 92.83822, 94.470302, 84.418059, 78.86498, 75.40879, 73.847973, 88.472712, 78.400624, 79.0193, 91.743565, null, 80.560982, 79.197608, 87.979803, 113.9213, 53.688046, 43.679291, -7.6921, 34.851612, 13.39843823, 15.80514834, 16.59440194, 14.25084984, 11.3417208, 13.76813649, 12.48366722, 8.9326992, 9.190347404, 13.5188753, 14.65916051, 11.35662422, 11.12123097, 7.680687483, 16.86736689, 9.110616306, 13.3623567, 11.25588885, 12.38824698, 7.320149366, 12.33845213, -77.2975, 137.211621, 140.408228, 140.828896, 140.198917, 132.856842, 136.224654, 130.666949, 140.223295, 137.055925, 138.985605, 132.788719, 142.552318, 134.828057, 140.319591, 136.771027, 141.361777, 133.969047, 130.430665, 139.338983, 133.367307, 130.745231, 135.443341, 136.376013, 140.927086, 131.299374, 138.045528, 129.608033, 135.871644, 138.918647, 131.43324, 133.826252, 126.668016, 135.507481, null, 130.115738, 139.347635, 136.138064, 132.554064, 138.407784, 139.819213, 134.242091, 139.446921, 133.863619, 137.269346, null, 135.505446, 140.102154, 131.573293, 138.611489, 36.51, 66.9237, 37.9062, 127.766922, 20.902977, 47.481766, 74.766098, 102.495496, 24.6032, 35.8623, 28.2336, -9.429499, 17.228331, 9.55, 23.8813, 6.1296, null, 46.869107, 34.3015, 101.975766, 73.2207, -3.996166, 14.3754, 171.1845, -10.9408, 57.552152, -102.2916, -115.2838, -111.6661, -90.5349, -93.1292, -106.0691, -99.1332, -101.7068, -104.0072, -104.6588, -101.2574, -99.5451, -98.7624, -103.3494, -99.7233, -101.7068, -99.1013, -104.8455, -99.9962, -96.7266, -98.2063, -100.3899, -88.4791, -100.9855, -107.4795, -110.3309, -92.6189, -98.8363, -98.2404, null, -96.1342, -89.0943, -102.5832, 150.5508, 28.3699, 7.4167, 103.8467, 19.37439, -7.0926, 35.529562, 18.4904, 84.25, -69.9683, -68.2385, -68.99, 6.618435, 5.515162, 5.7925, 5.939114, 6.741514, 5.93387, 5.184942, 4.918688, 6.441722, -63.0548, null, 5.163824, 3.861559, 4.462114, 174.886, -85.207229, 8.081666, 8.6753, 21.7453, 8.4689, 55.923255, 73.947253, 65.898403, 74.982138, 73.121219, 72.09169, 72.139132, 68.776807, -80.7821, 143.95555, -58.4438, -78.050172, -77.671795, -72.975378, -72.475539, -74.08344, -78.745596, -77.136042, -72.153609, -75.00277, -76.040642, -75.574821, -74.876968, -78.370238, -79.824113, -76.604498, -74.424115, -70.53172, -70.839046, -75.307635, -80.335861, -69.922726, -76.729127, -70.27756, -80.545255, -73.444929, null, 121.774017, 19.1451, -8.2245, 51.1839, 24.9668, 40.1520421, 82.6931424, 86.8572186, 128.437295, 43.1221646, 47.608851, 57.1439682, 37.5837615, 33.415853, 109.492143, 45.6985005, 61.1865846, 169.4900869, 47.0849429, 47.1332224, 45.01713552, 104.719221, 41.4352137, 132.6630746, 43.5978976, 21.1489473, 45.3275745, 35.5272854, 160.0383819, 41.7267991, 33.4920267, 87.342861, 136.121524, 91.44293627, 69.0982628, 49.4074599, 54.3326073, 44.2533273, 39.0261044, 97.0979974, 64.5632681, 36.4852695, 32.3925325, 39.1122664, 153.9903764, 47.8817512, 44.4661144, 37.6174943, 38.0353929, 33.9999151, 57.1686375, 44.0911594, 44.6324493, 32.5169757, 79.4813924, 73.5099936, 36.0692477, 54.7276647, 44.7879181, 56.3159546, 134.726645, 28.8586826, 40.7957942, 40.5705246, 30.1586551, 129.642371, 143.448533, 50.8914633, 46.8631952, 33.0192065, 43.4406913, 61.8021546, 41.3578918, 52.43104273, 82.0475315, 37.3690909, 35.1744428, 70.3658837, 93.8582593, 52.6959832, 47.2324921, 40.6561633, 44.2903582, 43.1215213, 40.1506507, 74.3415488, 39.0021095, 115.956325, 29.8739, -62.782998, -60.9789, -61.2872, -172.1046, 12.4578, 6.6131, 45.079162, -14.4524, 21.0059, 55.492, -11.779889, 103.8333, 19.699, 14.9955, 160.1562, 46.199616, 22.9375, 31.307, -4.7278, -0.9057, -5.8593, 2.995148, -0.7533, -16.6291, -3.9878, -3.0977, -4.3976, 1.5209, -5.3213, -6.0679, -8.1339, -2.5396, -3.7038, -2.9381, -1.1307, -1.6761, -2.6189, null, 80.771797, 30.2176, -56.0278, 15.018, 14.6664, 16.1534, 18.4867, 12.8034, 14.9592, 14.3439, 16.1849, 14.4115, 20.3992, 15.0066, 15.5198, 13.5958, 16.7519, 18.1384, 17.2715, 13.2354, 16.5162, 17.7292, 16.2159, 13.0596, 8.2275, 38.996815, 121.0, 71.2761, 34.888822, 100.992541, 125.727539, 0.8248, -61.2225, 9.537499, 35.2433, 32.290275, 32.0598, 31.2893, 25.9352, 34.2008, 35.0462, 37.8028, 24.7111, 36.2304, 32.6169, 26.9871, 30.5234, 30.7667, 32.2623, 39.3078, 24.0297, 31.9946, 30.7326, 34.5514, 26.2516, 33.522, 34.7981, 25.5948, 28.4682, 25.3254, 22.2879, 35.1396, 28.6587, 53.847818, -63.0686, -64.7505, -64.64, -81.2546, -2.3644, -1.1743, -59.5236, -5.3536, -4.5481, -62.187366, -6.4923, -14.3559, -4.2026, -71.7979, null, -3.7837, -55.7658, 64.585262, 166.9592, -66.5897, 108.277199, 35.2332, 48.516388, 27.849332, 29.154857, -89.678696, -122.665479, -96.928917, -75.507141, -93.900192, -88.986137, -92.373123, -106.248482, -86.258278, -91.867805, -97.563461, -89.616508, -96.726486, 0.0, -72.755371, -64.8963, -119.681564, -66.5901, -83.643074, -99.784012, -77.209755, -80.954453, -152.404419, -86.692345, -92.288368, -99.438828, -105.311104, -74.521011, 144.7937, -121.490494, -74.948051, -117.055374, 145.6739, 139.638, -76.802101, -114.478828, -107.30249, -111.431221, -93.210526, -84.536095, -111.862434, -78.169968, -122.070938, -110.454353, -71.563896, -71.530106, -80.945007, -72.710686, -81.686783, -157.498337, -84.670067, -71.51178, -98.268082, -82.764915, -86.9023, -79.806419, -77.026817, -69.381927], \"marker\": {\"autocolorscale\": true, \"cmax\": 5399600, \"cmin\": 0, \"color\": [58542, 130270, 120562, 13007, 25279, 1222, 2824652, 212114, 123, 5419, 159, 1525, 704, 234, 20508, 984, 604823, 309789, 9976, 169254, 739703, 3820, 350221, 123386, 119935, 111290, 73931, 143150, 119349, 52399, 28349, 53730, 18287, 37068, 87233, 12599, 7720, 1008, 295892, 194733, 45855, 76376, 169265, 104109, 366798, 877484, 641230, 371719, 425549, 536340, 261350, 349426, 241673, 1307937, 460306, 285323, 923580, 391740, 233228, 215824, 942712, 720749, 208292, 94769, 868607, 2811562, 195191, 155939, 223, 396302, 13231, 142687, 3759, 21784, 8848, 65998, 178777, 123758, 0, 13, 37069, 1839, 1053, 54, 1938, 441, 445407, 175, 342688, 13, 39392, 80, 6224, 4747, 47649, 67353, 19471, 17208, 4085, 111596, 30883, 67221, 32492, 24577, 67211, 481171, 24994, 45975, 32702, 55, 81259, 994, 1057, 594, 586, 193, 2328, 270, 147, 187, 1317, 1610, 1312, 11727, 68157, 1044, 379, 717, 937, 573, 408, 49, 75, 18, 588, 876, 1958, 249, 968, 383, 1, 0, 980, 338, 1331, 6099, 450099, 6275, 218229, 76785, 51625, 58249, 758895, 17359, 14360, 29754, 49970, 7581, 49866, 121396, 1411, 2325, 52826, 26279, 55658, 45602, 52568, 54103, 8997, 38205, 54904, 3294, 100313, 26313, 68477, 0, 229982, 1216, 1529, 3826, 10084, 29405, 236930, 45765, 318837, 99208, 60681, 1615461, 246463, 663, 31, 712, 10738, 173, 263470, 371306, 220658, 68318, 7559, 3605, 119610, 18434, 249292, 87, 85344, 5399600, 18545, 18725, 12927, 9758, 19849, 124, 19343, 958, 25, 1720, 440, 22433, 5820, 301535, 424960, 574876, 163676, 99514, 24380, 69925, 253605, 38254, 229651, 709522, 135024, 35985, 253699, 87040, 57021, 111876, 7863, 91928, 329134, 159, 219789, 21803, 3722, 12448, 12944, 27, 205696, 764394, 6390, 5569, 1009228, 17430, 233453, 378442, 37232, 622965, 6142, 980679, 73644, 467640, 402843, 84065, 156344, 190692, 1274959, 1350501, 13089, 1805, 472785, 4161676, 30151, 15631, 5283, 12889, 394694, 51372, 326447, 483273, 7037, 1051487, 387106, 34429, 0, 1013370, 142349, 713780, 1632248, 2358809, 1018321, 245743, 837892, 70203, 22968, 57078, 379262, 362801, 104049, 316047, 97650, 791137, 95834, 13028, 70730, 43468, 339052, 226723, 52911, 201420, 220973, 53705, 10598, 406066, 44642, 31432, 402, 1435, 32153, 2134, 843, 21275, 3148, 5416, 5638, 5622, 22993, 28214, 7737, 2312, 811, 1146, 2003, 52032, 981, 3807, 11561, 3417, 7879, 2085, 3674, 1887, 5492, 2110, 1502, 3447, 11999, 73387, 2638, 1490, 36491, 3435, 335, 6269, 5181, 1068, 133730, 353, 1234, 8, 1979, 1418, 1674, 1120, 699164, 355918, 155165, 118243, 102720, 264198, 93603, 159, 114244, 518104, 10723, 2097, 174752, 2855, 239263, 66007, 9, 34775, 33989, 387535, 27403, 13504, 30129, 4, 18207, 1205, 25813, 47421, 29882, 9263, 10797, 51011, 634752, 67755, 11142, 33259, 130140, 39244, 37949, 84833, 242530, 46837, 31795, 11670, 121975, 45580, 82479, 67583, 22616, 62043, 37474, 72772, 63683, 56127, 19294, 0, 59298, 36665, 29748, 1, 248518, 2426, 29219, 96348, 508530, 69597, 47383, 294601, 10505, 196, 12058, 29861, 32512, 37719, 160476, 34236, 96447, 229985, 245594, 94198, 2214, 3370, 111740, 24646, 344280, 2600, 6835, 5143, 164633, 149710, 110061, 185278, 16327, 21477, 5247, 72613, 112140, 285542, 276670, 362358, 10338, 263134, 25367, 59735, 17816, 70343, 25458, 48543, 89279, 51390, 12491, 29189, 47416, 58354, 62393, 47592, 803011, 37933, 12557, 22835, 12417, 66991, 27904, 38668, 22948, 14715, 29261, 11049, 979740, 2742122, 833397, 200778, 1042521, 14352, 49109, 16784, 22216, 61475, 32362, 34691, 36222, 37624, 36948, 11920, 58128, 746, 23829, 32036, 15354, 65251, 33986, 4467, 23585, 31396, 20342, 33683, 14390, 19970, 45417, 34628, 51526, 22221, 55624, 41586, 42994, 20423, 44773, 69539, 20113, 35934, 41983, 29383, 8313, 12951, 19856, 1075242, 245578, 50166, 1094, 112711, 16656, 29649, 40581, 45315, 33754, 41853, 44288, 53734, 43339, 35762, 86339, 27465, 410768, 34576, 22397, 60244, 58077, 29096, 52407, 85384, 31158, 20203, 31952, 38086, 39428, 34793, 15799, 32313, 52821, 31523, 56151, 44463, 79429, 38426, 38063, 42077, 24459, 44, 4455, 1827, 3, 5047, 2292, 410191, 40022, 675904, 5206, 4044, 60943, 378635, 235711, 20, 13459, 1572985, 10515, 541843, 116374, 50028, 58885, 389344, 51617, 28004, 182975, 220867, 572754, 5699, 73439, 120579, 29208, 669268, 8563, 110257, 58786, 180127, 0, 99518, 33673, 9932, 10724, 22804, 32223, 3533, 37018, 10419, 38026, 19461, 17811, 19953, 27167, 34320, 136944, 21852, 222719, 35174, 15797, 20182, 22467, 23883, 165866, 646509, 21864, 1090, 13308, 509, 53022, 1739, 12742, 9383, 296343, 4550820, 41575, 72245, 52083, 76423, 39764, 116466, 76011, 83301, 131237, 30056, 81560, 191165, 116277, 17142, 22382, 126843, 61217, 130631, 69129, 69457, 13907, 70956, 64664, 66795, 55592, 59503, 93436, 82770, 506845, 29, 2284, 194, 531, 4111, 3845537, 63, 4283, 1585, 20, 119559, 4, 224851, 2375, 0, 211162, 179537, 88679, 4, 189381, 2830, 289120, 6056, 91251, 38045, 310349, 103, 446550, 102593, 564584, 1315983, 334458, 196221, 712858, 455541, 2870407, 655410, 308883, 0, 334766, 3068, 3729116, 127450, 1091339, 106537, 1128688, 150693, 67059, 841049, 587409, 121850, 498758, 993414, 7911, 393594, 2022891, 312840, 164, 49, 441155, 186183, 57696, 857347, 362591, 906596, 394678, 652321, 179120, 107873, 93231, 680007, 573225, 22416, 2196502, 33178, 440149, 146324, 218197, 1061907, 525477, 956932, 47141, 59239], \"colorbar\": {\"title\": {\"text\": \"Confirmed Cases<br>Latest Update\"}, \"x\": 0.07}, \"line\": {\"color\": \"rgba(102, 102, 102)\", \"width\": 1}, \"opacity\": 0.8, \"reversescale\": true, \"size\": 10, \"symbol\": \"circle\"}, \"showlegend\": false, \"type\": \"scattergeo\"}],\n",
              "                        {\"annotations\": [{\"showarrow\": false, \"text\": \"Source: https://bit.ly/3aEzxjK\", \"x\": 0.55, \"xref\": \"paper\", \"y\": -0.1, \"yref\": \"paper\"}], \"geo\": {\"domain\": {\"x\": [0.0, 1.0], \"y\": [0.0, 1.0]}, \"lakecolor\": \"LightBlue\", \"landcolor\": \"white\", \"projection\": {\"type\": \"natural earth\"}, \"showcoastlines\": true, \"showland\": true, \"showocean\": true}, \"template\": {\"data\": {\"bar\": [{\"error_x\": {\"color\": \"#f2f5fa\"}, \"error_y\": {\"color\": \"#f2f5fa\"}, \"marker\": {\"line\": {\"color\": \"rgb(17,17,17)\", \"width\": 0.5}}, \"type\": \"bar\"}], \"barpolar\": [{\"marker\": {\"line\": {\"color\": \"rgb(17,17,17)\", \"width\": 0.5}}, \"type\": \"barpolar\"}], \"carpet\": [{\"aaxis\": {\"endlinecolor\": \"#A2B1C6\", \"gridcolor\": \"#506784\", \"linecolor\": \"#506784\", \"minorgridcolor\": \"#506784\", \"startlinecolor\": \"#A2B1C6\"}, \"baxis\": {\"endlinecolor\": \"#A2B1C6\", \"gridcolor\": \"#506784\", \"linecolor\": \"#506784\", \"minorgridcolor\": \"#506784\", \"startlinecolor\": \"#A2B1C6\"}, \"type\": \"carpet\"}], \"choropleth\": [{\"colorbar\": {\"outlinewidth\": 0, \"ticks\": \"\"}, \"type\": \"choropleth\"}], \"contour\": [{\"colorbar\": {\"outlinewidth\": 0, \"ticks\": \"\"}, \"colorscale\": [[0.0, \"#0d0887\"], [0.1111111111111111, \"#46039f\"], [0.2222222222222222, \"#7201a8\"], [0.3333333333333333, \"#9c179e\"], [0.4444444444444444, \"#bd3786\"], [0.5555555555555556, \"#d8576b\"], [0.6666666666666666, \"#ed7953\"], [0.7777777777777778, \"#fb9f3a\"], [0.8888888888888888, \"#fdca26\"], [1.0, \"#f0f921\"]], \"type\": \"contour\"}], \"contourcarpet\": [{\"colorbar\": {\"outlinewidth\": 0, \"ticks\": \"\"}, \"type\": \"contourcarpet\"}], \"heatmap\": [{\"colorbar\": {\"outlinewidth\": 0, \"ticks\": \"\"}, \"colorscale\": [[0.0, \"#0d0887\"], [0.1111111111111111, \"#46039f\"], [0.2222222222222222, \"#7201a8\"], [0.3333333333333333, \"#9c179e\"], [0.4444444444444444, \"#bd3786\"], [0.5555555555555556, \"#d8576b\"], [0.6666666666666666, \"#ed7953\"], [0.7777777777777778, \"#fb9f3a\"], [0.8888888888888888, \"#fdca26\"], [1.0, \"#f0f921\"]], \"type\": \"heatmap\"}], \"heatmapgl\": [{\"colorbar\": {\"outlinewidth\": 0, \"ticks\": \"\"}, \"colorscale\": [[0.0, \"#0d0887\"], [0.1111111111111111, \"#46039f\"], [0.2222222222222222, \"#7201a8\"], [0.3333333333333333, \"#9c179e\"], [0.4444444444444444, \"#bd3786\"], [0.5555555555555556, \"#d8576b\"], [0.6666666666666666, \"#ed7953\"], [0.7777777777777778, \"#fb9f3a\"], [0.8888888888888888, \"#fdca26\"], [1.0, \"#f0f921\"]], \"type\": \"heatmapgl\"}], \"histogram\": [{\"marker\": {\"colorbar\": {\"outlinewidth\": 0, \"ticks\": \"\"}}, \"type\": \"histogram\"}], \"histogram2d\": [{\"colorbar\": {\"outlinewidth\": 0, \"ticks\": \"\"}, \"colorscale\": [[0.0, \"#0d0887\"], [0.1111111111111111, \"#46039f\"], [0.2222222222222222, \"#7201a8\"], [0.3333333333333333, \"#9c179e\"], [0.4444444444444444, \"#bd3786\"], [0.5555555555555556, \"#d8576b\"], [0.6666666666666666, \"#ed7953\"], [0.7777777777777778, \"#fb9f3a\"], [0.8888888888888888, \"#fdca26\"], [1.0, \"#f0f921\"]], \"type\": \"histogram2d\"}], \"histogram2dcontour\": [{\"colorbar\": {\"outlinewidth\": 0, \"ticks\": \"\"}, \"colorscale\": [[0.0, \"#0d0887\"], [0.1111111111111111, \"#46039f\"], [0.2222222222222222, \"#7201a8\"], [0.3333333333333333, \"#9c179e\"], [0.4444444444444444, \"#bd3786\"], [0.5555555555555556, \"#d8576b\"], [0.6666666666666666, \"#ed7953\"], [0.7777777777777778, \"#fb9f3a\"], [0.8888888888888888, \"#fdca26\"], [1.0, \"#f0f921\"]], \"type\": \"histogram2dcontour\"}], \"mesh3d\": [{\"colorbar\": {\"outlinewidth\": 0, \"ticks\": \"\"}, \"type\": \"mesh3d\"}], \"parcoords\": [{\"line\": {\"colorbar\": {\"outlinewidth\": 0, \"ticks\": \"\"}}, \"type\": \"parcoords\"}], \"pie\": [{\"automargin\": true, \"type\": \"pie\"}], \"scatter\": [{\"marker\": {\"line\": {\"color\": \"#283442\"}}, \"type\": \"scatter\"}], \"scatter3d\": [{\"line\": {\"colorbar\": {\"outlinewidth\": 0, \"ticks\": \"\"}}, \"marker\": {\"colorbar\": {\"outlinewidth\": 0, \"ticks\": \"\"}}, \"type\": \"scatter3d\"}], \"scattercarpet\": [{\"marker\": {\"colorbar\": {\"outlinewidth\": 0, \"ticks\": \"\"}}, \"type\": \"scattercarpet\"}], \"scattergeo\": [{\"marker\": {\"colorbar\": {\"outlinewidth\": 0, \"ticks\": \"\"}}, \"type\": \"scattergeo\"}], \"scattergl\": [{\"marker\": {\"line\": {\"color\": \"#283442\"}}, \"type\": \"scattergl\"}], \"scattermapbox\": [{\"marker\": {\"colorbar\": {\"outlinewidth\": 0, \"ticks\": \"\"}}, \"type\": \"scattermapbox\"}], \"scatterpolar\": [{\"marker\": {\"colorbar\": {\"outlinewidth\": 0, \"ticks\": \"\"}}, \"type\": \"scatterpolar\"}], \"scatterpolargl\": [{\"marker\": {\"colorbar\": {\"outlinewidth\": 0, \"ticks\": \"\"}}, \"type\": \"scatterpolargl\"}], \"scatterternary\": [{\"marker\": {\"colorbar\": {\"outlinewidth\": 0, \"ticks\": \"\"}}, \"type\": \"scatterternary\"}], \"surface\": [{\"colorbar\": {\"outlinewidth\": 0, \"ticks\": \"\"}, \"colorscale\": [[0.0, \"#0d0887\"], [0.1111111111111111, \"#46039f\"], [0.2222222222222222, \"#7201a8\"], [0.3333333333333333, \"#9c179e\"], [0.4444444444444444, \"#bd3786\"], [0.5555555555555556, \"#d8576b\"], [0.6666666666666666, \"#ed7953\"], [0.7777777777777778, \"#fb9f3a\"], [0.8888888888888888, \"#fdca26\"], [1.0, \"#f0f921\"]], \"type\": \"surface\"}], \"table\": [{\"cells\": {\"fill\": {\"color\": \"#506784\"}, \"line\": {\"color\": \"rgb(17,17,17)\"}}, \"header\": {\"fill\": {\"color\": \"#2a3f5f\"}, \"line\": {\"color\": \"rgb(17,17,17)\"}}, \"type\": \"table\"}]}, \"layout\": {\"annotationdefaults\": {\"arrowcolor\": \"#f2f5fa\", \"arrowhead\": 0, \"arrowwidth\": 1}, \"coloraxis\": {\"colorbar\": {\"outlinewidth\": 0, \"ticks\": \"\"}}, \"colorscale\": {\"diverging\": [[0, \"#8e0152\"], [0.1, \"#c51b7d\"], [0.2, \"#de77ae\"], [0.3, \"#f1b6da\"], [0.4, \"#fde0ef\"], [0.5, \"#f7f7f7\"], [0.6, \"#e6f5d0\"], [0.7, \"#b8e186\"], [0.8, \"#7fbc41\"], [0.9, \"#4d9221\"], [1, \"#276419\"]], \"sequential\": [[0.0, \"#0d0887\"], [0.1111111111111111, \"#46039f\"], [0.2222222222222222, \"#7201a8\"], [0.3333333333333333, \"#9c179e\"], [0.4444444444444444, \"#bd3786\"], [0.5555555555555556, \"#d8576b\"], [0.6666666666666666, \"#ed7953\"], [0.7777777777777778, \"#fb9f3a\"], [0.8888888888888888, \"#fdca26\"], [1.0, \"#f0f921\"]], \"sequentialminus\": [[0.0, \"#0d0887\"], [0.1111111111111111, \"#46039f\"], [0.2222222222222222, \"#7201a8\"], [0.3333333333333333, \"#9c179e\"], [0.4444444444444444, \"#bd3786\"], [0.5555555555555556, \"#d8576b\"], [0.6666666666666666, \"#ed7953\"], [0.7777777777777778, \"#fb9f3a\"], [0.8888888888888888, \"#fdca26\"], [1.0, \"#f0f921\"]]}, \"colorway\": [\"#636efa\", \"#EF553B\", \"#00cc96\", \"#ab63fa\", \"#FFA15A\", \"#19d3f3\", \"#FF6692\", \"#B6E880\", \"#FF97FF\", \"#FECB52\"], \"font\": {\"color\": \"#f2f5fa\"}, \"geo\": {\"bgcolor\": \"rgb(17,17,17)\", \"lakecolor\": \"rgb(17,17,17)\", \"landcolor\": \"rgb(17,17,17)\", \"showlakes\": true, \"showland\": true, \"subunitcolor\": \"#506784\"}, \"hoverlabel\": {\"align\": \"left\"}, \"hovermode\": \"closest\", \"mapbox\": {\"style\": \"dark\"}, \"paper_bgcolor\": \"rgb(17,17,17)\", \"plot_bgcolor\": \"rgb(17,17,17)\", \"polar\": {\"angularaxis\": {\"gridcolor\": \"#506784\", \"linecolor\": \"#506784\", \"ticks\": \"\"}, \"bgcolor\": \"rgb(17,17,17)\", \"radialaxis\": {\"gridcolor\": \"#506784\", \"linecolor\": \"#506784\", \"ticks\": \"\"}}, \"scene\": {\"xaxis\": {\"backgroundcolor\": \"rgb(17,17,17)\", \"gridcolor\": \"#506784\", \"gridwidth\": 2, \"linecolor\": \"#506784\", \"showbackground\": true, \"ticks\": \"\", \"zerolinecolor\": \"#C8D4E3\"}, \"yaxis\": {\"backgroundcolor\": \"rgb(17,17,17)\", \"gridcolor\": \"#506784\", \"gridwidth\": 2, \"linecolor\": \"#506784\", \"showbackground\": true, \"ticks\": \"\", \"zerolinecolor\": \"#C8D4E3\"}, \"zaxis\": {\"backgroundcolor\": \"rgb(17,17,17)\", \"gridcolor\": \"#506784\", \"gridwidth\": 2, \"linecolor\": \"#506784\", \"showbackground\": true, \"ticks\": \"\", \"zerolinecolor\": \"#C8D4E3\"}}, \"shapedefaults\": {\"line\": {\"color\": \"#f2f5fa\"}}, \"sliderdefaults\": {\"bgcolor\": \"#C8D4E3\", \"bordercolor\": \"rgb(17,17,17)\", \"borderwidth\": 1, \"tickwidth\": 0}, \"ternary\": {\"aaxis\": {\"gridcolor\": \"#506784\", \"linecolor\": \"#506784\", \"ticks\": \"\"}, \"baxis\": {\"gridcolor\": \"#506784\", \"linecolor\": \"#506784\", \"ticks\": \"\"}, \"bgcolor\": \"rgb(17,17,17)\", \"caxis\": {\"gridcolor\": \"#506784\", \"linecolor\": \"#506784\", \"ticks\": \"\"}}, \"title\": {\"x\": 0.05}, \"updatemenudefaults\": {\"bgcolor\": \"#506784\", \"borderwidth\": 0}, \"xaxis\": {\"automargin\": true, \"gridcolor\": \"#283442\", \"linecolor\": \"#506784\", \"ticks\": \"\", \"title\": {\"standoff\": 15}, \"zerolinecolor\": \"#283442\", \"zerolinewidth\": 2}, \"yaxis\": {\"automargin\": true, \"gridcolor\": \"#283442\", \"linecolor\": \"#506784\", \"ticks\": \"\", \"title\": {\"standoff\": 15}, \"zerolinecolor\": \"#283442\", \"zerolinewidth\": 2}}}, \"title\": {\"text\": \"Scatter Geo \"}},\n",
              "                        {\"responsive\": true}\n",
              "                    ).then(function(){\n",
              "                            \n",
              "var gd = document.getElementById('9752a07f-b0c5-434b-ad0b-90232dfbd55f');\n",
              "var x = new MutationObserver(function (mutations, observer) {{\n",
              "        var display = window.getComputedStyle(gd).display;\n",
              "        if (!display || display === 'none') {{\n",
              "            console.log([gd, 'removed!']);\n",
              "            Plotly.purge(gd);\n",
              "            observer.disconnect();\n",
              "        }}\n",
              "}});\n",
              "\n",
              "// Listen for the removal of the full notebook cells\n",
              "var notebookContainer = gd.closest('#notebook-container');\n",
              "if (notebookContainer) {{\n",
              "    x.observe(notebookContainer, {childList: true});\n",
              "}}\n",
              "\n",
              "// Listen for the clearing of the current output cell\n",
              "var outputEl = gd.closest('.output');\n",
              "if (outputEl) {{\n",
              "    x.observe(outputEl, {childList: true});\n",
              "}}\n",
              "\n",
              "                        })\n",
              "                };\n",
              "                \n",
              "            </script>\n",
              "        </div>\n",
              "</body>\n",
              "</html>"
            ]
          },
          "metadata": {
            "tags": []
          }
        }
      ]
    },
    {
      "cell_type": "code",
      "metadata": {
        "colab": {
          "base_uri": "https://localhost:8080/"
        },
        "id": "0s64q6DeK7km",
        "outputId": "6cd4e52d-3966-4d0d-acf3-d823c80d9326"
      },
      "source": [
        "!pip install jupyter-dash"
      ],
      "execution_count": 18,
      "outputs": [
        {
          "output_type": "stream",
          "text": [
            "Collecting jupyter-dash\n",
            "  Downloading https://files.pythonhosted.org/packages/46/21/d3893ad0b7a7061115938d6c38f5862522d45c4199fb7e8fde0765781e13/jupyter_dash-0.4.0-py3-none-any.whl\n",
            "Requirement already satisfied: flask in /usr/local/lib/python3.7/dist-packages (from jupyter-dash) (1.1.2)\n",
            "Requirement already satisfied: ipython in /usr/local/lib/python3.7/dist-packages (from jupyter-dash) (5.5.0)\n",
            "Requirement already satisfied: ipykernel in /usr/local/lib/python3.7/dist-packages (from jupyter-dash) (4.10.1)\n",
            "Collecting dash\n",
            "\u001b[?25l  Downloading https://files.pythonhosted.org/packages/d4/50/e7c2830168db186f84b7de2988543e974433a6cdb0a0b23d51c781e2b2ab/dash-1.20.0.tar.gz (77kB)\n",
            "\u001b[K     |████████████████████████████████| 81kB 8.8MB/s \n",
            "\u001b[?25hRequirement already satisfied: requests in /usr/local/lib/python3.7/dist-packages (from jupyter-dash) (2.23.0)\n",
            "Collecting ansi2html\n",
            "  Downloading https://files.pythonhosted.org/packages/c6/85/3a46be84afbb16b392a138cd396117f438c7b2e91d8dc327621d1ae1b5dc/ansi2html-1.6.0-py3-none-any.whl\n",
            "Requirement already satisfied: retrying in /usr/local/lib/python3.7/dist-packages (from jupyter-dash) (1.3.3)\n",
            "Requirement already satisfied: click>=5.1 in /usr/local/lib/python3.7/dist-packages (from flask->jupyter-dash) (7.1.2)\n",
            "Requirement already satisfied: Jinja2>=2.10.1 in /usr/local/lib/python3.7/dist-packages (from flask->jupyter-dash) (2.11.3)\n",
            "Requirement already satisfied: itsdangerous>=0.24 in /usr/local/lib/python3.7/dist-packages (from flask->jupyter-dash) (1.1.0)\n",
            "Requirement already satisfied: Werkzeug>=0.15 in /usr/local/lib/python3.7/dist-packages (from flask->jupyter-dash) (1.0.1)\n",
            "Requirement already satisfied: simplegeneric>0.8 in /usr/local/lib/python3.7/dist-packages (from ipython->jupyter-dash) (0.8.1)\n",
            "Requirement already satisfied: pygments in /usr/local/lib/python3.7/dist-packages (from ipython->jupyter-dash) (2.6.1)\n",
            "Requirement already satisfied: traitlets>=4.2 in /usr/local/lib/python3.7/dist-packages (from ipython->jupyter-dash) (5.0.5)\n",
            "Requirement already satisfied: setuptools>=18.5 in /usr/local/lib/python3.7/dist-packages (from ipython->jupyter-dash) (56.0.0)\n",
            "Requirement already satisfied: decorator in /usr/local/lib/python3.7/dist-packages (from ipython->jupyter-dash) (4.4.2)\n",
            "Requirement already satisfied: pexpect; sys_platform != \"win32\" in /usr/local/lib/python3.7/dist-packages (from ipython->jupyter-dash) (4.8.0)\n",
            "Requirement already satisfied: pickleshare in /usr/local/lib/python3.7/dist-packages (from ipython->jupyter-dash) (0.7.5)\n",
            "Requirement already satisfied: prompt-toolkit<2.0.0,>=1.0.4 in /usr/local/lib/python3.7/dist-packages (from ipython->jupyter-dash) (1.0.18)\n",
            "Requirement already satisfied: jupyter-client in /usr/local/lib/python3.7/dist-packages (from ipykernel->jupyter-dash) (5.3.5)\n",
            "Requirement already satisfied: tornado>=4.0 in /usr/local/lib/python3.7/dist-packages (from ipykernel->jupyter-dash) (5.1.1)\n",
            "Collecting flask-compress\n",
            "  Downloading https://files.pythonhosted.org/packages/c6/d5/69b13600230d24310b98a52da561113fc01a5c17acf77152761eef3e50f1/Flask_Compress-1.9.0-py3-none-any.whl\n",
            "Requirement already satisfied: plotly in /usr/local/lib/python3.7/dist-packages (from dash->jupyter-dash) (4.4.1)\n",
            "Collecting dash_renderer==1.9.1\n",
            "\u001b[?25l  Downloading https://files.pythonhosted.org/packages/5f/d3/d661a68b4ce71498d5c0c79617bce3d5fc884d4448c698f77c2247cd1b46/dash_renderer-1.9.1.tar.gz (1.0MB)\n",
            "\u001b[K     |████████████████████████████████| 1.0MB 40.0MB/s \n",
            "\u001b[?25hCollecting dash-core-components==1.16.0\n",
            "\u001b[?25l  Downloading https://files.pythonhosted.org/packages/f4/79/434e14d77dbf82b27f98df077936a424de254059d47152b0445b7116e97e/dash_core_components-1.16.0.tar.gz (3.5MB)\n",
            "\u001b[K     |████████████████████████████████| 3.5MB 41.7MB/s \n",
            "\u001b[?25hCollecting dash-html-components==1.1.3\n",
            "\u001b[?25l  Downloading https://files.pythonhosted.org/packages/8f/ca/7eeca4cae4e15cc6f7d0bc41a46368dd3fcdddc72aaa5bac61a8b92d541c/dash_html_components-1.1.3.tar.gz (82kB)\n",
            "\u001b[K     |████████████████████████████████| 92kB 10.3MB/s \n",
            "\u001b[?25hCollecting dash-table==4.11.3\n",
            "\u001b[?25l  Downloading https://files.pythonhosted.org/packages/97/f7/f4969a926f20a55d3e5970d01b85ff9ad510dba32de189e72dd8f4992740/dash_table-4.11.3.tar.gz (1.8MB)\n",
            "\u001b[K     |████████████████████████████████| 1.8MB 49.2MB/s \n",
            "\u001b[?25hRequirement already satisfied: future in /usr/local/lib/python3.7/dist-packages (from dash->jupyter-dash) (0.16.0)\n",
            "Requirement already satisfied: certifi>=2017.4.17 in /usr/local/lib/python3.7/dist-packages (from requests->jupyter-dash) (2020.12.5)\n",
            "Requirement already satisfied: urllib3!=1.25.0,!=1.25.1,<1.26,>=1.21.1 in /usr/local/lib/python3.7/dist-packages (from requests->jupyter-dash) (1.24.3)\n",
            "Requirement already satisfied: idna<3,>=2.5 in /usr/local/lib/python3.7/dist-packages (from requests->jupyter-dash) (2.10)\n",
            "Requirement already satisfied: chardet<4,>=3.0.2 in /usr/local/lib/python3.7/dist-packages (from requests->jupyter-dash) (3.0.4)\n",
            "Requirement already satisfied: six>=1.7.0 in /usr/local/lib/python3.7/dist-packages (from retrying->jupyter-dash) (1.15.0)\n",
            "Requirement already satisfied: MarkupSafe>=0.23 in /usr/local/lib/python3.7/dist-packages (from Jinja2>=2.10.1->flask->jupyter-dash) (1.1.1)\n",
            "Requirement already satisfied: ipython-genutils in /usr/local/lib/python3.7/dist-packages (from traitlets>=4.2->ipython->jupyter-dash) (0.2.0)\n",
            "Requirement already satisfied: ptyprocess>=0.5 in /usr/local/lib/python3.7/dist-packages (from pexpect; sys_platform != \"win32\"->ipython->jupyter-dash) (0.7.0)\n",
            "Requirement already satisfied: wcwidth in /usr/local/lib/python3.7/dist-packages (from prompt-toolkit<2.0.0,>=1.0.4->ipython->jupyter-dash) (0.2.5)\n",
            "Requirement already satisfied: python-dateutil>=2.1 in /usr/local/lib/python3.7/dist-packages (from jupyter-client->ipykernel->jupyter-dash) (2.8.1)\n",
            "Requirement already satisfied: jupyter-core>=4.6.0 in /usr/local/lib/python3.7/dist-packages (from jupyter-client->ipykernel->jupyter-dash) (4.7.1)\n",
            "Requirement already satisfied: pyzmq>=13 in /usr/local/lib/python3.7/dist-packages (from jupyter-client->ipykernel->jupyter-dash) (22.0.3)\n",
            "Collecting brotli\n",
            "\u001b[?25l  Downloading https://files.pythonhosted.org/packages/15/ea/5bd575511b37bbd1c794606a0a621e6feff8e96b7dd007a86a5d218b2d94/Brotli-1.0.9-cp37-cp37m-manylinux1_x86_64.whl (357kB)\n",
            "\u001b[K     |████████████████████████████████| 358kB 47.3MB/s \n",
            "\u001b[?25hBuilding wheels for collected packages: dash, dash-renderer, dash-core-components, dash-html-components, dash-table\n",
            "  Building wheel for dash (setup.py) ... \u001b[?25l\u001b[?25hdone\n",
            "  Created wheel for dash: filename=dash-1.20.0-cp37-none-any.whl size=85834 sha256=f5dda51766f7d4d67ab2966b3bfe6e4011bc3b89bd41d4ac70ff214b24dca415\n",
            "  Stored in directory: /root/.cache/pip/wheels/e6/33/41/ce361d0d1da277d2350f815b10f2ab1e331592d93ef2b07e29\n",
            "  Building wheel for dash-renderer (setup.py) ... \u001b[?25l\u001b[?25hdone\n",
            "  Created wheel for dash-renderer: filename=dash_renderer-1.9.1-cp37-none-any.whl size=1014875 sha256=bbe001262d648948530379ae301174b05f0db808a56134a8f8014f541f3776dd\n",
            "  Stored in directory: /root/.cache/pip/wheels/03/a9/c5/dd5815c601b0ede164c223ffd7bafebde716ca57de06ef8aec\n",
            "  Building wheel for dash-core-components (setup.py) ... \u001b[?25l\u001b[?25hdone\n",
            "  Created wheel for dash-core-components: filename=dash_core_components-1.16.0-cp37-none-any.whl size=3540993 sha256=2b7fd77678eb3a3bf0c169039692a127deed60232779e69da6d2f906586d54fa\n",
            "  Stored in directory: /root/.cache/pip/wheels/86/1e/8c/e87ebba30b73c20dcd641224274febc983af88ed0fd7712a07\n",
            "  Building wheel for dash-html-components (setup.py) ... \u001b[?25l\u001b[?25hdone\n",
            "  Created wheel for dash-html-components: filename=dash_html_components-1.1.3-cp37-none-any.whl size=319471 sha256=b4235b3fcbb5471199108b934f8b234b5753b8b1cc47a9456a670f897345a9ee\n",
            "  Stored in directory: /root/.cache/pip/wheels/07/f9/6c/f9b73a6ae1b7f347a92dc240293cebc267b370ba2a80added2\n",
            "  Building wheel for dash-table (setup.py) ... \u001b[?25l\u001b[?25hdone\n",
            "  Created wheel for dash-table: filename=dash_table-4.11.3-cp37-none-any.whl size=1827619 sha256=ad48590fb08998eacd4204a81229294a849b18c7c0f4adfa3609e48d09fddc2c\n",
            "  Stored in directory: /root/.cache/pip/wheels/51/9b/89/374be1bc250e28a15edbd657cf364f163e392ba5257bfd0e87\n",
            "Successfully built dash dash-renderer dash-core-components dash-html-components dash-table\n",
            "Installing collected packages: brotli, flask-compress, dash-renderer, dash-core-components, dash-html-components, dash-table, dash, ansi2html, jupyter-dash\n",
            "Successfully installed ansi2html-1.6.0 brotli-1.0.9 dash-1.20.0 dash-core-components-1.16.0 dash-html-components-1.1.3 dash-renderer-1.9.1 dash-table-4.11.3 flask-compress-1.9.0 jupyter-dash-0.4.0\n"
          ],
          "name": "stdout"
        }
      ]
    },
    {
      "cell_type": "code",
      "metadata": {
        "id": "W5jT7sxG0IO4"
      },
      "source": [
        "from jupyter_dash import JupyterDash\n",
        "import dash_core_components as dcc\n",
        "import dash_html_components as html\n",
        "from dash.dependencies import Input, Output# Load Data"
      ],
      "execution_count": 19,
      "outputs": []
    },
    {
      "cell_type": "code",
      "metadata": {
        "id": "kkNhPUvL0Cs1"
      },
      "source": [
        "import plotly.graph_objects as go # or plotly.express as px\n",
        "import base64\n",
        "fig1 = go.Figure(figa)   # or any Plotly Express function e.g. px.bar(...)\n",
        "fig2 = go.Figure(figb)\n",
        "fig3 = go.Figure(figc)\n",
        "\n",
        "app = JupyterDash(__name__)\n",
        "app.layout = html.Div([\n",
        "    html.H1(\"Covid 19 Dashboard  \"),\n",
        "    html.H2(\"Covid 19 \"),\n",
        "    html.P(\"The **coronavirus (COVID-19)** pandemic is the greatest global humanitarian challenge the world has faced since World War II. The pandemic virus has spread widely, and the number of cases is rising daily. The government is working to slow down its spread. 'Novel coronavirus' is a new, previously unidentified strain of coronavirus. The novel coronavirus involved in the current outbreak has been named SARS-CoV-2 by the World Health Organization (WHO). 3The disease it causes has been named “coronavirus disease 2019” (or “COVID-19”).`\"),\n",
        "    dcc.Graph(figure=fig1),\n",
        "    dcc.Graph(figure=fig2),\n",
        "    dcc.Graph(figure=fig3),\n",
        "])"
      ],
      "execution_count": 21,
      "outputs": []
    },
    {
      "cell_type": "code",
      "metadata": {
        "id": "BAYVBlOw1woU",
        "colab": {
          "base_uri": "https://localhost:8080/",
          "height": 51
        },
        "outputId": "c5ba98c6-d73a-43d2-e141-921ace4bda85"
      },
      "source": [
        "app.run_server(mode='external')"
      ],
      "execution_count": 22,
      "outputs": [
        {
          "output_type": "stream",
          "text": [
            "Dash app running on:\n"
          ],
          "name": "stdout"
        },
        {
          "output_type": "display_data",
          "data": {
            "application/javascript": [
              "(async (port, path, text, element) => {\n",
              "    if (!google.colab.kernel.accessAllowed) {\n",
              "      return;\n",
              "    }\n",
              "    element.appendChild(document.createTextNode(''));\n",
              "    const url = await google.colab.kernel.proxyPort(port);\n",
              "    const anchor = document.createElement('a');\n",
              "    anchor.href = url + path;\n",
              "    anchor.target = '_blank';\n",
              "    anchor.setAttribute('data-href', url + path);\n",
              "    anchor.textContent = text;\n",
              "    element.appendChild(anchor);\n",
              "  })(8050, \"/\", \"http://127.0.0.1:8050/\", window.element)"
            ],
            "text/plain": [
              "<IPython.core.display.Javascript object>"
            ]
          },
          "metadata": {
            "tags": []
          }
        }
      ]
    },
    {
      "cell_type": "code",
      "metadata": {
        "id": "b_8C91UW3RAA"
      },
      "source": [
        ""
      ],
      "execution_count": null,
      "outputs": []
    }
  ]
}